{
  "nbformat": 4,
  "nbformat_minor": 0,
  "metadata": {
    "colab": {
      "name": "audioai_playground.ipynb",
      "version": "0.3.2",
      "provenance": [],
      "toc_visible": true,
      "include_colab_link": true
    },
    "kernelspec": {
      "name": "python3",
      "display_name": "Python 3"
    }
  },
  "cells": [
    {
      "cell_type": "markdown",
      "metadata": {
        "id": "view-in-github",
        "colab_type": "text"
      },
      "source": [
        "<a href=\"https://colab.research.google.com/github/mtedder/AudioAI-Project/blob/master/notebooks/audioai_playground.ipynb\" target=\"_parent\"><img src=\"https://colab.research.google.com/assets/colab-badge.svg\" alt=\"Open In Colab\"/></a>"
      ]
    },
    {
      "cell_type": "markdown",
      "metadata": {
        "id": "pypo7IZFw8wm",
        "colab_type": "text"
      },
      "source": [
        "#Vinyl Audio QC AI/ML\n",
        "This notebook documents most of the librosa library functions that may be needed to extract features to build a ML model to detect quality control defects in Vinyl records\n",
        "The goal is detect the following audio QC metrics\n",
        "*   Skips\n",
        "*   Jumps\n",
        "*   Sticks\n",
        "*  Intrusive background noise\n",
        "\n",
        "\n",
        "\n"
      ]
    },
    {
      "cell_type": "markdown",
      "metadata": {
        "id": "-0enlk7JxkBE",
        "colab_type": "text"
      },
      "source": [
        "##1. Imports"
      ]
    },
    {
      "cell_type": "code",
      "metadata": {
        "id": "X5s1eeNiLU7B",
        "colab_type": "code",
        "colab": {}
      },
      "source": [
        "#Create required directories\n",
        "!mkdir annotations\n",
        "!mkdir data\n",
        "!mkdir sound_files"
      ],
      "execution_count": 0,
      "outputs": []
    },
    {
      "cell_type": "code",
      "metadata": {
        "id": "_oX7PAmaw2lr",
        "colab_type": "code",
        "colab": {}
      },
      "source": [
        "# Ref: https://librosa.github.io/librosa/index.html\n",
        "import librosa\n",
        "import librosa.display\n",
        "import numpy as np\n",
        "\n",
        "# Import the `pyplot` module\n",
        "import matplotlib.pyplot as plt"
      ],
      "execution_count": 0,
      "outputs": []
    },
    {
      "cell_type": "markdown",
      "metadata": {
        "id": "M5brxPh0x9vL",
        "colab_type": "text"
      },
      "source": [
        "##2. Data Preparation"
      ]
    },
    {
      "cell_type": "markdown",
      "metadata": {
        "id": "d6fRmOwkoGuo",
        "colab_type": "text"
      },
      "source": [
        "###Load sample audio from file"
      ]
    },
    {
      "cell_type": "code",
      "metadata": {
        "id": "zRUjS5bzyGfH",
        "colab_type": "code",
        "colab": {}
      },
      "source": [
        "# 2. Load the audio as a waveform `y`\n",
        "#    Store the sampling rate as `sr`\n",
        "SOUND_FILE = \"sound_files/ramsey_lewis_maiden_voyage_trim.wav\"\n",
        "filename = SOUND_FILE\n",
        "y, sr = librosa.load(filename)"
      ],
      "execution_count": 0,
      "outputs": []
    },
    {
      "cell_type": "markdown",
      "metadata": {
        "id": "Hiu71xZ3oLso",
        "colab_type": "text"
      },
      "source": [
        "###Load sample audio from library examples"
      ]
    },
    {
      "cell_type": "code",
      "metadata": {
        "id": "hZZumHZxAF0K",
        "colab_type": "code",
        "colab": {}
      },
      "source": [
        "# Alternate sound sample for testing examples\n",
        "y, sr = librosa.load(librosa.util.example_audio_file(), offset=10, duration=15)"
      ],
      "execution_count": 0,
      "outputs": []
    },
    {
      "cell_type": "markdown",
      "metadata": {
        "id": "CqmBQZsUJ0iR",
        "colab_type": "text"
      },
      "source": [
        "#librosa functions"
      ]
    },
    {
      "cell_type": "markdown",
      "metadata": {
        "id": "SFX4cqjHKIYG",
        "colab_type": "text"
      },
      "source": [
        "##Spectral representations\n",
        "[Core Ref:](https://librosa.github.io/librosa/core.html)"
      ]
    },
    {
      "cell_type": "markdown",
      "metadata": {
        "id": "lIeR9gqTMdkE",
        "colab_type": "text"
      },
      "source": [
        "### stft\n",
        "Short-time Fourier transform (STFT)\n",
        "\n",
        "[Ref link](https://librosa.github.io/librosa/generated/librosa.core.stft.html#librosa-core-stft)"
      ]
    },
    {
      "cell_type": "code",
      "metadata": {
        "id": "SvmzebhcKOVQ",
        "colab_type": "code",
        "colab": {}
      },
      "source": [
        "D = np.abs(librosa.stft(y))\n",
        "D"
      ],
      "execution_count": 0,
      "outputs": []
    },
    {
      "cell_type": "code",
      "metadata": {
        "id": "gH63pq7ZNHyG",
        "colab_type": "code",
        "colab": {}
      },
      "source": [
        "# Display a spectrogram\n",
        "librosa.display.specshow(librosa.amplitude_to_db(D,ref=np.max),y_axis='log', x_axis='time')\n",
        "plt.title('Power spectrogram')\n",
        "plt.colorbar(format='%+2.0f dB')\n",
        "plt.tight_layout()"
      ],
      "execution_count": 0,
      "outputs": []
    },
    {
      "cell_type": "markdown",
      "metadata": {
        "id": "VaAu-kVeOTem",
        "colab_type": "text"
      },
      "source": [
        "### istft\n",
        "Inverse short-time Fourier transform (ISTFT).\n",
        "\n",
        "[Ref link](https://librosa.github.io/librosa/generated/librosa.core.istft.html#librosa-core-istft)"
      ]
    },
    {
      "cell_type": "code",
      "metadata": {
        "id": "pxYWwvINO0ky",
        "colab_type": "code",
        "colab": {}
      },
      "source": [
        "y_hat = librosa.istft(D)\n",
        "y_hat"
      ],
      "execution_count": 0,
      "outputs": []
    },
    {
      "cell_type": "markdown",
      "metadata": {
        "id": "Bns2vW_UPD9v",
        "colab_type": "text"
      },
      "source": [
        "### ifgram\n",
        "Compute the instantaneous frequency (as a proportion of the sampling rate) obtained as the time-derivative of the phase of the complex spectrum as described by [1].\n",
        "\n",
        "[Ref link](https://librosa.github.io/librosa/generated/librosa.core.ifgram.html#librosa-core-ifgram)"
      ]
    },
    {
      "cell_type": "code",
      "metadata": {
        "id": "nFDUu0HePT3N",
        "colab_type": "code",
        "colab": {}
      },
      "source": [
        "frequencies, D = librosa.ifgram(y, sr=sr)\n",
        "frequencies"
      ],
      "execution_count": 0,
      "outputs": []
    },
    {
      "cell_type": "markdown",
      "metadata": {
        "id": "tulzQEUh_9kw",
        "colab_type": "text"
      },
      "source": [
        "### cqt\n",
        "Compute the constant-Q transform of an audio signal.\n",
        "\n",
        "[Ref link](https://librosa.github.io/librosa/generated/librosa.core.cqt.html#librosa-core-cqt)"
      ]
    },
    {
      "cell_type": "code",
      "metadata": {
        "id": "9fGq02TSAT9M",
        "colab_type": "code",
        "colab": {}
      },
      "source": [
        "C = np.abs(librosa.cqt(y, sr=sr))\n",
        "librosa.display.specshow(librosa.amplitude_to_db(C, ref=np.max),\n",
        "                        sr=sr, x_axis='time', y_axis='cqt_note')\n",
        "plt.colorbar(format='%+2.0f dB')\n",
        "plt.title('Constant-Q power spectrum')\n",
        "plt.tight_layout()"
      ],
      "execution_count": 0,
      "outputs": []
    },
    {
      "cell_type": "markdown",
      "metadata": {
        "id": "MNrHoirMA9_N",
        "colab_type": "text"
      },
      "source": [
        "### icqt\n",
        "Compute the inverse constant-Q transform.\n",
        "\n",
        "Given a constant-Q transform representation C of an audio signal y, this function produces an approximation y_hat.\n",
        "\n",
        "[Ref link](https://librosa.github.io/librosa/generated/librosa.core.icqt.html#librosa-core-icqt)"
      ]
    },
    {
      "cell_type": "code",
      "metadata": {
        "id": "swor8CLSBP4e",
        "colab_type": "code",
        "colab": {}
      },
      "source": [
        "C = librosa.cqt(y=y, sr=sr)\n",
        "y_hat = librosa.icqt(C=C, sr=sr)"
      ],
      "execution_count": 0,
      "outputs": []
    },
    {
      "cell_type": "markdown",
      "metadata": {
        "id": "GpnSUuvNBq3p",
        "colab_type": "text"
      },
      "source": [
        "### hybrid_cqt\n",
        "Compute the hybrid constant-Q transform of an audio signal.\n",
        "\n",
        "Here, the hybrid CQT uses the pseudo CQT for higher frequencies where the hop_length is longer than half the filter length and the full CQT for lower frequencies.\n",
        "\n",
        "[Ref link](https://librosa.github.io/librosa/generated/librosa.core.hybrid_cqt.html#librosa-core-hybrid-cqt)"
      ]
    },
    {
      "cell_type": "code",
      "metadata": {
        "id": "CTqQwjY_BjIJ",
        "colab_type": "code",
        "colab": {}
      },
      "source": [
        "C = librosa.hybrid_cqt(y=y, sr=sr)\n",
        "C"
      ],
      "execution_count": 0,
      "outputs": []
    },
    {
      "cell_type": "markdown",
      "metadata": {
        "id": "X6Czt46aDS3H",
        "colab_type": "text"
      },
      "source": [
        "### pseudo_cqt\n",
        "Compute the pseudo constant-Q transform of an audio signal.\n",
        "\n",
        "This uses a single fft size that is the smallest power of 2 that is greater than or equal to the max of:\n",
        "\n",
        "1.  The longest CQT filter\n",
        "2.   2x the hop_length\n",
        "\n",
        "[Ref link](https://librosa.github.io/librosa/generated/librosa.core.pseudo_cqt.html#librosa-core-pseudo-cqt)"
      ]
    },
    {
      "cell_type": "code",
      "metadata": {
        "id": "1B8qwLS1Dux8",
        "colab_type": "code",
        "colab": {}
      },
      "source": [
        "C = librosa.pseudo_cqt(y=y, sr=sr)\n",
        "C"
      ],
      "execution_count": 0,
      "outputs": []
    },
    {
      "cell_type": "markdown",
      "metadata": {
        "id": "ED9aIsYhEByO",
        "colab_type": "text"
      },
      "source": [
        "### iirt\n",
        "Time-frequency representation using IIR filters [1].\n",
        "\n",
        "This function will return a time-frequency representation using a multirate filter bank consisting of IIR filters. First, y is resampled as needed according to the provided sample_rates. Then, a filterbank with with n band-pass filters is designed. The resampled input signals are processed by the filterbank as a whole. (scipy.signal.filtfilt resp. sosfiltfilt is used to make the phase linear.) The output of the filterbank is cut into frames. For each band, the short-time mean-square power (STMSP) is calculated by summing win_length subsequent filtered time samples.\n",
        "\n",
        "When called with the default set of parameters, it will generate the TF-representation as described in [1] (pitch filterbank):\n",
        "\n",
        "        85 filters with MIDI pitches [24, 108] as center_freqs.\n",
        "        each filter having a bandwith of one semitone.\n",
        "\n",
        "[Ref link](https://librosa.github.io/librosa/generated/librosa.core.iirt.html#librosa-core-iirt)"
      ]
    },
    {
      "cell_type": "code",
      "metadata": {
        "id": "Prupnd1SEWW3",
        "colab_type": "code",
        "colab": {}
      },
      "source": [
        "D = np.abs(librosa.iirt(y))\n",
        "librosa.display.specshow(librosa.amplitude_to_db(D, ref=np.max),\n",
        "                       y_axis='cqt_hz', x_axis='time')\n",
        "plt.title('Semitone spectrogram')\n",
        "plt.colorbar(format='%+2.0f dB')\n",
        "plt.tight_layout()"
      ],
      "execution_count": 0,
      "outputs": []
    },
    {
      "cell_type": "markdown",
      "metadata": {
        "id": "PPWuVNAZGTHV",
        "colab_type": "text"
      },
      "source": [
        "### fmt\n",
        "The fast Mellin transform (FMT) [1] of a uniformly sampled signal y.\n",
        "\n",
        "When the Mellin parameter (beta) is 1/2, it is also known as the scale transform [2]. The scale transform can be useful for audio analysis because its magnitude is invariant to scaling of the domain (e.g., time stretching or compression). This is analogous to the magnitude of the Fourier transform being invariant to shifts in the input domain.\n",
        "\n",
        "[Ref link](https://librosa.github.io/librosa/generated/librosa.core.fmt.html#librosa-core-fmt)\n"
      ]
    },
    {
      "cell_type": "code",
      "metadata": {
        "id": "oTldTbDkGlGl",
        "colab_type": "code",
        "colab": {}
      },
      "source": [
        "# Generate a signal and time-stretch it (with energy normalization)\n",
        "scale = 1.25\n",
        "freq = 3.0\n",
        "x1 = np.linspace(0, 1, num=1024, endpoint=False)\n",
        "x2 = np.linspace(0, 1, num=scale * len(x1), endpoint=False)\n",
        "y1 = np.sin(2 * np.pi * freq * x1)\n",
        "y2 = np.sin(2 * np.pi * freq * x2) / np.sqrt(scale)\n",
        "# Verify that the two signals have the same energy\n",
        "np.sum(np.abs(y1)**2), np.sum(np.abs(y2)**2)\n",
        "# (255.99999999999997, 255.99999999999969)\n",
        "scale1 = librosa.fmt(y1, n_fmt=512)\n",
        "scale2 = librosa.fmt(y2, n_fmt=512)\n",
        "# And plot the results\n",
        "plt.figure(figsize=(8, 4))\n",
        "plt.subplot(1, 2, 1)\n",
        "plt.plot(y1, label='Original')\n",
        "plt.plot(y2, linestyle='--', label='Stretched')\n",
        "plt.xlabel('time (samples)')\n",
        "plt.title('Input signals')\n",
        "plt.legend(frameon=True)\n",
        "plt.axis('tight')\n",
        "plt.subplot(1, 2, 2)\n",
        "plt.semilogy(np.abs(scale1), label='Original')\n",
        "plt.semilogy(np.abs(scale2), linestyle='--', label='Stretched')\n",
        "plt.xlabel('scale coefficients')\n",
        "plt.title('Scale transform magnitude')\n",
        "plt.legend(frameon=True)\n",
        "plt.axis('tight')\n",
        "plt.tight_layout()"
      ],
      "execution_count": 0,
      "outputs": []
    },
    {
      "cell_type": "code",
      "metadata": {
        "id": "XsoLBKBaHbpV",
        "colab_type": "code",
        "colab": {}
      },
      "source": [
        "# Plot the scale transform of an onset strength autocorrelation\n",
        "# y, sr = librosa.load(librosa.util.example_audio_file(),\n",
        "#                       offset=10.0, duration=30.0)\n",
        "odf = librosa.onset.onset_strength(y=y, sr=sr)\n",
        "# Auto-correlate with up to 10 seconds lag\n",
        "odf_ac = librosa.autocorrelate(odf, max_size=10 * sr // 512)\n",
        "# Normalize\n",
        "odf_ac = librosa.util.normalize(odf_ac, norm=np.inf)\n",
        "# Compute the scale transform\n",
        "odf_ac_scale = librosa.fmt(librosa.util.normalize(odf_ac), n_fmt=512)\n",
        "# Plot the results\n",
        "plt.figure()\n",
        "plt.subplot(3, 1, 1)\n",
        "plt.plot(odf, label='Onset strength')\n",
        "plt.axis('tight')\n",
        "plt.xlabel('Time (frames)')\n",
        "plt.xticks([])\n",
        "plt.legend(frameon=True)\n",
        "plt.subplot(3, 1, 2)\n",
        "plt.plot(odf_ac, label='Onset autocorrelation')\n",
        "plt.axis('tight')\n",
        "plt.xlabel('Lag (frames)')\n",
        "plt.xticks([])\n",
        "plt.legend(frameon=True)\n",
        "plt.subplot(3, 1, 3)\n",
        "plt.semilogy(np.abs(odf_ac_scale), label='Scale transform magnitude')\n",
        "plt.axis('tight')\n",
        "plt.xlabel('scale coefficients')\n",
        "plt.legend(frameon=True)\n",
        "plt.tight_layout()"
      ],
      "execution_count": 0,
      "outputs": []
    },
    {
      "cell_type": "markdown",
      "metadata": {
        "id": "ydlV8ONZIHWa",
        "colab_type": "text"
      },
      "source": [
        "### interp_harmonics\n",
        "Compute the energy at harmonics of time-frequency representation.\n",
        "\n",
        "Given a frequency-based energy representation such as a spectrogram or tempogram, this function computes the energy at the chosen harmonics of the frequency axis. (See examples below.) The resulting harmonic array can then be used as input to a salience computation.\n",
        "\n",
        "[Ref link](https://librosa.github.io/librosa/generated/librosa.core.interp_harmonics.html#librosa-core-interp-harmonics)\n"
      ]
    },
    {
      "cell_type": "code",
      "metadata": {
        "id": "jLqv0fizIVg9",
        "colab_type": "code",
        "colab": {}
      },
      "source": [
        "# Compute the time-varying tempogram and average over time\n",
        "tempi = np.mean(librosa.feature.tempogram(y=y, sr=sr), axis=1)\n",
        "# We'll measure the first five harmonics\n",
        "h_range = [1, 2, 3, 4, 5]\n",
        "f_tempo = librosa.tempo_frequencies(len(tempi), sr=sr)\n",
        "# Build the harmonic tensor\n",
        "t_harmonics = librosa.interp_harmonics(tempi, f_tempo, h_range)\n",
        "print(t_harmonics.shape)\n",
        "\n",
        "plt.figure()\n",
        "librosa.display.specshow(t_harmonics, x_axis='tempo', sr=sr)\n",
        "plt.yticks(0.5 + np.arange(len(h_range)),\n",
        "           ['{:.3g}'.format(_) for _ in h_range])\n",
        "plt.ylabel('Harmonic')\n",
        "plt.xlabel('Tempo (BPM)')\n",
        "plt.tight_layout()\n",
        "\n"
      ],
      "execution_count": 0,
      "outputs": []
    },
    {
      "cell_type": "code",
      "metadata": {
        "id": "4KKXt9MRI0vU",
        "colab_type": "code",
        "colab": {}
      },
      "source": [
        "# We can also compute frequency harmonics for spectrograms. To calculate sub-harmonic energy, use values < 1.\n",
        "h_range = [1./3, 1./2, 1, 2, 3, 4]\n",
        "S = np.abs(librosa.stft(y))\n",
        "fft_freqs = librosa.fft_frequencies(sr=sr)\n",
        "S_harm = librosa.interp_harmonics(S, fft_freqs, h_range, axis=0)\n",
        "print(S_harm.shape)\n",
        "\n",
        "plt.figure()\n",
        "for i, _sh in enumerate(S_harm, 1):\n",
        "  plt.subplot(3, 2, i)\n",
        "  librosa.display.specshow(librosa.amplitude_to_db(_sh,ref=S.max()), sr=sr, y_axis='log')\n",
        "  plt.title('h={:.3g}'.format(h_range[i-1]))\n",
        "plt.tight_layout()"
      ],
      "execution_count": 0,
      "outputs": []
    },
    {
      "cell_type": "markdown",
      "metadata": {
        "id": "hBrFl6knJm_t",
        "colab_type": "text"
      },
      "source": [
        "### salience\n",
        "Harmonic salience function.\n",
        "\n",
        "[Ref link](https://librosa.github.io/librosa/generated/librosa.core.salience.html#librosa-core-salience)"
      ]
    },
    {
      "cell_type": "code",
      "metadata": {
        "id": "nUiqjNycJ20o",
        "colab_type": "code",
        "colab": {}
      },
      "source": [
        "# y, sr = librosa.load(librosa.util.example_audio_file(),\n",
        "#                      duration=15, offset=30)\n",
        "S = np.abs(librosa.stft(y))\n",
        "freqs = librosa.core.fft_frequencies(sr)\n",
        "harms = [1, 2, 3, 4]\n",
        "weights = [1.0, 0.5, 0.33, 0.25]\n",
        "S_sal = librosa.salience(S, freqs, harms, weights, fill_value=0)\n",
        "print(S_sal.shape)\n",
        "\n",
        "plt.figure()\n",
        "librosa.display.specshow(librosa.amplitude_to_db(S_sal,\n",
        "                                                  ref=np.max),\n",
        "                          sr=sr, y_axis='log', x_axis='time')\n",
        "plt.colorbar()\n",
        "plt.title('Salience spectrogram')\n",
        "plt.tight_layout()"
      ],
      "execution_count": 0,
      "outputs": []
    },
    {
      "cell_type": "markdown",
      "metadata": {
        "id": "jsJK4IdrKNC1",
        "colab_type": "text"
      },
      "source": [
        "### phase_vocoder\n",
        "Phase vocoder. Given an STFT matrix D, speed up by a factor of rate\n",
        "\n",
        "Based on the implementation provided by [1].\n",
        "\n",
        "[Ref link](https://librosa.github.io/librosa/generated/librosa.core.phase_vocoder.html#librosa-core-phase-vocoder)"
      ]
    },
    {
      "cell_type": "code",
      "metadata": {
        "id": "XamwXP8xKfnn",
        "colab_type": "code",
        "colab": {}
      },
      "source": [
        "# Play at double speed\n",
        "D = librosa.stft(y, n_fft=2048, hop_length=512)\n",
        "D_fast  = librosa.phase_vocoder(D, 2.0, hop_length=512)\n",
        "y_fast  = librosa.istft(D_fast, hop_length=512)"
      ],
      "execution_count": 0,
      "outputs": []
    },
    {
      "cell_type": "code",
      "metadata": {
        "id": "woXYl8HAKnkR",
        "colab_type": "code",
        "colab": {}
      },
      "source": [
        "# Or play at 1/3 speed\n",
        "D = librosa.stft(y, n_fft=2048, hop_length=512)\n",
        "D_slow  = librosa.phase_vocoder(D, 1./3, hop_length=512)\n",
        "y_slow  = librosa.istft(D_slow, hop_length=512)"
      ],
      "execution_count": 0,
      "outputs": []
    },
    {
      "cell_type": "markdown",
      "metadata": {
        "id": "YEVr_73rK14f",
        "colab_type": "text"
      },
      "source": [
        "### magphase\n",
        "Separate a complex-valued spectrogram D into its magnitude (S) and phase (P) components, so that D = S * P.\n",
        "\n",
        "[Ref link](https://librosa.github.io/librosa/generated/librosa.core.magphase.html#librosa-core-magphase)"
      ]
    },
    {
      "cell_type": "code",
      "metadata": {
        "id": "UTUMTYeyLEIG",
        "colab_type": "code",
        "colab": {}
      },
      "source": [
        "D = librosa.stft(y)\n",
        "magnitude, phase = librosa.magphase(D)\n",
        "magnitude"
      ],
      "execution_count": 0,
      "outputs": []
    },
    {
      "cell_type": "code",
      "metadata": {
        "id": "23DpuRCBLJi7",
        "colab_type": "code",
        "colab": {}
      },
      "source": [
        "# Or get the phase angle (in radians)\n",
        "np.angle(phase)"
      ],
      "execution_count": 0,
      "outputs": []
    },
    {
      "cell_type": "markdown",
      "metadata": {
        "id": "3Jr_3HxdFC4A",
        "colab_type": "text"
      },
      "source": [
        "##Magnitude scaling\n",
        "\n",
        "[Ref link](https://librosa.github.io/librosa/core.html#magnitude-scaling)"
      ]
    },
    {
      "cell_type": "markdown",
      "metadata": {
        "id": "doMDMtF6Ffd4",
        "colab_type": "text"
      },
      "source": [
        "###amplitude_to_db\n",
        "\n",
        "[Ref link](https://librosa.github.io/librosa/generated/librosa.core.amplitude_to_db.html#librosa-core-amplitude-to-db)\n",
        "Convert an amplitude spectrogram to dB-scaled spectrogram.\n",
        "\n",
        "This is equivalent to power_to_db(S**2), but is provided for convenience."
      ]
    },
    {
      "cell_type": "code",
      "metadata": {
        "id": "uFkVhLoTGVkj",
        "colab_type": "code",
        "colab": {}
      },
      "source": [
        "S = np.abs(librosa.stft(y))\n",
        "librosa.amplitude_to_db(S**2)"
      ],
      "execution_count": 0,
      "outputs": []
    },
    {
      "cell_type": "markdown",
      "metadata": {
        "id": "Dy4x18hSHooN",
        "colab_type": "text"
      },
      "source": [
        "###db_to_amplitude\n",
        "\n",
        "[Ref link](https://librosa.github.io/librosa/generated/librosa.core.db_to_amplitude.html#librosa-core-db-to-amplitude)\n",
        "\n",
        "Convert a dB-scaled spectrogram to an amplitude spectrogram.\n",
        "\n",
        "This effectively inverts amplitude_to_db:\n",
        "\n",
        "    db_to_amplitude(S_db) ~= 10.0**(0.5 * (S_db + log10(ref)/10))"
      ]
    },
    {
      "cell_type": "code",
      "metadata": {
        "id": "23QnwCTmIPs4",
        "colab_type": "code",
        "colab": {}
      },
      "source": [
        "S = np.abs(librosa.stft(y))\n",
        "S_db = librosa.amplitude_to_db(S**2)\n",
        "librosa.db_to_amplitude(S_db)"
      ],
      "execution_count": 0,
      "outputs": []
    },
    {
      "cell_type": "markdown",
      "metadata": {
        "id": "3okaDooSJSAQ",
        "colab_type": "text"
      },
      "source": [
        "###power_to_db\n",
        "[Ref link](https://librosa.github.io/librosa/generated/librosa.core.power_to_db.html#librosa-core-power-to-db)\n",
        "\n",
        "Convert a power spectrogram (amplitude squared) to decibel (dB) units\n",
        "\n",
        "This computes the scaling 10 * log10(S / ref) in a numerically stable way."
      ]
    },
    {
      "cell_type": "code",
      "metadata": {
        "id": "TaiZQDcxJmAJ",
        "colab_type": "code",
        "colab": {}
      },
      "source": [
        "S = np.abs(librosa.stft(y))\n",
        "librosa.power_to_db(S**2)"
      ],
      "execution_count": 0,
      "outputs": []
    },
    {
      "cell_type": "markdown",
      "metadata": {
        "id": "2H7iROmjJ7gp",
        "colab_type": "text"
      },
      "source": [
        "###db_to_power\n",
        "[Ref link](https://librosa.github.io/librosa/generated/librosa.core.db_to_power.html#librosa-core-db-to-power)\n",
        "\n",
        "Convert a dB-scale spectrogram to a power spectrogram.\n",
        "\n",
        "This effectively inverts power_to_db:\n",
        "\n",
        "    db_to_power(S_db) ~= ref * 10.0**(S_db / 10)"
      ]
    },
    {
      "cell_type": "code",
      "metadata": {
        "id": "XSRw-3q2KUxE",
        "colab_type": "code",
        "colab": {}
      },
      "source": [
        "S = np.abs(librosa.stft(y))\n",
        "S_db = librosa.power_to_db(S**2)\n",
        "librosa.db_to_power(S_db) "
      ],
      "execution_count": 0,
      "outputs": []
    },
    {
      "cell_type": "markdown",
      "metadata": {
        "id": "bokIBJtCLHPI",
        "colab_type": "text"
      },
      "source": [
        "###perceptual_weighting\n",
        "[Ref link](https://librosa.github.io/librosa/generated/librosa.core.perceptual_weighting.html#librosa-core-perceptual-weighting)\n",
        "\n",
        "Perceptual weighting of a power spectrogram:\n",
        "\n",
        "S_p[f] = A_weighting(f) + 10*log(S[f] / ref)"
      ]
    },
    {
      "cell_type": "code",
      "metadata": {
        "id": "FSCz3-krLWxx",
        "colab_type": "code",
        "colab": {}
      },
      "source": [
        "C = np.abs(librosa.cqt(y, sr=sr, fmin=librosa.note_to_hz('A1')))\n",
        "freqs = librosa.cqt_frequencies(C.shape[0],fmin=librosa.note_to_hz('A1'))\n",
        "perceptual_CQT = librosa.perceptual_weighting(C**2,freqs,ref=np.max)\n",
        "perceptual_CQT"
      ],
      "execution_count": 0,
      "outputs": []
    },
    {
      "cell_type": "code",
      "metadata": {
        "id": "OO89uHClL31E",
        "colab_type": "code",
        "colab": {}
      },
      "source": [
        "plt.figure()\n",
        "plt.subplot(2, 1, 1)\n",
        "librosa.display.specshow(librosa.amplitude_to_db(C,\n",
        "                                                  ref=np.max),\n",
        "                          fmin=librosa.note_to_hz('A1'),\n",
        "                          y_axis='cqt_hz')\n",
        "plt.title('Log CQT power')\n",
        "plt.colorbar(format='%+2.0f dB')\n",
        "plt.subplot(2, 1, 2)\n",
        "librosa.display.specshow(perceptual_CQT, y_axis='cqt_hz',\n",
        "                          fmin=librosa.note_to_hz('A1'),\n",
        "                          x_axis='time')\n",
        "plt.title('Perceptually weighted log CQT')\n",
        "plt.colorbar(format='%+2.0f dB')\n",
        "plt.tight_layout()"
      ],
      "execution_count": 0,
      "outputs": []
    },
    {
      "cell_type": "markdown",
      "metadata": {
        "id": "_KQdwA29MUro",
        "colab_type": "text"
      },
      "source": [
        "###A_weighting\n",
        "[Ref link](https://librosa.github.io/librosa/generated/librosa.core.A_weighting.html#librosa-core-a-weighting)\n",
        "\n",
        "Compute the A-weighting of a set of frequencies.\n",
        "\n"
      ]
    },
    {
      "cell_type": "code",
      "metadata": {
        "id": "tsWySHDqMnG3",
        "colab_type": "code",
        "colab": {}
      },
      "source": [
        "freqs = librosa.cqt_frequencies(108, librosa.note_to_hz('C1'))\n",
        "aw = librosa.A_weighting(freqs)\n",
        "plt.plot(freqs, aw)\n",
        "plt.xlabel('Frequency (Hz)')\n",
        "plt.ylabel('Weighting (log10)')\n",
        "plt.title('A-Weighting of CQT frequencies')"
      ],
      "execution_count": 0,
      "outputs": []
    },
    {
      "cell_type": "markdown",
      "metadata": {
        "id": "IkeRgI8ONGlB",
        "colab_type": "text"
      },
      "source": [
        "###core.pcen\n",
        "[Ref link](https://librosa.github.io/librosa/generated/librosa.core.pcen.html#librosa-core-pcen)\n",
        "\n",
        "Per-channel energy normalization (PCEN) [1]\n",
        "\n",
        "This function normalizes a time-frequency representation S by performing automatic gain control, followed by nonlinear compression:\n",
        "\n",
        "    P[f, t] = (S / (eps + M[f, t])**gain + bias)**power - bias**power\n",
        "\n",
        "where M is the result of applying a low-pass, temporal IIR filter to S:\n",
        "\n",
        "    M[f, t] = (1 - b) * M[f, t - 1] + b * S[f, t]\n",
        "\n",
        "If b is not provided, it is calculated as:\n",
        "\n",
        "    b = (sqrt(1 + 4* T**2) - 1) / (2 * T**2)\n",
        "\n",
        "where T = time_constant * sr / hop_length.\n",
        "\n",
        "This normalization is designed to suppress background noise and emphasize foreground signals, and can be used as an alternative to decibel scaling (amplitude_to_db).\n",
        "\n",
        "This implementation also supports smoothing across frequency bins by specifying max_size > 1. If this option is used, the filtered spectrogram M is computed as\n",
        "\n",
        "    M[f, t] = (1 - b) * M[f, t - 1] + b * R[f, t]\n",
        "\n",
        "where R has been max-filtered along the frequency axis, similar to the SuperFlux algorithm implemented in onset.onset_strength:\n",
        "\n",
        "    R[f, t] = max(S[f - max_size//2: f + max_size//2, t])\n",
        "\n",
        "This can be used to perform automatic gain control on signals that cross or span multiple frequency bans, which may be desirable for spectrograms with high frequency resolution."
      ]
    },
    {
      "cell_type": "code",
      "metadata": {
        "id": "c695LXbENT6u",
        "colab_type": "code",
        "colab": {}
      },
      "source": [
        "# We'll use power=1 to get a magnitude spectrum\n",
        "# instead of a power spectrum\n",
        "S = librosa.feature.melspectrogram(y, sr=sr, power=1)\n",
        "log_S = librosa.amplitude_to_db(S, ref=np.max)\n",
        "pcen_S = librosa.pcen(S)\n",
        "plt.figure()\n",
        "plt.subplot(2,1,1)\n",
        "librosa.display.specshow(log_S, x_axis='time', y_axis='mel')\n",
        "plt.title('log amplitude (dB)')\n",
        "plt.colorbar()\n",
        "plt.subplot(2,1,2)\n",
        "librosa.display.specshow(pcen_S, x_axis='time', y_axis='mel')\n",
        "plt.title('Per-channel energy normalization')\n",
        "plt.colorbar()\n",
        "plt.tight_layout()"
      ],
      "execution_count": 0,
      "outputs": []
    },
    {
      "cell_type": "code",
      "metadata": {
        "id": "5efAhroJNpwr",
        "colab_type": "code",
        "colab": {}
      },
      "source": [
        "pcen_max = librosa.pcen(S, max_size=3)\n",
        "plt.figure()\n",
        "plt.subplot(2,1,1)\n",
        "librosa.display.specshow(pcen_S, x_axis='time', y_axis='mel')\n",
        "plt.title('Per-channel energy normalization (no max-filter)')\n",
        "plt.colorbar()\n",
        "plt.subplot(2,1,2)\n",
        "librosa.display.specshow(pcen_max, x_axis='time', y_axis='mel')\n",
        "plt.title('Per-channel energy normalization (max_size=3)')\n",
        "plt.colorbar()\n",
        "plt.tight_layout()"
      ],
      "execution_count": 0,
      "outputs": []
    },
    {
      "cell_type": "markdown",
      "metadata": {
        "id": "j3ofBKEfOwmt",
        "colab_type": "text"
      },
      "source": [
        "##Time and frequency conversion\n",
        "[Ref link](https://librosa.github.io/librosa/core.html#time-and-frequency-conversion)"
      ]
    },
    {
      "cell_type": "markdown",
      "metadata": {
        "id": "NGqm228xPKnk",
        "colab_type": "text"
      },
      "source": [
        "###frames_to_samples\n",
        "[Ref link](https://librosa.github.io/librosa/generated/librosa.core.frames_to_samples.html#librosa-core-frames-to-samples)\n",
        "\n",
        "Converts frame indices to audio sample indices."
      ]
    },
    {
      "cell_type": "code",
      "metadata": {
        "id": "9PAgAxNSPa5t",
        "colab_type": "code",
        "colab": {}
      },
      "source": [
        "tempo, beats = librosa.beat.beat_track(y, sr=sr)\n",
        "beat_samples = librosa.frames_to_samples(beats)\n",
        "beat_samples\n"
      ],
      "execution_count": 0,
      "outputs": []
    },
    {
      "cell_type": "markdown",
      "metadata": {
        "id": "strZzXoiP-aC",
        "colab_type": "text"
      },
      "source": [
        "###frames_to_time\n",
        "[Ref link](https://librosa.github.io/librosa/generated/librosa.core.frames_to_time.html#librosa-core-frames-to-time)\n",
        "\n",
        "Converts frame counts to time (seconds)."
      ]
    },
    {
      "cell_type": "code",
      "metadata": {
        "id": "EtD6WyzNQS40",
        "colab_type": "code",
        "colab": {}
      },
      "source": [
        "tempo, beats = librosa.beat.beat_track(y, sr=sr)\n",
        "beat_times = librosa.frames_to_time(beats, sr=sr)\n",
        "beat_times"
      ],
      "execution_count": 0,
      "outputs": []
    },
    {
      "cell_type": "markdown",
      "metadata": {
        "id": "9Z-emqu1Qg4G",
        "colab_type": "text"
      },
      "source": [
        "###samples_to_frames\n",
        "[Ref link](https://librosa.github.io/librosa/generated/librosa.core.samples_to_frames.html#librosa-core-samples-to-frames)\n",
        "\n",
        "Converts sample indices into STFT frames."
      ]
    },
    {
      "cell_type": "code",
      "metadata": {
        "id": "YFxb3xjFQuf0",
        "colab_type": "code",
        "colab": {}
      },
      "source": [
        " # Get the frame numbers for every 256 samples\n",
        "librosa.samples_to_frames(np.arange(0, 22050, 256))"
      ],
      "execution_count": 0,
      "outputs": []
    },
    {
      "cell_type": "markdown",
      "metadata": {
        "id": "nOZ6RGxnRNeL",
        "colab_type": "text"
      },
      "source": [
        "###samples_to_time\n",
        "[Ref link](https://librosa.github.io/librosa/generated/librosa.core.samples_to_time.html#librosa-core-samples-to-time)\n",
        "\n",
        "Convert sample indices to time (in seconds)."
      ]
    },
    {
      "cell_type": "code",
      "metadata": {
        "id": "UrasUFBCRwmH",
        "colab_type": "code",
        "colab": {}
      },
      "source": [
        "librosa.samples_to_time(np.arange(0, 22050, 512))"
      ],
      "execution_count": 0,
      "outputs": []
    },
    {
      "cell_type": "markdown",
      "metadata": {
        "id": "vKzNpEf6R889",
        "colab_type": "text"
      },
      "source": [
        "###time_to_frames\n",
        "[Ref link](https://librosa.github.io/librosa/generated/librosa.core.time_to_frames.html#librosa-core-time-to-frames)\n",
        "\n",
        "Converts time stamps into STFT frames."
      ]
    },
    {
      "cell_type": "code",
      "metadata": {
        "id": "Udaq0di7SPWL",
        "colab_type": "code",
        "colab": {}
      },
      "source": [
        "librosa.time_to_frames(np.arange(0, 1, 0.1),sr=22050, hop_length=512)"
      ],
      "execution_count": 0,
      "outputs": []
    },
    {
      "cell_type": "markdown",
      "metadata": {
        "id": "Cq7fb8yaSnEc",
        "colab_type": "text"
      },
      "source": [
        "###time_to_samples\n",
        "[Ref link](https://librosa.github.io/librosa/generated/librosa.core.time_to_samples.html#librosa-core-time-to-samples)\n",
        "\n",
        "Convert timestamps (in seconds) to sample indices."
      ]
    },
    {
      "cell_type": "code",
      "metadata": {
        "id": "5udnG1lmSxTF",
        "colab_type": "code",
        "colab": {}
      },
      "source": [
        "librosa.time_to_samples(np.arange(0, 1, 0.1), sr=22050)"
      ],
      "execution_count": 0,
      "outputs": []
    },
    {
      "cell_type": "markdown",
      "metadata": {
        "id": "jgvHcKyRTPxn",
        "colab_type": "text"
      },
      "source": [
        "###hz_to_note\n",
        "[Ref link](https://librosa.github.io/librosa/generated/librosa.core.hz_to_note.html#librosa-core-hz-to-note)\n",
        "\n",
        "Convert one or more frequencies (in Hz) to the nearest note names."
      ]
    },
    {
      "cell_type": "code",
      "metadata": {
        "id": "omYY_AFWTZTL",
        "colab_type": "code",
        "colab": {}
      },
      "source": [
        "librosa.hz_to_note(440.0)"
      ],
      "execution_count": 0,
      "outputs": []
    },
    {
      "cell_type": "markdown",
      "metadata": {
        "id": "GHf-rSFSTteZ",
        "colab_type": "text"
      },
      "source": [
        "###hz_to_midi\n",
        "[Ref link](https://librosa.github.io/librosa/generated/librosa.core.hz_to_midi.html#librosa-core-hz-to-midi)\n",
        "\n",
        "Get MIDI note number(s) for given frequencies"
      ]
    },
    {
      "cell_type": "code",
      "metadata": {
        "id": "pQEBtl24T9Cj",
        "colab_type": "code",
        "colab": {}
      },
      "source": [
        "librosa.hz_to_midi(60)"
      ],
      "execution_count": 0,
      "outputs": []
    },
    {
      "cell_type": "markdown",
      "metadata": {
        "id": "QqjbGsxfUKOu",
        "colab_type": "text"
      },
      "source": [
        "###midi_to_hz\n",
        "[Ref link](https://librosa.github.io/librosa/generated/librosa.core.midi_to_hz.html#librosa-core-midi-to-hz)\n",
        "\n",
        "Get the frequency (Hz) of MIDI note(s)\n"
      ]
    },
    {
      "cell_type": "markdown",
      "metadata": {
        "id": "TNW22QWwUdyS",
        "colab_type": "text"
      },
      "source": [
        "###midi_to_note\n",
        "[Ref link](https://librosa.github.io/librosa/generated/librosa.core.midi_to_note.html#librosa-core-midi-to-note)\n",
        "\n",
        "Convert one or more MIDI numbers to note strings.\n",
        "\n",
        "MIDI numbers will be rounded to the nearest integer.\n",
        "\n",
        "Notes will be of the format ‘C0’, ‘C#0’, ‘D0’, …"
      ]
    },
    {
      "cell_type": "code",
      "metadata": {
        "id": "iC4sTMSRUtEy",
        "colab_type": "code",
        "colab": {}
      },
      "source": [
        "note = librosa.midi_to_note(0)\n",
        "print(note)\n",
        "\n",
        "note = librosa.midi_to_note(37)\n",
        "print(note)\n",
        "\n",
        "note = librosa.midi_to_note(-2)\n",
        "print(note)"
      ],
      "execution_count": 0,
      "outputs": []
    },
    {
      "cell_type": "markdown",
      "metadata": {
        "id": "IcmaM0_3VEQJ",
        "colab_type": "text"
      },
      "source": [
        "###note_to_hz\n",
        "[Ref link](https://librosa.github.io/librosa/generated/librosa.core.note_to_hz.html#librosa-core-note-to-hz)\n",
        "\n",
        "Convert one or more note names to frequency (Hz)"
      ]
    },
    {
      "cell_type": "code",
      "metadata": {
        "id": "YYwG0cinVQUX",
        "colab_type": "code",
        "colab": {}
      },
      "source": [
        "# Get the frequency of a note\n",
        "librosa.note_to_hz('C')\n",
        "\n",
        "# Or multiple notes\n",
        "librosa.note_to_hz(['A3', 'A4', 'A5'])\n",
        "\n",
        "# Or notes with tuning deviations\n",
        "librosa.note_to_hz('C2-32', round_midi=False)\n"
      ],
      "execution_count": 0,
      "outputs": []
    },
    {
      "cell_type": "markdown",
      "metadata": {
        "id": "YHeE8EzYV0TX",
        "colab_type": "text"
      },
      "source": [
        "###note_to_midi\n",
        "[Ref link](https://librosa.github.io/librosa/generated/librosa.core.note_to_midi.html#librosa-core-note-to-midi)\n",
        "\n",
        "Convert one or more spelled notes to MIDI number(s).\n",
        "\n",
        "Notes may be spelled out with optional accidentals or octave numbers.\n",
        "\n",
        "The leading note name is case-insensitive.\n",
        "\n",
        "Sharps are indicated with #, flats may be indicated with ! or b."
      ]
    },
    {
      "cell_type": "code",
      "metadata": {
        "id": "6r0kKr4ZV-TJ",
        "colab_type": "code",
        "colab": {}
      },
      "source": [
        "librosa.note_to_midi('C')"
      ],
      "execution_count": 0,
      "outputs": []
    },
    {
      "cell_type": "markdown",
      "metadata": {
        "id": "SjyckbbSWJq3",
        "colab_type": "text"
      },
      "source": [
        "###hz_to_mel\n",
        "[Ref link](https://librosa.github.io/librosa/generated/librosa.core.hz_to_mel.html#librosa-core-hz-to-mel)\n",
        "\n",
        "Convert Hz to Mels"
      ]
    },
    {
      "cell_type": "code",
      "metadata": {
        "id": "VzzCowEZWX8R",
        "colab_type": "code",
        "colab": {}
      },
      "source": [
        "librosa.hz_to_mel(60)"
      ],
      "execution_count": 0,
      "outputs": []
    },
    {
      "cell_type": "markdown",
      "metadata": {
        "id": "cVCu5tUmW5Rs",
        "colab_type": "text"
      },
      "source": [
        "###hz_to_octs\n",
        "[Ref link](https://librosa.github.io/librosa/generated/librosa.core.hz_to_octs.html#librosa-core-hz-to-octs)\n",
        "\n",
        "Convert frequencies (Hz) to (fractional) octave numbers."
      ]
    },
    {
      "cell_type": "code",
      "metadata": {
        "id": "vL--rBQLXLnt",
        "colab_type": "code",
        "colab": {}
      },
      "source": [
        "librosa.hz_to_octs(440.0)"
      ],
      "execution_count": 0,
      "outputs": []
    },
    {
      "cell_type": "markdown",
      "metadata": {
        "id": "fecHVb2OX1qr",
        "colab_type": "text"
      },
      "source": [
        "###mel_to_hz\n",
        "[Ref link](https://librosa.github.io/librosa/generated/librosa.core.mel_to_hz.html#librosa-core-mel-to-hz)\n",
        "\n",
        "Convert mel bin numbers to frequencies"
      ]
    },
    {
      "cell_type": "code",
      "metadata": {
        "id": "cVm8rnhQYA_H",
        "colab_type": "code",
        "colab": {}
      },
      "source": [
        "librosa.mel_to_hz(3)"
      ],
      "execution_count": 0,
      "outputs": []
    },
    {
      "cell_type": "markdown",
      "metadata": {
        "id": "xGSTsaQUYFa6",
        "colab_type": "text"
      },
      "source": [
        "###octs_to_hz\n",
        "[Ref](https://librosa.github.io/librosa/generated/librosa.core.octs_to_hz.html#librosa-core-octs-to-hz)\n",
        "\n",
        "Convert octaves numbers to frequencies.\n",
        "\n",
        "Octaves are counted relative to A."
      ]
    },
    {
      "cell_type": "code",
      "metadata": {
        "id": "47umXm6qYNYD",
        "colab_type": "code",
        "colab": {}
      },
      "source": [
        "librosa.octs_to_hz(1)"
      ],
      "execution_count": 0,
      "outputs": []
    },
    {
      "cell_type": "markdown",
      "metadata": {
        "id": "dt1keS0jYUR3",
        "colab_type": "text"
      },
      "source": [
        "###fft_frequencies\n",
        "[Ref link](https://librosa.github.io/librosa/generated/librosa.core.fft_frequencies.html#librosa-core-fft-frequencies)\n",
        "\n",
        "Alternative implementation of np.fft.fftfreq"
      ]
    },
    {
      "cell_type": "code",
      "metadata": {
        "id": "vPo3PNolYhbZ",
        "colab_type": "code",
        "colab": {}
      },
      "source": [
        "librosa.fft_frequencies(sr=22050, n_fft=16)"
      ],
      "execution_count": 0,
      "outputs": []
    },
    {
      "cell_type": "markdown",
      "metadata": {
        "id": "PKQeOLGYYnGF",
        "colab_type": "text"
      },
      "source": [
        "###cqt_frequencies\n",
        "[Ref link](https://librosa.github.io/librosa/generated/librosa.core.cqt_frequencies.html#librosa-core-cqt-frequencies)\n",
        "\n",
        "Compute the center frequencies of Constant-Q bins."
      ]
    },
    {
      "cell_type": "code",
      "metadata": {
        "id": "NiJZOf32Yxm9",
        "colab_type": "code",
        "colab": {}
      },
      "source": [
        "# Get the CQT frequencies for 24 notes, starting at C2\n",
        "librosa.cqt_frequencies(24, fmin=librosa.note_to_hz('C2'))"
      ],
      "execution_count": 0,
      "outputs": []
    },
    {
      "cell_type": "markdown",
      "metadata": {
        "id": "JDBoKZUmZL-D",
        "colab_type": "text"
      },
      "source": [
        "###mel_frequencies\n",
        "[Ref link](https://librosa.github.io/librosa/generated/librosa.core.mel_frequencies.html#librosa-core-mel-frequencies)\n",
        "\n",
        "Compute an array of acoustic frequencies tuned to the mel scale.\n",
        "\n",
        "The mel scale is a quasi-logarithmic function of acoustic frequency designed such that perceptually similar pitch intervals (e.g. octaves) appear equal in width over the full hearing range.\n",
        "\n",
        "Because the definition of the mel scale is conditioned by a finite number of subjective psychoaoustical experiments, several implementations coexist in the audio signal processing literature [1]. By default, librosa replicates the behavior of the well-established MATLAB Auditory Toolbox of Slaney [2]. According to this default implementation, the conversion from Hertz to mel is linear below 1 kHz and logarithmic above 1 kHz. Another available implementation replicates the Hidden Markov Toolkit [3] (HTK) according to the following formula:\n",
        "\n",
        "mel = 2595.0 * np.log10(1.0 + f / 700.0).\n",
        "\n",
        "The choice of implementation is determined by the htk keyword argument: setting htk=False leads to the Auditory toolbox implementation, whereas setting it htk=True leads to the HTK implementation."
      ]
    },
    {
      "cell_type": "code",
      "metadata": {
        "id": "zkp3M92oZZ4R",
        "colab_type": "code",
        "colab": {}
      },
      "source": [
        "librosa.mel_frequencies(n_mels=40)"
      ],
      "execution_count": 0,
      "outputs": []
    },
    {
      "cell_type": "markdown",
      "metadata": {
        "id": "UfjXq-xTZzTL",
        "colab_type": "text"
      },
      "source": [
        "###tempo_frequencies\n",
        "[Ref link](https://librosa.github.io/librosa/generated/librosa.core.tempo_frequencies.html#librosa-core-tempo-frequencies)\n",
        "\n",
        "Compute the frequencies (in beats-per-minute) corresponding to an onset auto-correlation or tempogram matrix."
      ]
    },
    {
      "cell_type": "code",
      "metadata": {
        "id": "ZRdFl2KjaUL7",
        "colab_type": "code",
        "colab": {}
      },
      "source": [
        "librosa.tempo_frequencies(384)"
      ],
      "execution_count": 0,
      "outputs": []
    },
    {
      "cell_type": "markdown",
      "metadata": {
        "id": "x-u2xlJObC5p",
        "colab_type": "text"
      },
      "source": [
        "###samples_like\n",
        "[Ref link](https://librosa.github.io/librosa/generated/librosa.core.samples_like.html#librosa-core-samples-like)\n",
        "\n",
        "Return an array of sample indices to match the time axis from a feature matrix."
      ]
    },
    {
      "cell_type": "code",
      "metadata": {
        "id": "siT8FpyGbOEE",
        "colab_type": "code",
        "colab": {}
      },
      "source": [
        "X = librosa.stft(y)\n",
        "samples = librosa.samples_like(X)\n",
        "samples"
      ],
      "execution_count": 0,
      "outputs": []
    },
    {
      "cell_type": "markdown",
      "metadata": {
        "id": "mf54VxlhbX4i",
        "colab_type": "text"
      },
      "source": [
        "###times_like\n",
        "[Ref link](https://librosa.github.io/librosa/generated/librosa.core.times_like.html#librosa-core-times-like)\n",
        "\n",
        "Return an array of time values to match the time axis from a feature matrix."
      ]
    },
    {
      "cell_type": "code",
      "metadata": {
        "id": "F99_hHIlddRi",
        "colab_type": "code",
        "colab": {}
      },
      "source": [
        "# Provide a feature matrix input:\n",
        "X = librosa.stft(y)\n",
        "times = librosa.times_like(X)\n",
        "times"
      ],
      "execution_count": 0,
      "outputs": []
    },
    {
      "cell_type": "code",
      "metadata": {
        "id": "WJMAsXlrdtVu",
        "colab_type": "code",
        "colab": {}
      },
      "source": [
        "# Provide a scalar input:\n",
        "n_frames = 2647\n",
        "times = librosa.times_like(n_frames)\n",
        "times"
      ],
      "execution_count": 0,
      "outputs": []
    },
    {
      "cell_type": "markdown",
      "metadata": {
        "id": "U4cuVX1SeGs8",
        "colab_type": "text"
      },
      "source": [
        "##Pitch and tuning\n",
        "[Ref link](https://librosa.github.io/librosa/core.html#pitch-and-tuning)"
      ]
    },
    {
      "cell_type": "markdown",
      "metadata": {
        "id": "ZuP2AdfCeb31",
        "colab_type": "text"
      },
      "source": [
        "###estimate_tuning\n",
        "[Ref link](https://librosa.github.io/librosa/generated/librosa.core.estimate_tuning.html#librosa-core-estimate-tuning)\n",
        "\n",
        "Estimate the tuning of an audio time series or spectrogram input."
      ]
    },
    {
      "cell_type": "code",
      "metadata": {
        "id": "wKVJ4ByhemIF",
        "colab_type": "code",
        "colab": {}
      },
      "source": [
        "# With time-series input\n",
        "librosa.estimate_tuning(y=y, sr=sr)"
      ],
      "execution_count": 0,
      "outputs": []
    },
    {
      "cell_type": "code",
      "metadata": {
        "id": "OL4mV_lZeW5S",
        "colab_type": "code",
        "colab": {}
      },
      "source": [
        "# In tenths of a cent\n",
        "librosa.estimate_tuning(y=y, sr=sr, resolution=1e-3)"
      ],
      "execution_count": 0,
      "outputs": []
    },
    {
      "cell_type": "code",
      "metadata": {
        "id": "icay0qR-e5HX",
        "colab_type": "code",
        "colab": {}
      },
      "source": [
        "# Using spectrogram input\n",
        "S = np.abs(librosa.stft(y))\n",
        "librosa.estimate_tuning(S=S, sr=sr)"
      ],
      "execution_count": 0,
      "outputs": []
    },
    {
      "cell_type": "code",
      "metadata": {
        "id": "0W4NpQ7VfADb",
        "colab_type": "code",
        "colab": {}
      },
      "source": [
        "# Using pass-through arguments to `librosa.piptrack`\n",
        "librosa.estimate_tuning(y=y, sr=sr, n_fft=8192,fmax=librosa.note_to_hz('G#9'))"
      ],
      "execution_count": 0,
      "outputs": []
    },
    {
      "cell_type": "markdown",
      "metadata": {
        "id": "EKkh_Mx5fH3y",
        "colab_type": "text"
      },
      "source": [
        "###pitch_tuning\n",
        "[Ref link](https://librosa.github.io/librosa/generated/librosa.core.pitch_tuning.html#librosa-core-pitch-tuning)\n",
        "\n",
        "Given a collection of pitches, estimate its tuning offset (in fractions of a bin) relative to A440=440.0Hz."
      ]
    },
    {
      "cell_type": "code",
      "metadata": {
        "id": "2vWTdotYfQw4",
        "colab_type": "code",
        "colab": {}
      },
      "source": [
        "# Generate notes at +25 cents\n",
        "freqs = librosa.cqt_frequencies(24, 55, tuning=0.25)\n",
        "librosa.pitch_tuning(freqs)"
      ],
      "execution_count": 0,
      "outputs": []
    },
    {
      "cell_type": "code",
      "metadata": {
        "id": "mBM0YSiwfaWD",
        "colab_type": "code",
        "colab": {}
      },
      "source": [
        "# Track frequencies from a real spectrogram\n",
        "pitches, magnitudes, stft = librosa.ifptrack(y, sr)\n",
        "# Select out pitches with high energy\n",
        "pitches = pitches[magnitudes > np.median(magnitudes)]\n",
        "librosa.pitch_tuning(pitches)"
      ],
      "execution_count": 0,
      "outputs": []
    },
    {
      "cell_type": "markdown",
      "metadata": {
        "id": "ZIdRZRDcgA4v",
        "colab_type": "text"
      },
      "source": [
        "###piptrack\n",
        "[Ref link](https://librosa.github.io/librosa/generated/librosa.core.piptrack.html#librosa-core-piptrack)\n",
        "\n",
        "Pitch tracking on thresholded parabolically-interpolated STFT.\n",
        "\n",
        "This implementation uses the parabolic interpolation method described by [1]."
      ]
    },
    {
      "cell_type": "code",
      "metadata": {
        "id": "Lg8m30tcgMn9",
        "colab_type": "code",
        "colab": {}
      },
      "source": [
        "pitches, magnitudes = librosa.piptrack(y=y, sr=sr)\n",
        "print(pitches)\n",
        "print(magnitudes)"
      ],
      "execution_count": 0,
      "outputs": []
    },
    {
      "cell_type": "markdown",
      "metadata": {
        "id": "11wnXDbS0ieh",
        "colab_type": "text"
      },
      "source": [
        "##Spectral features\n",
        "\n",
        "[Ref link](https://librosa.github.io/librosa/feature.html#spectral-features)"
      ]
    },
    {
      "cell_type": "markdown",
      "metadata": {
        "id": "OlxfIDc609ij",
        "colab_type": "text"
      },
      "source": [
        "###chroma_stft\n",
        "[Ref link](https://librosa.github.io/librosa/generated/librosa.feature.chroma_stft.html#librosa-feature-chroma-stft)\n",
        "\n",
        "Compute a chromagram from a waveform or power spectrogram.\n",
        "\n",
        "This implementation is derived from chromagram_E [1]"
      ]
    },
    {
      "cell_type": "code",
      "metadata": {
        "id": "Ztg6ckcS2BSl",
        "colab_type": "code",
        "colab": {}
      },
      "source": [
        "librosa.feature.chroma_stft(y=y, sr=sr)"
      ],
      "execution_count": 0,
      "outputs": []
    },
    {
      "cell_type": "code",
      "metadata": {
        "id": "nEaiNizY2CNy",
        "colab_type": "code",
        "colab": {}
      },
      "source": [
        "S = np.abs(librosa.stft(y))\n",
        "chroma = librosa.feature.chroma_stft(S=S, sr=sr)\n",
        "chroma"
      ],
      "execution_count": 0,
      "outputs": []
    },
    {
      "cell_type": "code",
      "metadata": {
        "id": "ylGIyy6Y2Lay",
        "colab_type": "code",
        "colab": {}
      },
      "source": [
        "S = np.abs(librosa.stft(y, n_fft=4096))**2\n",
        "chroma = librosa.feature.chroma_stft(S=S, sr=sr)\n",
        "chroma"
      ],
      "execution_count": 0,
      "outputs": []
    },
    {
      "cell_type": "code",
      "metadata": {
        "id": "0a5tkczn2QFe",
        "colab_type": "code",
        "colab": {}
      },
      "source": [
        "plt.figure(figsize=(10, 4))\n",
        "librosa.display.specshow(chroma, y_axis='chroma', x_axis='time')\n",
        "plt.colorbar()\n",
        "plt.title('Chromagram')\n",
        "plt.tight_layout()"
      ],
      "execution_count": 0,
      "outputs": []
    },
    {
      "cell_type": "markdown",
      "metadata": {
        "id": "sV7627a33UFC",
        "colab_type": "text"
      },
      "source": [
        "###chroma_cqt\n",
        "\n",
        "[Ref](https://librosa.github.io/librosa/generated/librosa.feature.chroma_cqt.html#librosa-feature-chroma-cqt)\n",
        "\n",
        "Constant-Q chromagram"
      ]
    },
    {
      "cell_type": "code",
      "metadata": {
        "id": "Y6C9rAmL3f17",
        "colab_type": "code",
        "colab": {}
      },
      "source": [
        "chroma_stft = librosa.feature.chroma_stft(y=y, sr=sr,\n",
        "                                           n_chroma=12, n_fft=4096)\n",
        "chroma_cq = librosa.feature.chroma_cqt(y=y, sr=sr)"
      ],
      "execution_count": 0,
      "outputs": []
    },
    {
      "cell_type": "code",
      "metadata": {
        "id": "U676uolE3sef",
        "colab_type": "code",
        "colab": {}
      },
      "source": [
        "plt.figure()\n",
        "plt.subplot(2,1,1)\n",
        "librosa.display.specshow(chroma_stft, y_axis='chroma')\n",
        "plt.title('chroma_stft')\n",
        "plt.colorbar()\n",
        "plt.subplot(2,1,2)\n",
        "librosa.display.specshow(chroma_cq, y_axis='chroma', x_axis='time')\n",
        "plt.title('chroma_cqt')\n",
        "plt.colorbar()\n",
        "plt.tight_layout()"
      ],
      "execution_count": 0,
      "outputs": []
    },
    {
      "cell_type": "markdown",
      "metadata": {
        "id": "6nlNv-sm35R5",
        "colab_type": "text"
      },
      "source": [
        "###chroma_cens\n",
        "\n",
        "[Ref link](https://librosa.github.io/librosa/generated/librosa.feature.chroma_cens.html#librosa-feature-chroma-cens)\n",
        "\n",
        "Computes the chroma variant “Chroma Energy Normalized” (CENS), following [1].\n",
        "\n",
        "To compute CENS features, following steps are taken after obtaining chroma vectors using chroma_cqt: 1. L-1 normalization of each chroma vector 2. Quantization of amplitude based on “log-like” amplitude thresholds 3. (optional) Smoothing with sliding window. Default window length = 41 frames 4. (not implemented) Downsampling\n",
        "\n",
        "CENS features are robust to dynamics, timbre and articulation, thus these are commonly used in audio matching and retrieval applications."
      ]
    },
    {
      "cell_type": "code",
      "metadata": {
        "id": "hdYC4dqg4EZU",
        "colab_type": "code",
        "colab": {}
      },
      "source": [
        "chroma_cens = librosa.feature.chroma_cens(y=y, sr=sr)\n",
        "chroma_cq = librosa.feature.chroma_cqt(y=y, sr=sr)"
      ],
      "execution_count": 0,
      "outputs": []
    },
    {
      "cell_type": "code",
      "metadata": {
        "id": "CqtpA9GP4JRe",
        "colab_type": "code",
        "colab": {}
      },
      "source": [
        "plt.figure()\n",
        "plt.subplot(2,1,1)\n",
        "librosa.display.specshow(chroma_cq, y_axis='chroma')\n",
        "plt.title('chroma_cq')\n",
        "plt.colorbar()\n",
        "plt.subplot(2,1,2)\n",
        "librosa.display.specshow(chroma_cens, y_axis='chroma', x_axis='time')\n",
        "plt.title('chroma_cens')\n",
        "plt.colorbar()\n",
        "plt.tight_layout()"
      ],
      "execution_count": 0,
      "outputs": []
    },
    {
      "cell_type": "markdown",
      "metadata": {
        "id": "lcwXYsiv4Zhd",
        "colab_type": "text"
      },
      "source": [
        "###melspectrogram\n",
        "\n",
        "[Ref link](https://librosa.github.io/librosa/generated/librosa.feature.melspectrogram.html#librosa-feature-melspectrogram)\n",
        "\n",
        "Compute a mel-scaled spectrogram.\n",
        "\n",
        "If a spectrogram input S is provided, then it is mapped directly onto the mel basis mel_f by mel_f.dot(S).\n",
        "\n",
        "If a time-series input y, sr is provided, then its magnitude spectrogram S is first computed, and then mapped onto the mel scale by mel_f.dot(S**power). By default, power=2 operates on a power spectrum."
      ]
    },
    {
      "cell_type": "code",
      "metadata": {
        "id": "VfqTn_k24xiW",
        "colab_type": "code",
        "colab": {}
      },
      "source": [
        "librosa.feature.melspectrogram(y=y, sr=sr)"
      ],
      "execution_count": 0,
      "outputs": []
    },
    {
      "cell_type": "code",
      "metadata": {
        "id": "Vx3-dE7I40-K",
        "colab_type": "code",
        "colab": {}
      },
      "source": [
        "D = np.abs(librosa.stft(y))**2\n",
        "S = librosa.feature.melspectrogram(S=D)"
      ],
      "execution_count": 0,
      "outputs": []
    },
    {
      "cell_type": "code",
      "metadata": {
        "id": "VLMb-a7G45DC",
        "colab_type": "code",
        "colab": {}
      },
      "source": [
        " # Passing through arguments to the Mel filters\n",
        "S = librosa.feature.melspectrogram(y=y, sr=sr, n_mels=128,fmax=8000)"
      ],
      "execution_count": 0,
      "outputs": []
    },
    {
      "cell_type": "code",
      "metadata": {
        "id": "1UR8H0C54_f-",
        "colab_type": "code",
        "colab": {}
      },
      "source": [
        "plt.figure(figsize=(10, 4))\n",
        "librosa.display.specshow(librosa.power_to_db(S,ref=np.max),\n",
        "                          y_axis='mel', fmax=8000,\n",
        "                          x_axis='time')\n",
        "plt.colorbar(format='%+2.0f dB')\n",
        "plt.title('Mel spectrogram')\n",
        "plt.tight_layout()"
      ],
      "execution_count": 0,
      "outputs": []
    },
    {
      "cell_type": "markdown",
      "metadata": {
        "id": "L8sAzQwN5SqS",
        "colab_type": "text"
      },
      "source": [
        "###mfcc\n",
        "\n",
        "[Ref link](https://librosa.github.io/librosa/generated/librosa.feature.mfcc.html#librosa-feature-mfcc)\n",
        "\n",
        "Mel-frequency cepstral coefficients (MFCCs)"
      ]
    },
    {
      "cell_type": "code",
      "metadata": {
        "id": "AfwVZN9z57AO",
        "colab_type": "code",
        "colab": {}
      },
      "source": [
        "librosa.feature.mfcc(y=y, sr=sr)"
      ],
      "execution_count": 0,
      "outputs": []
    },
    {
      "cell_type": "code",
      "metadata": {
        "id": "CeojZqia572I",
        "colab_type": "code",
        "outputId": "308f9c99-ca1e-4084-840b-aeb6772ed350",
        "colab": {
          "base_uri": "https://localhost:8080/",
          "height": 243
        }
      },
      "source": [
        "S = librosa.feature.melspectrogram(y=y, sr=sr, n_mels=128,fmax=8000)\n",
        "librosa.feature.mfcc(S=librosa.power_to_db(S))"
      ],
      "execution_count": 0,
      "outputs": [
        {
          "output_type": "execute_result",
          "data": {
            "text/plain": [
              "array([[-4.93662969e+02, -3.78776724e+02, -3.09925575e+02, ...,\n",
              "        -5.77576017e+02, -5.74887314e+02, -5.58614138e+02],\n",
              "       [ 4.60761197e+01,  4.86620486e+01,  5.11118235e+01, ...,\n",
              "         5.22791506e+01,  5.57176079e+01,  4.06147386e+01],\n",
              "       [-1.20147020e+01, -3.98871872e+01, -5.15142819e+01, ...,\n",
              "         4.05057165e+01,  4.20550063e+01,  3.96028380e+01],\n",
              "       ...,\n",
              "       [ 4.13594952e+00,  3.52819947e+00, -2.02149448e+00, ...,\n",
              "         9.04315548e+00,  4.51733474e+00,  5.52798160e+00],\n",
              "       [ 4.73516421e+00,  4.25929610e+00, -2.17193158e+00, ...,\n",
              "         8.13875032e+00,  3.75621436e+00,  6.37534635e+00],\n",
              "       [-5.33135079e+00,  3.16846940e+00, -2.50064625e-01, ...,\n",
              "         4.28375381e+00,  5.76965027e+00,  5.95774805e+00]])"
            ]
          },
          "metadata": {
            "tags": []
          },
          "execution_count": 17
        }
      ]
    },
    {
      "cell_type": "code",
      "metadata": {
        "id": "p9kgG6466F7j",
        "colab_type": "code",
        "colab": {}
      },
      "source": [
        "mfccs = librosa.feature.mfcc(y=y, sr=sr, n_mfcc=40)"
      ],
      "execution_count": 0,
      "outputs": []
    },
    {
      "cell_type": "code",
      "metadata": {
        "id": "pijZ18BO6HAS",
        "colab_type": "code",
        "colab": {}
      },
      "source": [
        "plt.figure(figsize=(10, 4))\n",
        "librosa.display.specshow(mfccs, x_axis='time')\n",
        "plt.colorbar()\n",
        "plt.title('MFCC')\n",
        "plt.tight_layout()"
      ],
      "execution_count": 0,
      "outputs": []
    },
    {
      "cell_type": "code",
      "metadata": {
        "id": "opaz-OjP6Pje",
        "colab_type": "code",
        "colab": {}
      },
      "source": [
        "m_slaney = librosa.feature.mfcc(y=y, sr=sr, dct_type=2)\n",
        "m_htk = librosa.feature.mfcc(y=y, sr=sr, dct_type=3)\n",
        "plt.figure(figsize=(10, 6))\n",
        "plt.subplot(2, 1, 1)\n",
        "librosa.display.specshow(m_slaney, x_axis='time')\n",
        "plt.title('RASTAMAT / Auditory toolbox (dct_type=2)')\n",
        "plt.colorbar()\n",
        "plt.subplot(2, 1, 2)\n",
        "librosa.display.specshow(m_htk, x_axis='time')\n",
        "plt.title('HTK-style (dct_type=3)')\n",
        "plt.colorbar()\n",
        "plt.tight_layout()"
      ],
      "execution_count": 0,
      "outputs": []
    },
    {
      "cell_type": "markdown",
      "metadata": {
        "id": "S7sje8QW6kWk",
        "colab_type": "text"
      },
      "source": [
        "###rms\n",
        "\n",
        "[Ref link](https://librosa.github.io/librosa/generated/librosa.feature.rms.html#librosa-feature-rms)\n",
        "\n",
        "Compute root-mean-square (RMS) value for each frame, either from the audio samples y or from a spectrogram S.\n",
        "\n",
        "Computing the RMS value from audio samples is faster as it doesn’t require a STFT calculation. However, using a spectrogram will give a more accurate representation of energy over time because its frames can be windowed, thus prefer using S if it’s already available."
      ]
    },
    {
      "cell_type": "code",
      "metadata": {
        "id": "YFnBDqaU601F",
        "colab_type": "code",
        "outputId": "ba6d0aa3-f020-40e3-8480-ed8fafd56e98",
        "colab": {
          "base_uri": "https://localhost:8080/",
          "height": 52
        }
      },
      "source": [
        "librosa.feature.rms(y=y)"
      ],
      "execution_count": 0,
      "outputs": [
        {
          "output_type": "execute_result",
          "data": {
            "text/plain": [
              "array([[0.0025118 , 0.00359596, 0.00369645, ..., 0.00689465, 0.00715862,\n",
              "        0.00793121]], dtype=float32)"
            ]
          },
          "metadata": {
            "tags": []
          },
          "execution_count": 21
        }
      ]
    },
    {
      "cell_type": "code",
      "metadata": {
        "id": "_gdUAsR864XU",
        "colab_type": "code",
        "colab": {}
      },
      "source": [
        "S, phase = librosa.magphase(librosa.stft(y))\n",
        "rms = librosa.feature.rms(S=S)"
      ],
      "execution_count": 0,
      "outputs": []
    },
    {
      "cell_type": "code",
      "metadata": {
        "id": "jJzmnYPz65FD",
        "colab_type": "code",
        "colab": {}
      },
      "source": [
        "plt.figure()\n",
        "plt.subplot(2, 1, 1)\n",
        "plt.semilogy(rms.T, label='RMS Energy')\n",
        "plt.xticks([])\n",
        "plt.xlim([0, rms.shape[-1]])\n",
        "plt.legend(loc='best')\n",
        "plt.subplot(2, 1, 2)\n",
        "librosa.display.specshow(librosa.amplitude_to_db(S, ref=np.max),y_axis='log', x_axis='time')\n",
        "plt.title('log Power spectrogram')\n",
        "plt.tight_layout()"
      ],
      "execution_count": 0,
      "outputs": []
    },
    {
      "cell_type": "code",
      "metadata": {
        "id": "IVQEiY1w7KPi",
        "colab_type": "code",
        "colab": {}
      },
      "source": [
        "# Use a STFT window of constant ones and no frame centering to get consistent results with the RMS computed from the audio samples y\n",
        "S = librosa.magphase(librosa.stft(y, window=np.ones, center=False))[0]\n",
        "librosa.feature.rms(S=S)"
      ],
      "execution_count": 0,
      "outputs": []
    },
    {
      "cell_type": "markdown",
      "metadata": {
        "id": "JcmN03pd7dbF",
        "colab_type": "text"
      },
      "source": [
        "###rmse\n",
        "\n",
        "[Ref link](https://librosa.github.io/librosa/generated/librosa.feature.rmse.html#librosa-feature-rmse)\n",
        "\n",
        "Compute root-mean-square (RMS) value for each frame, either from the audio samples y or from a spectrogram S.\n",
        "\n",
        "Computing the RMS value from audio samples is faster as it doesn’t require a STFT calculation. However, using a spectrogram will give a more accurate representation of energy over time because its frames can be windowed, thus prefer using S if it’s already available."
      ]
    },
    {
      "cell_type": "code",
      "metadata": {
        "id": "xi57t81q7sel",
        "colab_type": "code",
        "colab": {}
      },
      "source": [
        "librosa.feature.rms(y=y)"
      ],
      "execution_count": 0,
      "outputs": []
    },
    {
      "cell_type": "code",
      "metadata": {
        "id": "u4AGoODl7uO2",
        "colab_type": "code",
        "colab": {}
      },
      "source": [
        "S, phase = librosa.magphase(librosa.stft(y))\n",
        "rms = librosa.feature.rms(S=S)"
      ],
      "execution_count": 0,
      "outputs": []
    },
    {
      "cell_type": "code",
      "metadata": {
        "id": "s5itM5V-7zvH",
        "colab_type": "code",
        "colab": {}
      },
      "source": [
        "plt.figure()\n",
        "plt.subplot(2, 1, 1)\n",
        "plt.semilogy(rms.T, label='RMS Energy')\n",
        "plt.xticks([])\n",
        "plt.xlim([0, rms.shape[-1]])\n",
        "plt.legend(loc='best')\n",
        "plt.subplot(2, 1, 2)\n",
        "librosa.display.specshow(librosa.amplitude_to_db(S, ref=np.max),y_axis='log', x_axis='time')\n",
        "plt.title('log Power spectrogram')\n",
        "plt.tight_layout()"
      ],
      "execution_count": 0,
      "outputs": []
    },
    {
      "cell_type": "code",
      "metadata": {
        "id": "8PhoAQsM79V4",
        "colab_type": "code",
        "colab": {}
      },
      "source": [
        "S = librosa.magphase(librosa.stft(y, window=np.ones, center=False))[0]\n",
        "librosa.feature.rms(S=S)"
      ],
      "execution_count": 0,
      "outputs": []
    },
    {
      "cell_type": "markdown",
      "metadata": {
        "id": "9HoEWj1m8LZ_",
        "colab_type": "text"
      },
      "source": [
        "###spectral_centroid\n",
        "\n",
        "[Ref link](https://librosa.github.io/librosa/generated/librosa.feature.spectral_centroid.html#librosa-feature-spectral-centroid)\n",
        "\n",
        "Compute the spectral centroid.\n",
        "\n",
        "Each frame of a magnitude spectrogram is normalized and treated as a distribution over frequency bins, from which the mean (centroid) is extracted per frame."
      ]
    },
    {
      "cell_type": "code",
      "metadata": {
        "id": "FHc8UbWK8aq8",
        "colab_type": "code",
        "colab": {}
      },
      "source": [
        "cent = librosa.feature.spectral_centroid(y=y, sr=sr)\n",
        "cent"
      ],
      "execution_count": 0,
      "outputs": []
    },
    {
      "cell_type": "code",
      "metadata": {
        "id": "XBmxpiAy8pfF",
        "colab_type": "code",
        "colab": {}
      },
      "source": [
        "S, phase = librosa.magphase(librosa.stft(y=y))\n",
        "librosa.feature.spectral_centroid(S=S)"
      ],
      "execution_count": 0,
      "outputs": []
    },
    {
      "cell_type": "code",
      "metadata": {
        "id": "Hxx8qzR28t5a",
        "colab_type": "code",
        "colab": {}
      },
      "source": [
        "if_gram, D = librosa.ifgram(y)\n",
        "librosa.feature.spectral_centroid(S=np.abs(D), freq=if_gram)"
      ],
      "execution_count": 0,
      "outputs": []
    },
    {
      "cell_type": "code",
      "metadata": {
        "id": "gy4qhoil8ySO",
        "colab_type": "code",
        "colab": {}
      },
      "source": [
        "plt.figure()\n",
        "plt.subplot(2, 1, 1)\n",
        "plt.semilogy(cent.T, label='Spectral centroid')\n",
        "plt.ylabel('Hz')\n",
        "plt.xticks([])\n",
        "plt.xlim([0, cent.shape[-1]])\n",
        "plt.legend()\n",
        "plt.subplot(2, 1, 2)\n",
        "librosa.display.specshow(librosa.amplitude_to_db(S, ref=np.max),y_axis='log', x_axis='time')\n",
        "plt.title('log Power spectrogram')\n",
        "plt.tight_layout()"
      ],
      "execution_count": 0,
      "outputs": []
    },
    {
      "cell_type": "markdown",
      "metadata": {
        "id": "8VnS54179Iaf",
        "colab_type": "text"
      },
      "source": [
        "###spectral_bandwidth\n",
        "\n",
        "[Ref link](https://librosa.github.io/librosa/generated/librosa.feature.spectral_bandwidth.html#librosa-feature-spectral-bandwidth)\n",
        "\n",
        "Compute p’th-order spectral bandwidth:\n",
        "\n",
        "(sum_k S[k] * (freq[k] - centroid)**p)**(1/p)"
      ]
    },
    {
      "cell_type": "code",
      "metadata": {
        "id": "ZVmB6MDq9XHz",
        "colab_type": "code",
        "colab": {}
      },
      "source": [
        "spec_bw = librosa.feature.spectral_bandwidth(y=y, sr=sr)\n",
        "spec_bw"
      ],
      "execution_count": 0,
      "outputs": []
    },
    {
      "cell_type": "code",
      "metadata": {
        "id": "O_d5MBOH9bZD",
        "colab_type": "code",
        "colab": {}
      },
      "source": [
        "S, phase = librosa.magphase(librosa.stft(y=y))\n",
        "librosa.feature.spectral_bandwidth(S=S)"
      ],
      "execution_count": 0,
      "outputs": []
    },
    {
      "cell_type": "code",
      "metadata": {
        "id": "4AwpWTBG9fEl",
        "colab_type": "code",
        "colab": {}
      },
      "source": [
        "if_gram, D = librosa.ifgram(y)\n",
        "librosa.feature.spectral_bandwidth(S=np.abs(D), freq=if_gram)"
      ],
      "execution_count": 0,
      "outputs": []
    },
    {
      "cell_type": "code",
      "metadata": {
        "id": "z5h8zSfx9irm",
        "colab_type": "code",
        "colab": {}
      },
      "source": [
        "plt.figure()\n",
        "plt.subplot(2, 1, 1)\n",
        "plt.semilogy(spec_bw.T, label='Spectral bandwidth')\n",
        "plt.ylabel('Hz')\n",
        "plt.xticks([])\n",
        "plt.xlim([0, spec_bw.shape[-1]])\n",
        "plt.legend()\n",
        "plt.subplot(2, 1, 2)\n",
        "librosa.display.specshow(librosa.amplitude_to_db(S, ref=np.max), y_axis='log', x_axis='time')\n",
        "plt.title('log Power spectrogram')\n",
        "plt.tight_layout()"
      ],
      "execution_count": 0,
      "outputs": []
    },
    {
      "cell_type": "markdown",
      "metadata": {
        "id": "hEIH36fJ91xF",
        "colab_type": "text"
      },
      "source": [
        "###spectral_contrast\n",
        "\n",
        "[Ref link](https://librosa.github.io/librosa/generated/librosa.feature.spectral_contrast.html#librosa-feature-spectral-contrast)\n",
        "\n",
        "Compute spectral contrast [1]"
      ]
    },
    {
      "cell_type": "code",
      "metadata": {
        "id": "X24EXgun-DyZ",
        "colab_type": "code",
        "colab": {}
      },
      "source": [
        "S = np.abs(librosa.stft(y))\n",
        "contrast = librosa.feature.spectral_contrast(S=S, sr=sr)"
      ],
      "execution_count": 0,
      "outputs": []
    },
    {
      "cell_type": "code",
      "metadata": {
        "id": "jq29EUZ4-HEU",
        "colab_type": "code",
        "colab": {}
      },
      "source": [
        "plt.figure()\n",
        "plt.subplot(2, 1, 1)\n",
        "librosa.display.specshow(librosa.amplitude_to_db(S,ref=np.max),y_axis='log')\n",
        "plt.colorbar(format='%+2.0f dB')\n",
        "plt.title('Power spectrogram')\n",
        "plt.subplot(2, 1, 2)\n",
        "librosa.display.specshow(contrast, x_axis='time')\n",
        "plt.colorbar()\n",
        "plt.ylabel('Frequency bands')\n",
        "plt.title('Spectral contrast')\n",
        "plt.tight_layout()"
      ],
      "execution_count": 0,
      "outputs": []
    },
    {
      "cell_type": "markdown",
      "metadata": {
        "id": "GVefFI4S-XFp",
        "colab_type": "text"
      },
      "source": [
        "###spectral_flatness\n",
        "\n",
        "[Ref link](https://librosa.github.io/librosa/generated/librosa.feature.spectral_flatness.html#librosa-feature-spectral-flatness)\n",
        "\n",
        "Compute spectral flatness\n",
        "\n",
        "Spectral flatness (or tonality coefficient) is a measure to quantify how much noise-like a sound is, as opposed to being tone-like [1]. A high spectral flatness (closer to 1.0) indicates the spectrum is similar to white noise. It is often converted to decibel."
      ]
    },
    {
      "cell_type": "code",
      "metadata": {
        "id": "V_fnYjIf-kt4",
        "colab_type": "code",
        "colab": {}
      },
      "source": [
        "flatness = librosa.feature.spectral_flatness(y=y)\n",
        "flatness"
      ],
      "execution_count": 0,
      "outputs": []
    },
    {
      "cell_type": "code",
      "metadata": {
        "id": "YndCBKH7-oK-",
        "colab_type": "code",
        "colab": {}
      },
      "source": [
        "S, phase = librosa.magphase(librosa.stft(y))\n",
        "librosa.feature.spectral_flatness(S=S)"
      ],
      "execution_count": 0,
      "outputs": []
    },
    {
      "cell_type": "code",
      "metadata": {
        "id": "CH1grI1s-sGJ",
        "colab_type": "code",
        "colab": {}
      },
      "source": [
        "S, phase = librosa.magphase(librosa.stft(y))\n",
        "S_power = S ** 2\n",
        "librosa.feature.spectral_flatness(S=S_power, power=1.0)"
      ],
      "execution_count": 0,
      "outputs": []
    },
    {
      "cell_type": "markdown",
      "metadata": {
        "id": "nxjLpNc0_Bd1",
        "colab_type": "text"
      },
      "source": [
        "###spectral_rolloff\n",
        "\n",
        "[Ref link](https://librosa.github.io/librosa/generated/librosa.feature.spectral_rolloff.html#librosa-feature-spectral-rolloff)\n",
        "\n",
        "Compute roll-off frequency.\n",
        "\n",
        "The roll-off frequency is defined for each frame as the center frequency for a spectrogram bin such that at least roll_percent (0.85 by default) of the energy of the spectrum in this frame is contained in this bin and the bins below. This can be used to, e.g., approximate the maximum (or minimum) frequency by setting roll_percent to a value close to 1 (or 0)."
      ]
    },
    {
      "cell_type": "code",
      "metadata": {
        "id": "eUg4p-7o_O6d",
        "colab_type": "code",
        "colab": {}
      },
      "source": [
        "# Approximate maximum frequencies with roll_percent=0.85 (default)\n",
        "rolloff = librosa.feature.spectral_rolloff(y=y, sr=sr)\n",
        "rolloff\n",
        "\n",
        "# Approximate minimum frequencies with roll_percent=0.1\n",
        "rolloff = librosa.feature.spectral_rolloff(y=y, sr=sr, roll_percent=0.1)\n",
        "rolloff"
      ],
      "execution_count": 0,
      "outputs": []
    },
    {
      "cell_type": "code",
      "metadata": {
        "id": "WNhgLVPD_ZYk",
        "colab_type": "code",
        "colab": {}
      },
      "source": [
        "# From spectrogram input\n",
        "S, phase = librosa.magphase(librosa.stft(y))\n",
        "librosa.feature.spectral_rolloff(S=S, sr=sr)"
      ],
      "execution_count": 0,
      "outputs": []
    },
    {
      "cell_type": "code",
      "metadata": {
        "id": "ji_gswjW_gQh",
        "colab_type": "code",
        "colab": {}
      },
      "source": [
        "# With a higher roll percentage:\n",
        "librosa.feature.spectral_rolloff(y=y, sr=sr, roll_percent=0.95)"
      ],
      "execution_count": 0,
      "outputs": []
    },
    {
      "cell_type": "code",
      "metadata": {
        "id": "zPjwZwa9_oF8",
        "colab_type": "code",
        "colab": {}
      },
      "source": [
        "plt.figure()\n",
        "plt.subplot(2, 1, 1)\n",
        "plt.semilogy(rolloff.T, label='Roll-off frequency')\n",
        "plt.ylabel('Hz')\n",
        "plt.xticks([])\n",
        "plt.xlim([0, rolloff.shape[-1]])\n",
        "plt.legend()\n",
        "plt.subplot(2, 1, 2)\n",
        "librosa.display.specshow(librosa.amplitude_to_db(S, ref=np.max), y_axis='log', x_axis='time')\n",
        "plt.title('log Power spectrogram')\n",
        "plt.tight_layout()\n"
      ],
      "execution_count": 0,
      "outputs": []
    },
    {
      "cell_type": "markdown",
      "metadata": {
        "id": "xy_Jaifj_-OA",
        "colab_type": "text"
      },
      "source": [
        "###poly_features\n",
        "\n",
        "[Ref link](https://librosa.github.io/librosa/generated/librosa.feature.poly_features.html#librosa-feature-poly-features)\n",
        "\n",
        "Get coefficients of fitting an nth-order polynomial to the columns of a spectrogram."
      ]
    },
    {
      "cell_type": "code",
      "metadata": {
        "id": "zbI5gPtlAK04",
        "colab_type": "code",
        "colab": {}
      },
      "source": [
        "S = np.abs(librosa.stft(y))"
      ],
      "execution_count": 0,
      "outputs": []
    },
    {
      "cell_type": "code",
      "metadata": {
        "id": "xCrZqLQVANoA",
        "colab_type": "code",
        "colab": {}
      },
      "source": [
        "# Fit a degree-0 polynomial (constant) to each frame\n",
        "p0 = librosa.feature.poly_features(S=S, order=0)"
      ],
      "execution_count": 0,
      "outputs": []
    },
    {
      "cell_type": "code",
      "metadata": {
        "id": "XZmFSfn0AUQH",
        "colab_type": "code",
        "colab": {}
      },
      "source": [
        "# Fit a linear polynomial to each frame\n",
        "p1 = librosa.feature.poly_features(S=S, order=1)"
      ],
      "execution_count": 0,
      "outputs": []
    },
    {
      "cell_type": "code",
      "metadata": {
        "id": "xyyWkQgAAaid",
        "colab_type": "code",
        "colab": {}
      },
      "source": [
        "# Fit a quadratic to each frame\n",
        "p2 = librosa.feature.poly_features(S=S, order=2)"
      ],
      "execution_count": 0,
      "outputs": []
    },
    {
      "cell_type": "code",
      "metadata": {
        "id": "6WXw8IALAgDf",
        "colab_type": "code",
        "colab": {}
      },
      "source": [
        "# Plot the results for comparison\n",
        "plt.figure(figsize=(8, 8))\n",
        "ax = plt.subplot(4,1,1)\n",
        "plt.plot(p2[2], label='order=2', alpha=0.8)\n",
        "plt.plot(p1[1], label='order=1', alpha=0.8)\n",
        "plt.plot(p0[0], label='order=0', alpha=0.8)\n",
        "plt.xticks([])\n",
        "plt.ylabel('Constant')\n",
        "plt.legend()\n",
        "plt.subplot(4,1,2, sharex=ax)\n",
        "plt.plot(p2[1], label='order=2', alpha=0.8)\n",
        "plt.plot(p1[0], label='order=1', alpha=0.8)\n",
        "plt.xticks([])\n",
        "plt.ylabel('Linear')\n",
        "plt.subplot(4,1,3, sharex=ax)\n",
        "plt.plot(p2[0], label='order=2', alpha=0.8)\n",
        "plt.xticks([])\n",
        "plt.ylabel('Quadratic')\n",
        "plt.subplot(4,1,4, sharex=ax)\n",
        "librosa.display.specshow(librosa.amplitude_to_db(S, ref=np.max),y_axis='log')\n",
        "plt.tight_layout()"
      ],
      "execution_count": 0,
      "outputs": []
    },
    {
      "cell_type": "markdown",
      "metadata": {
        "id": "I2kr7PaRBMmo",
        "colab_type": "text"
      },
      "source": [
        "###tonnetz\n",
        "\n",
        "[Ref link](Computes the tonal centroid features (tonnetz), following the method of [1].)\n",
        "\n",
        "Computes the tonal centroid features (tonnetz), following the method of [1]."
      ]
    },
    {
      "cell_type": "markdown",
      "metadata": {
        "id": "jA0VECeXBepz",
        "colab_type": "text"
      },
      "source": [
        "###zero_crossing_rate\n",
        "\n",
        "[Ref link](https://librosa.github.io/librosa/generated/librosa.feature.zero_crossing_rate.html#librosa-feature-zero-crossing-rate)\n",
        "\n",
        "Compute the zero-crossing rate of an audio time series."
      ]
    },
    {
      "cell_type": "code",
      "metadata": {
        "id": "Y9nZGoT5BrEM",
        "colab_type": "code",
        "colab": {}
      },
      "source": [
        "librosa.feature.zero_crossing_rate(y)"
      ],
      "execution_count": 0,
      "outputs": []
    },
    {
      "cell_type": "markdown",
      "metadata": {
        "id": "K31ZEJoLCQXM",
        "colab_type": "text"
      },
      "source": [
        "##Rhythm features\n",
        "\n",
        "[Ref link](https://librosa.github.io/librosa/feature.html#rhythm-features)"
      ]
    },
    {
      "cell_type": "markdown",
      "metadata": {
        "id": "P98wWPvTCcml",
        "colab_type": "text"
      },
      "source": [
        "###tempogram\n",
        "\n",
        "[Ref link](https://librosa.github.io/librosa/generated/librosa.feature.tempogram.html#librosa-feature-tempogram)\n",
        "\n",
        "Compute the tempogram: local autocorrelation of the onset strength envelope. [1]"
      ]
    },
    {
      "cell_type": "code",
      "metadata": {
        "id": "JY7Zp5dqCxyd",
        "colab_type": "code",
        "colab": {}
      },
      "source": [
        "hop_length = 512\n",
        "oenv = librosa.onset.onset_strength(y=y, sr=sr, hop_length=hop_length)\n",
        "tempogram = librosa.feature.tempogram(onset_envelope=oenv, sr=sr,hop_length=hop_length)\n",
        "# Compute global onset autocorrelation\n",
        "ac_global = librosa.autocorrelate(oenv, max_size=tempogram.shape[0])\n",
        "ac_global = librosa.util.normalize(ac_global)\n",
        "# Estimate the global tempo for display purposes\n",
        "tempo = librosa.beat.tempo(onset_envelope=oenv, sr=sr,hop_length=hop_length)[0]"
      ],
      "execution_count": 0,
      "outputs": []
    },
    {
      "cell_type": "code",
      "metadata": {
        "id": "mPf-VImCC-IQ",
        "colab_type": "code",
        "outputId": "c0a3400e-0c65-4975-a131-00fd92effdad",
        "colab": {
          "base_uri": "https://localhost:8080/",
          "height": 585
        }
      },
      "source": [
        "plt.figure(figsize=(8, 8))\n",
        "plt.subplot(4, 1, 1)\n",
        "plt.plot(oenv, label='Onset strength')\n",
        "plt.xticks([])\n",
        "plt.legend(frameon=True)\n",
        "plt.axis('tight')\n",
        "plt.subplot(4, 1, 2)\n",
        "# We'll truncate the display to a narrower range of tempi\n",
        "librosa.display.specshow(tempogram, sr=sr, hop_length=hop_length,\n",
        "                          x_axis='time', y_axis='tempo')\n",
        "plt.axhline(tempo, color='w', linestyle='--', alpha=1,\n",
        "             label='Estimated tempo={:g}'.format(tempo))\n",
        "plt.legend(frameon=True, framealpha=0.75)\n",
        "plt.subplot(4, 1, 3)\n",
        "x = np.linspace(0, tempogram.shape[0] * float(hop_length) / sr,\n",
        "                num=tempogram.shape[0])\n",
        "plt.plot(x, np.mean(tempogram, axis=1), label='Mean local autocorrelation')\n",
        "plt.plot(x, ac_global, '--', alpha=0.75, label='Global autocorrelation')\n",
        "plt.xlabel('Lag (seconds)')\n",
        "plt.axis('tight')\n",
        "plt.legend(frameon=True)\n",
        "plt.subplot(4,1,4)\n",
        "# We can also plot on a BPM axis\n",
        "freqs = librosa.tempo_frequencies(tempogram.shape[0], hop_length=hop_length, sr=sr)\n",
        "plt.semilogx(freqs[1:], np.mean(tempogram[1:], axis=1),\n",
        "              label='Mean local autocorrelation', basex=2)\n",
        "plt.semilogx(freqs[1:], ac_global[1:], '--', alpha=0.75,\n",
        "              label='Global autocorrelation', basex=2)\n",
        "plt.axvline(tempo, color='black', linestyle='--', alpha=.8,\n",
        "             label='Estimated tempo={:g}'.format(tempo))\n",
        "plt.legend(frameon=True)\n",
        "plt.xlabel('BPM')\n",
        "plt.axis('tight')\n",
        "plt.grid()\n",
        "plt.tight_layout()"
      ],
      "execution_count": 0,
      "outputs": [
        {
          "output_type": "display_data",
          "data": {
            "image/png": "[encoded data removed]",
            "text/plain": [
              "<Figure size 576x576 with 4 Axes>"
            ]
          },
          "metadata": {
            "tags": []
          }
        }
      ]
    },
    {
      "cell_type": "markdown",
      "metadata": {
        "id": "m4jgxmquDoue",
        "colab_type": "text"
      },
      "source": [
        "##Feature manipulation\n",
        "\n",
        "[Ref link](https://librosa.github.io/librosa/feature.html#feature-manipulation)"
      ]
    },
    {
      "cell_type": "markdown",
      "metadata": {
        "id": "zMK-c7j-EFL-",
        "colab_type": "text"
      },
      "source": [
        "###delta\n",
        "\n",
        "[Ref link](https://librosa.github.io/librosa/generated/librosa.feature.delta.html#librosa-feature-delta)\n",
        "\n",
        "Compute delta features: local estimate of the derivative of the input data along the selected axis.\n",
        "\n",
        "Delta features are computed Savitsky-Golay filtering."
      ]
    },
    {
      "cell_type": "code",
      "metadata": {
        "id": "yZYcQZvFESYs",
        "colab_type": "code",
        "colab": {}
      },
      "source": [
        "mfcc = librosa.feature.mfcc(y=y, sr=sr)\n",
        "mfcc_delta = librosa.feature.delta(mfcc)\n",
        "mfcc_delta"
      ],
      "execution_count": 0,
      "outputs": []
    },
    {
      "cell_type": "code",
      "metadata": {
        "id": "PABrITEOEWs2",
        "colab_type": "code",
        "colab": {}
      },
      "source": [
        "mfcc_delta2 = librosa.feature.delta(mfcc, order=2)\n",
        "mfcc_delta2"
      ],
      "execution_count": 0,
      "outputs": []
    },
    {
      "cell_type": "code",
      "metadata": {
        "id": "WGbp2YG2EYJi",
        "colab_type": "code",
        "colab": {}
      },
      "source": [
        "plt.subplot(3, 1, 1)\n",
        "librosa.display.specshow(mfcc)\n",
        "plt.title('MFCC')\n",
        "plt.colorbar()\n",
        "plt.subplot(3, 1, 2)\n",
        "librosa.display.specshow(mfcc_delta)\n",
        "plt.title(r'MFCC-$\\Delta$')\n",
        "plt.colorbar()\n",
        "plt.subplot(3, 1, 3)\n",
        "librosa.display.specshow(mfcc_delta2, x_axis='time')\n",
        "plt.title(r'MFCC-$\\Delta^2$')\n",
        "plt.colorbar()\n",
        "plt.tight_layout()\n"
      ],
      "execution_count": 0,
      "outputs": []
    },
    {
      "cell_type": "markdown",
      "metadata": {
        "id": "k1Rvz7G_Ez7f",
        "colab_type": "text"
      },
      "source": [
        "###stack_memory\n",
        "\n",
        "[Ref link](https://librosa.github.io/librosa/generated/librosa.feature.stack_memory.html#librosa-feature-stack-memory)\n",
        "\n",
        "Short-term history embedding: vertically concatenate a data vector or matrix with delayed copies of itself.\n",
        "\n",
        "Each column data[:, i] is mapped to:\n",
        "\n",
        "data[:, i] ->  [data[:, i],\n",
        "                data[:, i - delay],\n",
        "                ...\n",
        "                data[:, i - (n_steps-1)*delay]]\n",
        "\n",
        "For columns i < (n_steps - 1) * delay , the data will be padded. By default, the data is padded with zeros, but this behavior can be overridden by supplying additional keyword arguments which are passed to np.pad()."
      ]
    },
    {
      "cell_type": "code",
      "metadata": {
        "id": "zphtPy14FMc9",
        "colab_type": "code",
        "colab": {}
      },
      "source": [
        "# Keep two steps (current and previous)\n",
        "data = np.arange(-3, 3)\n",
        "librosa.feature.stack_memory(data)"
      ],
      "execution_count": 0,
      "outputs": []
    },
    {
      "cell_type": "code",
      "metadata": {
        "id": "1hTyODU6FUqR",
        "colab_type": "code",
        "colab": {}
      },
      "source": [
        "# Or three steps\n",
        "librosa.feature.stack_memory(data, n_steps=3)"
      ],
      "execution_count": 0,
      "outputs": []
    },
    {
      "cell_type": "code",
      "metadata": {
        "id": "wJKEfRSYFa0z",
        "colab_type": "code",
        "colab": {}
      },
      "source": [
        "# Use reflection padding instead of zero-padding\n",
        "librosa.feature.stack_memory(data, n_steps=3, mode='reflect')"
      ],
      "execution_count": 0,
      "outputs": []
    },
    {
      "cell_type": "code",
      "metadata": {
        "id": "vz4xIYJhFkV4",
        "colab_type": "code",
        "colab": {}
      },
      "source": [
        "# Or pad with edge-values, and delay by 2\n",
        "librosa.feature.stack_memory(data, n_steps=3, delay=2, mode='edge')"
      ],
      "execution_count": 0,
      "outputs": []
    },
    {
      "cell_type": "code",
      "metadata": {
        "id": "zP5c1SU5Fq5p",
        "colab_type": "code",
        "colab": {}
      },
      "source": [
        "# Stack time-lagged beat-synchronous chroma edge padding\n",
        "chroma = librosa.feature.chroma_stft(y=y, sr=sr)\n",
        "tempo, beats = librosa.beat.beat_track(y=y, sr=sr, hop_length=512)\n",
        "beats = librosa.util.fix_frames(beats, x_min=0, x_max=chroma.shape[1])\n",
        "chroma_sync = librosa.util.sync(chroma, beats)\n",
        "chroma_lag = librosa.feature.stack_memory(chroma_sync, n_steps=3,mode='edge')"
      ],
      "execution_count": 0,
      "outputs": []
    },
    {
      "cell_type": "code",
      "metadata": {
        "id": "gps-eAL6F0gt",
        "colab_type": "code",
        "colab": {}
      },
      "source": [
        "beat_times = librosa.frames_to_time(beats, sr=sr, hop_length=512)\n",
        "librosa.display.specshow(chroma_lag, y_axis='chroma', x_axis='time',x_coords=beat_times)\n",
        "plt.yticks([0, 12, 24], ['Lag=0', 'Lag=1', 'Lag=2'])\n",
        "plt.title('Time-lagged chroma')\n",
        "plt.colorbar()\n",
        "plt.tight_layout()"
      ],
      "execution_count": 0,
      "outputs": []
    },
    {
      "cell_type": "markdown",
      "metadata": {
        "id": "Mz8sPolHneIQ",
        "colab_type": "text"
      },
      "source": [
        "##Onset detection\n",
        "\n",
        "[Ref link](https://librosa.github.io/librosa/onset.html#onset-detection)"
      ]
    },
    {
      "cell_type": "markdown",
      "metadata": {
        "id": "ml4Gz_q4ntyl",
        "colab_type": "text"
      },
      "source": [
        "###onset_detect\n",
        "\n",
        "[Ref link](https://librosa.github.io/librosa/generated/librosa.onset.onset_detect.html#librosa-onset-onset-detect)\n",
        "\n",
        "Basic onset detector. Locate note onset events by picking peaks in an onset strength envelope.\n",
        "\n",
        "The peak_pick parameters were chosen by large-scale hyper-parameter optimization over the dataset provided by [1]."
      ]
    },
    {
      "cell_type": "code",
      "metadata": {
        "id": "2wQjNBEVoAG4",
        "colab_type": "code",
        "colab": {}
      },
      "source": [
        "# Get onset times from a signal\n",
        "onset_frames = librosa.onset.onset_detect(y=y, sr=sr)\n",
        "librosa.frames_to_time(onset_frames, sr=sr)"
      ],
      "execution_count": 0,
      "outputs": []
    },
    {
      "cell_type": "code",
      "metadata": {
        "id": "12N8jkjboaGX",
        "colab_type": "code",
        "colab": {}
      },
      "source": [
        "# Or use a pre-computed onset envelope\n",
        "o_env = librosa.onset.onset_strength(y, sr=sr)\n",
        "times = librosa.frames_to_time(np.arange(len(o_env)), sr=sr)\n",
        "onset_frames = librosa.onset.onset_detect(onset_envelope=o_env, sr=sr)"
      ],
      "execution_count": 0,
      "outputs": []
    },
    {
      "cell_type": "code",
      "metadata": {
        "id": "JO8BjOJbom9A",
        "colab_type": "code",
        "colab": {}
      },
      "source": [
        "D = np.abs(librosa.stft(y))\n",
        "plt.figure()\n",
        "ax1 = plt.subplot(2, 1, 1)\n",
        "librosa.display.specshow(librosa.amplitude_to_db(D, ref=np.max),\n",
        "                          x_axis='time', y_axis='log')\n",
        "plt.title('Power spectrogram')\n",
        "plt.subplot(2, 1, 2, sharex=ax1)\n",
        "plt.plot(times, o_env, label='Onset strength')\n",
        "plt.vlines(times[onset_frames], 0, o_env.max(), color='r', alpha=0.9,\n",
        "            linestyle='--', label='Onsets')\n",
        "plt.axis('tight')\n",
        "plt.legend(frameon=True, framealpha=0.75)"
      ],
      "execution_count": 0,
      "outputs": []
    },
    {
      "cell_type": "markdown",
      "metadata": {
        "id": "LweF2V0qpM6m",
        "colab_type": "text"
      },
      "source": [
        "###onset_backtrack\n",
        "\n",
        "[Ref link](https://librosa.github.io/librosa/generated/librosa.onset.onset_backtrack.html#librosa-onset-onset-backtrack)\n",
        "\n",
        "Backtrack detected onset events to the nearest preceding local minimum of an energy function.\n",
        "\n",
        "This function can be used to roll back the timing of detected onsets from a detected peak amplitude to the preceding minimum.\n",
        "\n",
        "This is most useful when using onsets to determine slice points for segmentation, as described by [1]."
      ]
    },
    {
      "cell_type": "code",
      "metadata": {
        "id": "qnuFGf-spp10",
        "colab_type": "code",
        "colab": {}
      },
      "source": [
        "oenv = librosa.onset.onset_strength(y=y, sr=sr)\n",
        "# Detect events without backtracking\n",
        "onset_raw = librosa.onset.onset_detect(onset_envelope=oenv,\n",
        "                                       backtrack=False)\n",
        "# Backtrack the events using the onset envelope\n",
        "onset_bt = librosa.onset.onset_backtrack(onset_raw, oenv)\n",
        "# Backtrack the events using the RMS values\n",
        "rms = librosa.feature.rms(S=np.abs(librosa.stft(y=y)))\n",
        "onset_bt_rms = librosa.onset.onset_backtrack(onset_raw, rms[0])"
      ],
      "execution_count": 0,
      "outputs": []
    },
    {
      "cell_type": "code",
      "metadata": {
        "id": "Sw0PKbk8pxov",
        "colab_type": "code",
        "colab": {}
      },
      "source": [
        "# Plot the results\n",
        "plt.figure()\n",
        "plt.subplot(2,1,1)\n",
        "plt.plot(oenv, label='Onset strength')\n",
        "plt.vlines(onset_raw, 0, oenv.max(), label='Raw onsets')\n",
        "plt.vlines(onset_bt, 0, oenv.max(), label='Backtracked', color='r')\n",
        "plt.legend(frameon=True, framealpha=0.75)\n",
        "plt.subplot(2,1,2)\n",
        "plt.plot(rms[0], label='RMS')\n",
        "plt.vlines(onset_bt_rms, 0, rms.max(), label='Backtracked (RMS)', color='r')\n",
        "plt.legend(frameon=True, framealpha=0.75)"
      ],
      "execution_count": 0,
      "outputs": []
    },
    {
      "cell_type": "markdown",
      "metadata": {
        "id": "8aUOUk1hqdSV",
        "colab_type": "text"
      },
      "source": [
        "###onset_strength\n",
        "\n",
        "[Ref  link](https://librosa.github.io/librosa/generated/librosa.onset.onset_strength.html#librosa-onset-onset-strength)\n",
        "\n",
        "Compute a spectral flux onset strength envelope.\n",
        "\n",
        "Onset strength at time t is determined by:\n",
        "\n",
        "mean_f max(0, S[f, t] - ref_S[f, t - lag])\n",
        "\n",
        "where ref_S is S after local max filtering along the frequency axis [1].\n",
        "\n",
        "By default, if a time series y is provided, S will be the log-power Mel spectrogram."
      ]
    },
    {
      "cell_type": "code",
      "metadata": {
        "id": "h4oQDA_aqw4y",
        "colab_type": "code",
        "colab": {}
      },
      "source": [
        "# First, load some audio and plot the spectrogram\n",
        "D = np.abs(librosa.stft(y))\n",
        "times = librosa.frames_to_time(np.arange(D.shape[1]))\n",
        "plt.figure()\n",
        "ax1 = plt.subplot(2, 1, 1)\n",
        "librosa.display.specshow(librosa.amplitude_to_db(D, ref=np.max),\n",
        "                          y_axis='log', x_axis='time')\n",
        "plt.title('Power spectrogram')"
      ],
      "execution_count": 0,
      "outputs": []
    },
    {
      "cell_type": "code",
      "metadata": {
        "id": "UssDBpnorMDr",
        "colab_type": "code",
        "colab": {}
      },
      "source": [
        "# Construct a standard onset function\n",
        "onset_env = librosa.onset.onset_strength(y=y, sr=sr)\n",
        "plt.subplot(2, 1, 2, sharex=ax1)\n",
        "plt.plot(times, 2 + onset_env / onset_env.max(), alpha=0.8,\n",
        "          label='Mean (mel)')"
      ],
      "execution_count": 0,
      "outputs": []
    },
    {
      "cell_type": "code",
      "metadata": {
        "id": "WwtLGm7PutW0",
        "colab_type": "code",
        "colab": {}
      },
      "source": [
        "# Median aggregation, and custom mel options\n",
        "onset_env = librosa.onset.onset_strength(y=y, sr=sr,\n",
        "                                          aggregate=np.median,\n",
        "                                         fmax=8000, n_mels=256)\n",
        "plt.plot(times, 1 + onset_env / onset_env.max(), alpha=0.8,\n",
        "          label='Median (custom mel)')"
      ],
      "execution_count": 0,
      "outputs": []
    },
    {
      "cell_type": "code",
      "metadata": {
        "id": "8AlPQ9UKu2t_",
        "colab_type": "code",
        "colab": {}
      },
      "source": [
        "# Constant-Q spectrogram instead of Mel\n",
        "onset_env = librosa.onset.onset_strength(y=y, sr=sr,\n",
        "                                          feature=librosa.cqt)\n",
        "plt.plot(times, onset_env / onset_env.max(), alpha=0.8,\n",
        "          label='Mean (CQT)')\n",
        "plt.legend(frameon=True, framealpha=0.75)\n",
        "plt.ylabel('Normalized strength')\n",
        "plt.yticks([])\n",
        "plt.axis('tight')\n",
        "plt.tight_layout()"
      ],
      "execution_count": 0,
      "outputs": []
    },
    {
      "cell_type": "markdown",
      "metadata": {
        "id": "r7NZZfF7vY6d",
        "colab_type": "text"
      },
      "source": [
        "###onset_strength_multi\n",
        "\n",
        "[Ref link](https://librosa.github.io/librosa/generated/librosa.onset.onset_strength_multi.html#librosa-onset-onset-strength-multi)\n",
        "\n",
        "Compute a spectral flux onset strength envelope across multiple channels.\n",
        "\n",
        "Onset strength for channel i at time t is determined by:\n",
        "\n",
        "mean_{f in channels[i]} max(0, S[f, t+1] - S[f, t])"
      ]
    },
    {
      "cell_type": "code",
      "metadata": {
        "id": "eHPcht4Bvyu4",
        "colab_type": "code",
        "colab": {}
      },
      "source": [
        "# First, load some audio and plot the spectrogram\n",
        "D = np.abs(librosa.stft(y))\n",
        "plt.figure()\n",
        "plt.subplot(2, 1, 1)\n",
        "librosa.display.specshow(librosa.amplitude_to_db(D, ref=np.max),\n",
        "                          y_axis='log')\n",
        "plt.title('Power spectrogram')"
      ],
      "execution_count": 0,
      "outputs": []
    },
    {
      "cell_type": "code",
      "metadata": {
        "id": "4Eim_nhbv83n",
        "colab_type": "code",
        "colab": {}
      },
      "source": [
        "# Construct a standard onset function over four sub-bands\n",
        "onset_subbands = librosa.onset.onset_strength_multi(y=y, sr=sr,\n",
        "                                                     channels=[0, 32, 64, 96, 128])\n",
        "plt.subplot(2, 1, 2)\n",
        "librosa.display.specshow(onset_subbands, x_axis='time')\n",
        "plt.ylabel('Sub-bands')\n",
        "plt.title('Sub-band onset strength')"
      ],
      "execution_count": 0,
      "outputs": []
    },
    {
      "cell_type": "markdown",
      "metadata": {
        "id": "Reap16AawT7i",
        "colab_type": "text"
      },
      "source": [
        "##Beat and tempo\n",
        "\n",
        "[Ref link](https://librosa.github.io/librosa/beat.html#beat-and-tempo)"
      ]
    },
    {
      "cell_type": "markdown",
      "metadata": {
        "id": "LOYfGkxQwcBq",
        "colab_type": "text"
      },
      "source": [
        "###beat_track\n",
        "\n",
        "[Ref link](https://librosa.github.io/librosa/generated/librosa.beat.beat_track.html#librosa-beat-beat-track)\n",
        "\n",
        "Dynamic programming beat tracker.\n",
        "\n",
        "Beats are detected in three stages, following the method of [1]:\n",
        "\n",
        "        Measure onset strength\n",
        "        Estimate tempo from onset correlation\n",
        "        Pick peaks in onset strength approximately consistent with estimated tempo"
      ]
    },
    {
      "cell_type": "code",
      "metadata": {
        "id": "Om1GKGWlwamz",
        "colab_type": "code",
        "colab": {}
      },
      "source": [
        "# Track beats using time series input\n",
        "tempo, beats = librosa.beat.beat_track(y=y, sr=sr)\n",
        "tempo"
      ],
      "execution_count": 0,
      "outputs": []
    },
    {
      "cell_type": "code",
      "metadata": {
        "id": "JjdQ9IdRw8oZ",
        "colab_type": "code",
        "colab": {}
      },
      "source": [
        "# Print the first 20 beat frames\n",
        "beats[:20]"
      ],
      "execution_count": 0,
      "outputs": []
    },
    {
      "cell_type": "code",
      "metadata": {
        "id": "NHx_wGj2xDSC",
        "colab_type": "code",
        "colab": {}
      },
      "source": [
        "# Or print them as timestamps\n",
        "librosa.frames_to_time(beats[:20], sr=sr)"
      ],
      "execution_count": 0,
      "outputs": []
    },
    {
      "cell_type": "code",
      "metadata": {
        "id": "k1JGbIJfxJuh",
        "colab_type": "code",
        "colab": {}
      },
      "source": [
        "# Track beats using a pre-computed onset envelope\n",
        "onset_env = librosa.onset.onset_strength(y, sr=sr,\n",
        "                                          aggregate=np.median)\n",
        "tempo, beats = librosa.beat.beat_track(onset_envelope=onset_env,\n",
        "                                       sr=sr)\n",
        "tempo\n",
        "\n",
        "beats[:20]"
      ],
      "execution_count": 0,
      "outputs": []
    },
    {
      "cell_type": "code",
      "metadata": {
        "id": "LsmBzT34xUyg",
        "colab_type": "code",
        "colab": {}
      },
      "source": [
        "# Plot the beat events against the onset strength envelope\n",
        "hop_length = 512\n",
        "plt.figure(figsize=(8, 4))\n",
        "times = librosa.frames_to_time(np.arange(len(onset_env)),\n",
        "                                sr=sr, hop_length=hop_length)\n",
        "plt.plot(times, librosa.util.normalize(onset_env),\n",
        "          label='Onset strength')\n",
        "plt.vlines(times[beats], 0, 1, alpha=0.5, color='r',\n",
        "            linestyle='--', label='Beats')\n",
        "plt.legend(frameon=True, framealpha=0.75)\n",
        "# Limit the plot to a 15-second window\n",
        "plt.xlim(15, 30)\n",
        "plt.gca().xaxis.set_major_formatter(librosa.display.TimeFormatter())\n",
        "plt.tight_layout()"
      ],
      "execution_count": 0,
      "outputs": []
    },
    {
      "cell_type": "markdown",
      "metadata": {
        "id": "Rr5zoQ1Ex63-",
        "colab_type": "text"
      },
      "source": [
        "###tempo\n",
        "\n",
        "[Ref link](Estimate the tempo (beats per minute))\n",
        "\n",
        "Estimate the tempo (beats per minute)"
      ]
    },
    {
      "cell_type": "code",
      "metadata": {
        "id": "ikb9nJvqyQN_",
        "colab_type": "code",
        "outputId": "9d6622bf-3cee-48e0-ff97-ad07b89b2256",
        "colab": {
          "base_uri": "https://localhost:8080/",
          "height": 34
        }
      },
      "source": [
        "# Estimate a static tempo\n",
        "onset_env = librosa.onset.onset_strength(y, sr=sr)\n",
        "tempo = librosa.beat.tempo(onset_envelope=onset_env, sr=sr)\n",
        "tempo"
      ],
      "execution_count": 0,
      "outputs": [
        {
          "output_type": "execute_result",
          "data": {
            "text/plain": [
              "array([123.046875])"
            ]
          },
          "metadata": {
            "tags": []
          },
          "execution_count": 21
        }
      ]
    },
    {
      "cell_type": "code",
      "metadata": {
        "id": "cRvck41uyb16",
        "colab_type": "code",
        "outputId": "43be3a10-d50c-462c-ba7f-05a5a771ecce",
        "colab": {
          "base_uri": "https://localhost:8080/",
          "height": 52
        }
      },
      "source": [
        "# Or a dynamic tempo\n",
        "dtempo = librosa.beat.tempo(onset_envelope=onset_env, sr=sr, aggregate=None)\n",
        "dtempo"
      ],
      "execution_count": 0,
      "outputs": [
        {
          "output_type": "execute_result",
          "data": {
            "text/plain": [
              "array([117.45383523, 117.45383523, 117.45383523, ..., 107.66601562,\n",
              "       107.66601562, 107.66601562])"
            ]
          },
          "metadata": {
            "tags": []
          },
          "execution_count": 22
        }
      ]
    },
    {
      "cell_type": "code",
      "metadata": {
        "id": "cFHW3kduyhfK",
        "colab_type": "code",
        "colab": {}
      },
      "source": [
        "# Plot the estimated tempo against the onset autocorrelation\n",
        "# Convert to scalar\n",
        "tempo = np.asscalar(tempo)\n",
        "# Compute 2-second windowed autocorrelation\n",
        "hop_length = 512\n",
        "ac = librosa.autocorrelate(onset_env, 2 * sr // hop_length)\n",
        "freqs = librosa.tempo_frequencies(len(ac), sr=sr,\n",
        "                                   hop_length=hop_length)\n",
        "# Plot on a BPM axis.  We skip the first (0-lag) bin.\n",
        "plt.figure(figsize=(8,4))\n",
        "plt.semilogx(freqs[1:], librosa.util.normalize(ac)[1:],\n",
        "              label='Onset autocorrelation', basex=2)\n",
        "plt.axvline(tempo, 0, 1, color='r', alpha=0.75, linestyle='--',\n",
        "            label='Tempo: {:.2f} BPM'.format(tempo))\n",
        "plt.xlabel('Tempo (BPM)')\n",
        "plt.grid()\n",
        "plt.title('Static tempo estimation')\n",
        "plt.legend(frameon=True)\n",
        "plt.axis('tight')"
      ],
      "execution_count": 0,
      "outputs": []
    },
    {
      "cell_type": "code",
      "metadata": {
        "id": "fdVjh5gjy1Ag",
        "colab_type": "code",
        "colab": {}
      },
      "source": [
        "# Plot dynamic tempo estimates over a tempogram\n",
        "plt.figure()\n",
        "tg = librosa.feature.tempogram(onset_envelope=onset_env, sr=sr,\n",
        "                                hop_length=hop_length)\n",
        "librosa.display.specshow(tg, x_axis='time', y_axis='tempo')\n",
        "plt.plot(librosa.frames_to_time(np.arange(len(dtempo))), dtempo,\n",
        "          color='w', linewidth=1.5, label='Tempo estimate')\n",
        "plt.title('Dynamic tempo estimation')\n",
        "plt.legend(frameon=True, framealpha=0.75)"
      ],
      "execution_count": 0,
      "outputs": []
    },
    {
      "cell_type": "markdown",
      "metadata": {
        "id": "3NtzHhdVzf6B",
        "colab_type": "text"
      },
      "source": [
        "##Spectrogram decomposition\n",
        "\n",
        "[Ref link[link text](https://)](https://librosa.github.io/librosa/decompose.html#spectrogram-decomposition)"
      ]
    },
    {
      "cell_type": "markdown",
      "metadata": {
        "id": "z0FNxtW_zsUX",
        "colab_type": "text"
      },
      "source": [
        "##decompose\n",
        "\n",
        "[Ref link](https://librosa.github.io/librosa/generated/librosa.decompose.decompose.html#librosa-decompose-decompose)\n",
        "\n",
        "Decompose a feature matrix.\n",
        "\n",
        "Given a spectrogram S, produce a decomposition into components and activations such that S ~= components.dot(activations).\n",
        "\n",
        "By default, this is done with with non-negative matrix factorization (NMF), but any sklearn.decomposition-type object will work."
      ]
    },
    {
      "cell_type": "code",
      "metadata": {
        "id": "-NnvGAXmz9Ku",
        "colab_type": "code",
        "outputId": "b94a942f-89ca-4e34-ef86-e493bff6cb26",
        "colab": {
          "base_uri": "https://localhost:8080/",
          "height": 243
        }
      },
      "source": [
        "# Decompose a magnitude spectrogram into 32 components with NMF\n",
        "S = np.abs(librosa.stft(y))\n",
        "comps, acts = librosa.decompose.decompose(S, n_components=8)\n",
        "comps\n",
        "acts"
      ],
      "execution_count": 0,
      "outputs": [
        {
          "output_type": "execute_result",
          "data": {
            "text/plain": [
              "array([[0.00536476, 0.02547791, 0.05778324, ..., 0.00088703, 0.00068332,\n",
              "        0.003137  ],\n",
              "       [0.01120039, 0.00845316, 0.00286522, ..., 0.01594064, 0.01785227,\n",
              "        0.01315993],\n",
              "       [0.00357832, 0.00666641, 0.01053522, ..., 0.00965038, 0.01286242,\n",
              "        0.00843401],\n",
              "       ...,\n",
              "       [0.00086807, 0.00619357, 0.014796  , ..., 0.        , 0.        ,\n",
              "        0.        ],\n",
              "       [0.01104838, 0.02307833, 0.03801829, ..., 0.02409251, 0.03135092,\n",
              "        0.0204328 ],\n",
              "       [0.00419355, 0.00534954, 0.00304839, ..., 0.00042745, 0.        ,\n",
              "        0.        ]])"
            ]
          },
          "metadata": {
            "tags": []
          },
          "execution_count": 25
        }
      ]
    },
    {
      "cell_type": "code",
      "metadata": {
        "id": "zABZYIh50IYP",
        "colab_type": "code",
        "colab": {}
      },
      "source": [
        "# Sort components by ascending peak frequency\n",
        "comps, acts = librosa.decompose.decompose(S, n_components=16, sort=True)"
      ],
      "execution_count": 0,
      "outputs": []
    },
    {
      "cell_type": "code",
      "metadata": {
        "id": "-TihxuSR0QAK",
        "colab_type": "code",
        "colab": {}
      },
      "source": [
        "# Or with sparse dictionary learning\n",
        "import sklearn.decomposition\n",
        "T = sklearn.decomposition.MiniBatchDictionaryLearning(n_components=16)\n",
        "scomps, sacts = librosa.decompose.decompose(S, transformer=T, sort=True)"
      ],
      "execution_count": 0,
      "outputs": []
    },
    {
      "cell_type": "code",
      "metadata": {
        "id": "djHDc_V_0PtN",
        "colab_type": "code",
        "colab": {}
      },
      "source": [
        "plt.figure(figsize=(10,8))\n",
        "plt.subplot(3, 1, 1)\n",
        "librosa.display.specshow(librosa.amplitude_to_db(S,\n",
        "                                                  ref=np.max),\n",
        "                          y_axis='log', x_axis='time')\n",
        "plt.title('Input spectrogram')\n",
        "plt.colorbar(format='%+2.0f dB')\n",
        "plt.subplot(3, 2, 3)\n",
        "librosa.display.specshow(librosa.amplitude_to_db(comps, ref=np.max), y_axis='log')\n",
        "plt.colorbar(format='%+2.0f dB')\n",
        "plt.title('Components')\n",
        "plt.subplot(3, 2, 4)\n",
        "librosa.display.specshow(acts, x_axis='time')\n",
        "plt.ylabel('Components')\n",
        "plt.title('Activations')\n",
        "plt.colorbar()\n",
        "plt.subplot(3, 1, 3)\n",
        "S_approx = comps.dot(acts)\n",
        "librosa.display.specshow(librosa.amplitude_to_db(S_approx, ref=np.max), y_axis='log', x_axis='time')\n",
        "plt.colorbar(format='%+2.0f dB')\n",
        "plt.title('Reconstructed spectrogram')\n",
        "plt.tight_layout()"
      ],
      "execution_count": 0,
      "outputs": []
    },
    {
      "cell_type": "markdown",
      "metadata": {
        "id": "RPqc4MBO3WVK",
        "colab_type": "text"
      },
      "source": [
        "###hpss\n",
        "\n",
        "[Ref link](https://librosa.github.io/librosa/generated/librosa.decompose.hpss.html#librosa-decompose-hpss)\n",
        "\n",
        "Median-filtering harmonic percussive source separation (HPSS).\n",
        "\n",
        "If margin = 1.0, decomposes an input spectrogram S = H + P where H contains the harmonic components, and P contains the percussive components.\n",
        "\n",
        "If margin > 1.0, decomposes an input spectrogram S = H + P + R where R contains residual components not included in H or P.\n",
        "\n",
        "This implementation is based upon the algorithm described by [1] and [2]."
      ]
    },
    {
      "cell_type": "code",
      "metadata": {
        "id": "aeETNuuP3nQ-",
        "colab_type": "code",
        "colab": {}
      },
      "source": [
        "# Separate into harmonic and percussive\n",
        "D = librosa.stft(y)\n",
        "H, P = librosa.decompose.hpss(D)"
      ],
      "execution_count": 0,
      "outputs": []
    },
    {
      "cell_type": "code",
      "metadata": {
        "id": "3fmWB2Lo3t1v",
        "colab_type": "code",
        "colab": {}
      },
      "source": [
        "plt.figure()\n",
        "plt.subplot(3, 1, 1)\n",
        "librosa.display.specshow(librosa.amplitude_to_db(np.abs(D),ref=np.max),y_axis='log')\n",
        "plt.colorbar(format='%+2.0f dB')\n",
        "plt.title('Full power spectrogram')\n",
        "plt.subplot(3, 1, 2)\n",
        "librosa.display.specshow(librosa.amplitude_to_db(np.abs(H),ref=np.max),y_axis='log')\n",
        "plt.colorbar(format='%+2.0f dB')\n",
        "plt.title('Harmonic power spectrogram')\n",
        "plt.subplot(3, 1, 3)\n",
        "librosa.display.specshow(librosa.amplitude_to_db(np.abs(P),ref=np.max),y_axis='log')\n",
        "plt.colorbar(format='%+2.0f dB')\n",
        "plt.title('Percussive power spectrogram')\n",
        "plt.tight_layout()"
      ],
      "execution_count": 0,
      "outputs": []
    },
    {
      "cell_type": "code",
      "metadata": {
        "id": "OwHM30Po3_JI",
        "colab_type": "code",
        "colab": {}
      },
      "source": [
        "# Or with a narrower horizontal filter\n",
        "H, P = librosa.decompose.hpss(D, kernel_size=(13, 31))"
      ],
      "execution_count": 0,
      "outputs": []
    },
    {
      "cell_type": "code",
      "metadata": {
        "id": "8aq4C0iE4FS8",
        "colab_type": "code",
        "colab": {}
      },
      "source": [
        "# Just get harmonic/percussive masks, not the spectra\n",
        "mask_H, mask_P = librosa.decompose.hpss(D, mask=True)\n",
        "\n",
        "mask_H\n",
        "\n",
        "mask_P"
      ],
      "execution_count": 0,
      "outputs": []
    },
    {
      "cell_type": "code",
      "metadata": {
        "id": "p1bXqQce4PA0",
        "colab_type": "code",
        "colab": {}
      },
      "source": [
        "# Separate into harmonic/percussive/residual components by using a margin > 1.0\n",
        "H, P = librosa.decompose.hpss(D, margin=3.0)\n",
        "R = D - (H+P)\n",
        "y_harm = librosa.core.istft(H)\n",
        "y_perc = librosa.core.istft(P)\n",
        "y_resi = librosa.core.istft(R)"
      ],
      "execution_count": 0,
      "outputs": []
    },
    {
      "cell_type": "code",
      "metadata": {
        "id": "bjXmGe6r4WbG",
        "colab_type": "code",
        "colab": {}
      },
      "source": [
        "# Get a more isolated percussive component by widening its margin\n",
        "H, P = librosa.decompose.hpss(D, margin=(1.0,5.0))"
      ],
      "execution_count": 0,
      "outputs": []
    },
    {
      "cell_type": "markdown",
      "metadata": {
        "id": "InnKJQag5ITl",
        "colab_type": "text"
      },
      "source": [
        "###librosa.decompose.nn_filter\n",
        "\n",
        "[Ref link](https://librosa.github.io/librosa/generated/librosa.decompose.nn_filter.html#librosa-decompose-nn-filter)\n",
        "\n",
        "Filtering by nearest-neighbors.\n",
        "\n",
        "Each data point (e.g, spectrogram column) is replaced by aggregating its nearest neighbors in feature space.\n",
        "\n",
        "This can be useful for de-noising a spectrogram or feature matrix.\n",
        "\n",
        "The non-local means method [1] can be recovered by providing a weighted recurrence matrix as input and specifying aggregate=np.average.\n",
        "\n",
        "Similarly, setting aggregate=np.median produces sparse de-noising as in REPET-SIM [2]."
      ]
    },
    {
      "cell_type": "code",
      "metadata": {
        "id": "wK82zE5E5VPf",
        "colab_type": "code",
        "colab": {}
      },
      "source": [
        "# De-noise a chromagram by non-local median filtering. By default this would use euclidean distance to select neighbors, but this can be overridden directly by setting the metric parameter.\n",
        "chroma = librosa.feature.chroma_cqt(y=y, sr=sr)\n",
        "chroma_med = librosa.decompose.nn_filter(chroma, aggregate=np.median, metric='cosine')"
      ],
      "execution_count": 0,
      "outputs": []
    },
    {
      "cell_type": "code",
      "metadata": {
        "id": "OXcR4pG45hST",
        "colab_type": "code",
        "colab": {}
      },
      "source": [
        "# To use non-local means, provide an affinity matrix and aggregate=np.average.\n",
        "rec = librosa.segment.recurrence_matrix(chroma, mode='affinity', metric='cosine', sparse=True)\n",
        "chroma_nlm = librosa.decompose.nn_filter(chroma, rec=rec, aggregate=np.average)"
      ],
      "execution_count": 0,
      "outputs": []
    },
    {
      "cell_type": "code",
      "metadata": {
        "id": "iUp5LZCf5t9R",
        "colab_type": "code",
        "colab": {}
      },
      "source": [
        "plt.figure(figsize=(10, 8))\n",
        "plt.subplot(5, 1, 1)\n",
        "librosa.display.specshow(chroma, y_axis='chroma')\n",
        "plt.colorbar()\n",
        "plt.title('Unfiltered')\n",
        "plt.subplot(5, 1, 2)\n",
        "librosa.display.specshow(chroma_med, y_axis='chroma')\n",
        "plt.colorbar()\n",
        "plt.title('Median-filtered')\n",
        "plt.subplot(5, 1, 3)\n",
        "librosa.display.specshow(chroma_nlm, y_axis='chroma')\n",
        "plt.colorbar()\n",
        "plt.title('Non-local means')\n",
        "plt.subplot(5, 1, 4)\n",
        "librosa.display.specshow(chroma - chroma_med, y_axis='chroma')\n",
        "plt.colorbar()\n",
        "plt.title('Original - median')\n",
        "plt.subplot(5, 1, 5)\n",
        "librosa.display.specshow(chroma - chroma_nlm, y_axis='chroma', x_axis='time')\n",
        "plt.colorbar()\n",
        "plt.title('Original - NLM')\n",
        "plt.tight_layout()"
      ],
      "execution_count": 0,
      "outputs": []
    },
    {
      "cell_type": "markdown",
      "metadata": {
        "id": "3AhyUZyV6f8X",
        "colab_type": "text"
      },
      "source": [
        "##Effects\n",
        "\n",
        "[Ref link](https://librosa.github.io/librosa/effects.html#id1)"
      ]
    },
    {
      "cell_type": "markdown",
      "metadata": {
        "id": "bjiZfb4a64md",
        "colab_type": "text"
      },
      "source": [
        "##Harmonic-percussive source separation\n",
        "\n",
        "[Ref link](https://librosa.github.io/librosa/effects.html#harmonic-percussive-source-separation)"
      ]
    },
    {
      "cell_type": "markdown",
      "metadata": {
        "id": "vT50uH4o7Jlf",
        "colab_type": "text"
      },
      "source": [
        "###hpss\n",
        "\n",
        "[Ref link](https://librosa.github.io/librosa/generated/librosa.effects.hpss.html#librosa-effects-hpss)\n",
        "\n",
        "Decompose an audio time series into harmonic and percussive components.\n",
        "\n",
        "This function automates the STFT->HPSS->ISTFT pipeline, and ensures that the output waveforms have equal length to the input waveform y."
      ]
    },
    {
      "cell_type": "code",
      "metadata": {
        "id": "MY1wGK8N7WzW",
        "colab_type": "code",
        "colab": {}
      },
      "source": [
        "# Extract harmonic and percussive components\n",
        "y_harmonic, y_percussive = librosa.effects.hpss(y)"
      ],
      "execution_count": 0,
      "outputs": []
    },
    {
      "cell_type": "code",
      "metadata": {
        "id": "TL7rLzQ-7cMr",
        "colab_type": "code",
        "colab": {}
      },
      "source": [
        "# Get a more isolated percussive component by widening its margin\n",
        "y_harmonic, y_percussive = librosa.effects.hpss(y, margin=(1.0,5.0))"
      ],
      "execution_count": 0,
      "outputs": []
    },
    {
      "cell_type": "markdown",
      "metadata": {
        "id": "qgziulUV7lLx",
        "colab_type": "text"
      },
      "source": [
        "###harmonic\n",
        "\n",
        "[Ref link](https://librosa.github.io/librosa/generated/librosa.effects.harmonic.html#librosa-effects-harmonic)\n",
        "\n",
        "Extract harmonic elements from an audio time-series."
      ]
    },
    {
      "cell_type": "code",
      "metadata": {
        "id": "JgwOO_Wb7va5",
        "colab_type": "code",
        "colab": {}
      },
      "source": [
        "# Extract harmonic component\n",
        "y_harmonic = librosa.effects.harmonic(y)"
      ],
      "execution_count": 0,
      "outputs": []
    },
    {
      "cell_type": "code",
      "metadata": {
        "id": "oNroXxkA72T9",
        "colab_type": "code",
        "colab": {}
      },
      "source": [
        "# Use a margin > 1.0 for greater harmonic separation\n",
        "y_harmonic = librosa.effects.harmonic(y, margin=3.0)"
      ],
      "execution_count": 0,
      "outputs": []
    },
    {
      "cell_type": "markdown",
      "metadata": {
        "id": "z0PYKwxg78AS",
        "colab_type": "text"
      },
      "source": [
        "###percussive\n",
        "\n",
        "[Ref link](https://librosa.github.io/librosa/generated/librosa.effects.percussive.html#librosa-effects-percussive)\n",
        "\n",
        "Extract percussive elements from an audio time-series."
      ]
    },
    {
      "cell_type": "code",
      "metadata": {
        "id": "zXsadnig8Hh0",
        "colab_type": "code",
        "colab": {}
      },
      "source": [
        "# Extract percussive component\n",
        "y_percussive = librosa.effects.percussive(y)"
      ],
      "execution_count": 0,
      "outputs": []
    },
    {
      "cell_type": "code",
      "metadata": {
        "id": "AP1TQ0jw8Ld6",
        "colab_type": "code",
        "colab": {}
      },
      "source": [
        "# Use a margin > 1.0 for greater percussive separation\n",
        "y_percussive = librosa.effects.percussive(y, margin=3.0)"
      ],
      "execution_count": 0,
      "outputs": []
    },
    {
      "cell_type": "markdown",
      "metadata": {
        "id": "LcsNI_tF8xu4",
        "colab_type": "text"
      },
      "source": [
        "##Time and frequency\n",
        "\n",
        "[Ref link](https://librosa.github.io/librosa/effects.html#time-and-frequency)"
      ]
    },
    {
      "cell_type": "markdown",
      "metadata": {
        "id": "tn-SdYae866w",
        "colab_type": "text"
      },
      "source": [
        "###time_stretch\n",
        "\n",
        "[Ref link](https://librosa.github.io/librosa/generated/librosa.effects.time_stretch.html#librosa-effects-time-stretch)\n",
        "\n",
        "Time-stretch an audio series by a fixed rate."
      ]
    },
    {
      "cell_type": "code",
      "metadata": {
        "id": "SX7Ggwdx9LDJ",
        "colab_type": "code",
        "colab": {}
      },
      "source": [
        "# Compress to be twice as fast\n",
        "y_fast = librosa.effects.time_stretch(y, 2.0)"
      ],
      "execution_count": 0,
      "outputs": []
    },
    {
      "cell_type": "code",
      "metadata": {
        "id": "4D7em9549Qr-",
        "colab_type": "code",
        "colab": {}
      },
      "source": [
        "# Or half the original speed\n",
        "y_slow = librosa.effects.time_stretch(y, 0.5)"
      ],
      "execution_count": 0,
      "outputs": []
    },
    {
      "cell_type": "markdown",
      "metadata": {
        "id": "VFE66hu39X1A",
        "colab_type": "text"
      },
      "source": [
        "###pitch_shift\n",
        "\n",
        "[Ref link](https://librosa.github.io/librosa/generated/librosa.effects.pitch_shift.html#librosa-effects-pitch-shift)\n",
        "\n",
        "Pitch-shift the waveform by n_steps half-steps."
      ]
    },
    {
      "cell_type": "code",
      "metadata": {
        "id": "G_K2gzky9nFY",
        "colab_type": "code",
        "colab": {}
      },
      "source": [
        "# Shift up by a major third (four half-steps)\n",
        "y_third = librosa.effects.pitch_shift(y, sr, n_steps=4)"
      ],
      "execution_count": 0,
      "outputs": []
    },
    {
      "cell_type": "code",
      "metadata": {
        "id": "-TIaq6HJ9sOb",
        "colab_type": "code",
        "colab": {}
      },
      "source": [
        "# Shift down by a tritone (six half-steps)\n",
        "y_tritone = librosa.effects.pitch_shift(y, sr, n_steps=-6)"
      ],
      "execution_count": 0,
      "outputs": []
    },
    {
      "cell_type": "code",
      "metadata": {
        "id": "FwAfa2qt9w6I",
        "colab_type": "code",
        "colab": {}
      },
      "source": [
        "# Shift up by 3 quarter-tones\n",
        "y_three_qt = librosa.effects.pitch_shift(y, sr, n_steps=3, bins_per_octave=24)"
      ],
      "execution_count": 0,
      "outputs": []
    },
    {
      "cell_type": "markdown",
      "metadata": {
        "id": "oZgDZjBTDrkY",
        "colab_type": "text"
      },
      "source": [
        "##Miscellaneous\n",
        "\n",
        "[Ref link](https://librosa.github.io/librosa/effects.html#miscellaneous)"
      ]
    },
    {
      "cell_type": "markdown",
      "metadata": {
        "id": "tY_cYqmuD2bk",
        "colab_type": "text"
      },
      "source": [
        "###remix\n",
        "\n",
        "[Ref link](https://librosa.github.io/librosa/generated/librosa.effects.remix.html#librosa-effects-remix)\n",
        "\n",
        "Remix an audio signal by re-ordering time intervals."
      ]
    },
    {
      "cell_type": "code",
      "metadata": {
        "id": "6OXDRiaGEFuM",
        "colab_type": "code",
        "colab": {}
      },
      "source": [
        "# Load in the example track and reverse the beats\n",
        "# Compute beats\n",
        " _, beat_frames = librosa.beat.beat_track(y=y, sr=sr, hop_length=512)"
      ],
      "execution_count": 0,
      "outputs": []
    },
    {
      "cell_type": "code",
      "metadata": {
        "id": "t-27XzcPETx4",
        "colab_type": "code",
        "colab": {}
      },
      "source": [
        "# Convert from frames to sample indices\n",
        "beat_samples = librosa.frames_to_samples(beat_frames)"
      ],
      "execution_count": 0,
      "outputs": []
    },
    {
      "cell_type": "code",
      "metadata": {
        "id": "5QQO6yXcEi-s",
        "colab_type": "code",
        "colab": {}
      },
      "source": [
        "# Generate intervals from consecutive events\n",
        "\n",
        "intervals = librosa.util.frame(beat_samples, frame_length=2, hop_length=1).T"
      ],
      "execution_count": 0,
      "outputs": []
    },
    {
      "cell_type": "code",
      "metadata": {
        "id": "jhfjSZ_jEnk9",
        "colab_type": "code",
        "colab": {}
      },
      "source": [
        "# Reverse the beat intervals\n",
        "y_out = librosa.effects.remix(y, intervals[::-1])"
      ],
      "execution_count": 0,
      "outputs": []
    },
    {
      "cell_type": "markdown",
      "metadata": {
        "id": "VZ4ISvxbEw4H",
        "colab_type": "text"
      },
      "source": [
        "###trim\n",
        "\n",
        "[Ref link](https://librosa.github.io/librosa/generated/librosa.effects.trim.html#librosa-effects-trim)\n",
        "\n",
        "Trim leading and trailing silence from an audio signal."
      ]
    },
    {
      "cell_type": "code",
      "metadata": {
        "id": "jCpYN8pVE8zj",
        "colab_type": "code",
        "colab": {}
      },
      "source": [
        "# Trim the beginning and ending silence\n",
        "yt, index = librosa.effects.trim(y)\n",
        "# Print the durations\n",
        "print(librosa.get_duration(y), librosa.get_duration(yt))"
      ],
      "execution_count": 0,
      "outputs": []
    },
    {
      "cell_type": "markdown",
      "metadata": {
        "id": "03lEdArFFHOQ",
        "colab_type": "text"
      },
      "source": [
        "###split\n",
        "\n",
        "[Ref link](https://librosa.github.io/librosa/generated/librosa.effects.split.html#librosa-effects-split)\n",
        "\n",
        "Split an audio signal into non-silent intervals."
      ]
    },
    {
      "cell_type": "code",
      "metadata": {
        "id": "3Tyt3hhmFd_9",
        "colab_type": "code",
        "colab": {}
      },
      "source": [
        "trimed_y = librosa.effects.split(y)\n",
        "trimed_y"
      ],
      "execution_count": 0,
      "outputs": []
    },
    {
      "cell_type": "markdown",
      "metadata": {
        "id": "-rhNt9bp6ePx",
        "colab_type": "text"
      },
      "source": [
        "##Temporal segmentation\n",
        "\n",
        "[Ref link](https://librosa.github.io/librosa/segment.html#temporal-segmentation)"
      ]
    },
    {
      "cell_type": "markdown",
      "metadata": {
        "id": "HQRMuzkw61ZM",
        "colab_type": "text"
      },
      "source": [
        "##Recurrence and self-similarity\n",
        "[Ref link](https://librosa.github.io/librosa/segment.html#recurrence-and-self-similarity)"
      ]
    },
    {
      "cell_type": "markdown",
      "metadata": {
        "id": "hk8Gb53t7IMM",
        "colab_type": "text"
      },
      "source": [
        "###recurrence_matrix\n",
        "\n",
        "[Ref link](https://librosa.github.io/librosa/generated/librosa.segment.recurrence_matrix.html#librosa-segment-recurrence-matrix)\n",
        "\n",
        "Compute a recurrence matrix from a data matrix.\n",
        "\n",
        "rec[i, j] is non-zero if (data[:, i], data[:, j]) are k-nearest-neighbors and |i - j| >= width"
      ]
    },
    {
      "cell_type": "code",
      "metadata": {
        "id": "-9w4-3Z37Z3O",
        "colab_type": "code",
        "colab": {}
      },
      "source": [
        "# Find nearest neighbors in MFCC space\n",
        "mfcc = librosa.feature.mfcc(y=y, sr=sr)\n",
        "R = librosa.segment.recurrence_matrix(mfcc)"
      ],
      "execution_count": 0,
      "outputs": []
    },
    {
      "cell_type": "code",
      "metadata": {
        "id": "co6fwsEl7w4M",
        "colab_type": "code",
        "colab": {}
      },
      "source": [
        "# Or fix the number of nearest neighbors to 5\n",
        "R = librosa.segment.recurrence_matrix(mfcc, k=5)"
      ],
      "execution_count": 0,
      "outputs": []
    },
    {
      "cell_type": "code",
      "metadata": {
        "id": "uXA4o9GC72n4",
        "colab_type": "code",
        "colab": {}
      },
      "source": [
        "# Suppress neighbors within +- 7 samples\n",
        "R = librosa.segment.recurrence_matrix(mfcc, width=7)"
      ],
      "execution_count": 0,
      "outputs": []
    },
    {
      "cell_type": "code",
      "metadata": {
        "id": "H19bznUX7-rl",
        "colab_type": "code",
        "colab": {}
      },
      "source": [
        "# Use cosine similarity instead of Euclidean distance\n",
        "R = librosa.segment.recurrence_matrix(mfcc, metric='cosine')"
      ],
      "execution_count": 0,
      "outputs": []
    },
    {
      "cell_type": "code",
      "metadata": {
        "id": "kRNXjYBS8EVK",
        "colab_type": "code",
        "colab": {}
      },
      "source": [
        "# Require mutual nearest neighbors\n",
        "R = librosa.segment.recurrence_matrix(mfcc, sym=True)"
      ],
      "execution_count": 0,
      "outputs": []
    },
    {
      "cell_type": "code",
      "metadata": {
        "id": "dUQ0jD5K8KF4",
        "colab_type": "code",
        "colab": {}
      },
      "source": [
        "# Use an affinity matrix instead of binary connectivity\n",
        "R_aff = librosa.segment.recurrence_matrix(mfcc, mode='affinity')"
      ],
      "execution_count": 0,
      "outputs": []
    },
    {
      "cell_type": "code",
      "metadata": {
        "id": "Mkzah2nB8PR1",
        "colab_type": "code",
        "colab": {}
      },
      "source": [
        "# Plot the feature and recurrence matrices\n",
        "plt.figure(figsize=(8, 4))\n",
        "plt.subplot(1, 2, 1)\n",
        "librosa.display.specshow(R, x_axis='time', y_axis='time')\n",
        "plt.title('Binary recurrence (symmetric)')\n",
        "plt.subplot(1, 2, 2)\n",
        "librosa.display.specshow(R_aff, x_axis='time', y_axis='time', cmap='magma_r')\n",
        "plt.title('Affinity recurrence')\n",
        "plt.tight_layout()"
      ],
      "execution_count": 0,
      "outputs": []
    },
    {
      "cell_type": "markdown",
      "metadata": {
        "id": "ScFLCItw9N-J",
        "colab_type": "text"
      },
      "source": [
        "###recurrence_to_lag\n",
        "\n",
        "[Ref link](https://librosa.github.io/librosa/generated/librosa.segment.recurrence_to_lag.html#librosa-segment-recurrence-to-lag)\n",
        "\n",
        "Convert a recurrence matrix into a lag matrix.\n",
        "\n",
        "    lag[i, j] == rec[i+j, j]"
      ]
    },
    {
      "cell_type": "code",
      "metadata": {
        "id": "aRP1Lnml9c3u",
        "colab_type": "code",
        "colab": {}
      },
      "source": [
        "mfccs = librosa.feature.mfcc(y=y, sr=sr)\n",
        "recurrence = librosa.segment.recurrence_matrix(mfccs)\n",
        "lag_pad = librosa.segment.recurrence_to_lag(recurrence, pad=True)\n",
        "lag_nopad = librosa.segment.recurrence_to_lag(recurrence, pad=False)"
      ],
      "execution_count": 0,
      "outputs": []
    },
    {
      "cell_type": "code",
      "metadata": {
        "id": "8501vTUGAJbx",
        "colab_type": "code",
        "colab": {}
      },
      "source": [
        "plt.figure(figsize=(8, 4))\n",
        "plt.subplot(1, 2, 1)\n",
        "librosa.display.specshow(lag_pad, x_axis='time', y_axis='lag')\n",
        "plt.title('Lag (zero-padded)')\n",
        "plt.subplot(1, 2, 2)\n",
        "librosa.display.specshow(lag_nopad, x_axis='time')\n",
        "plt.title('Lag (no padding)')\n",
        "plt.tight_layout()"
      ],
      "execution_count": 0,
      "outputs": []
    },
    {
      "cell_type": "markdown",
      "metadata": {
        "id": "hvZNGKWkApR-",
        "colab_type": "text"
      },
      "source": [
        "###lag_to_recurrence\n",
        "\n",
        "[Ref link](https://librosa.github.io/librosa/generated/librosa.segment.lag_to_recurrence.html#librosa-segment-lag-to-recurrence)\n",
        "\n",
        "Convert a lag matrix into a recurrence matrix."
      ]
    },
    {
      "cell_type": "code",
      "metadata": {
        "id": "X6etwKkfBqot",
        "colab_type": "code",
        "colab": {}
      },
      "source": [
        "mfccs = librosa.feature.mfcc(y=y, sr=sr)\n",
        "recurrence = librosa.segment.recurrence_matrix(mfccs)\n",
        "lag_pad = librosa.segment.recurrence_to_lag(recurrence, pad=True)\n",
        "lag_nopad = librosa.segment.recurrence_to_lag(recurrence, pad=False)\n",
        "rec_pad = librosa.segment.lag_to_recurrence(lag_pad)\n",
        "rec_nopad = librosa.segment.lag_to_recurrence(lag_nopad)"
      ],
      "execution_count": 0,
      "outputs": []
    },
    {
      "cell_type": "code",
      "metadata": {
        "id": "ASZrQ4lDCRWa",
        "colab_type": "code",
        "colab": {}
      },
      "source": [
        "plt.figure(figsize=(8, 4))\n",
        "plt.subplot(2, 2, 1)\n",
        "librosa.display.specshow(lag_pad, x_axis='time', y_axis='lag')\n",
        "plt.title('Lag (zero-padded)')\n",
        "plt.subplot(2, 2, 2)\n",
        "librosa.display.specshow(lag_nopad, x_axis='time', y_axis='time')\n",
        "plt.title('Lag (no padding)')\n",
        "plt.subplot(2, 2, 3)\n",
        "librosa.display.specshow(rec_pad, x_axis='time', y_axis='time')\n",
        "plt.title('Recurrence (with padding)')\n",
        "plt.subplot(2, 2, 4)\n",
        "librosa.display.specshow(rec_nopad, x_axis='time', y_axis='time')\n",
        "plt.title('Recurrence (without padding)')\n",
        "plt.tight_layout()"
      ],
      "execution_count": 0,
      "outputs": []
    },
    {
      "cell_type": "markdown",
      "metadata": {
        "id": "GMqtpfECetlD",
        "colab_type": "text"
      },
      "source": [
        "###timelag_filter\n",
        "\n",
        "[Ref link](https://librosa.github.io/librosa/generated/librosa.segment.timelag_filter.html#librosa-segment-timelag-filter)\n",
        "\n",
        "Filtering in the time-lag domain.\n",
        "\n",
        "This is primarily useful for adapting image filters to operate on recurrence_to_lag output.\n",
        "\n",
        "Using timelag_filter is equivalent to the following sequence of operations:\n",
        "\n",
        " data_tl = librosa.segment.recurrence_to_lag(data)\n",
        "data_filtered_tl = function(data_tl)\n",
        "data_filtered = librosa.segment.lag_to_recurrence(data_filtered_tl)"
      ]
    },
    {
      "cell_type": "code",
      "metadata": {
        "id": "JEaiAGLcfA5E",
        "colab_type": "code",
        "colab": {}
      },
      "source": [
        "# Apply a 5-bin median filter to the diagonal of a recurrence matrix\n",
        "chroma = librosa.feature.chroma_cqt(y=y, sr=sr)\n",
        "rec = librosa.segment.recurrence_matrix(chroma)\n",
        "from scipy.ndimage import median_filter\n",
        "diagonal_median = librosa.segment.timelag_filter(median_filter)\n",
        "rec_filtered = diagonal_median(rec, size=(1, 3), mode='mirror')"
      ],
      "execution_count": 0,
      "outputs": []
    },
    {
      "cell_type": "code",
      "metadata": {
        "id": "-q6S7clXfJZi",
        "colab_type": "code",
        "colab": {}
      },
      "source": [
        "# Or with affinity weights\n",
        "rec_aff = librosa.segment.recurrence_matrix(chroma, mode='affinity')\n",
        "rec_aff_fil = diagonal_median(rec_aff, size=(1, 3), mode='mirror')"
      ],
      "execution_count": 0,
      "outputs": []
    },
    {
      "cell_type": "code",
      "metadata": {
        "id": "fqpm0Vz1fPUw",
        "colab_type": "code",
        "colab": {}
      },
      "source": [
        "plt.figure(figsize=(8,8))\n",
        "plt.subplot(2, 2, 1)\n",
        "librosa.display.specshow(rec, y_axis='time')\n",
        "plt.title('Raw recurrence matrix')\n",
        "plt.subplot(2, 2, 2)\n",
        "librosa.display.specshow(rec_filtered)\n",
        "plt.title('Filtered recurrence matrix')\n",
        "plt.subplot(2, 2, 3)\n",
        "librosa.display.specshow(rec_aff, x_axis='time', y_axis='time',\n",
        "                          cmap='magma_r')\n",
        "plt.title('Raw affinity matrix')\n",
        "plt.subplot(2, 2, 4)\n",
        "librosa.display.specshow(rec_aff_fil, x_axis='time',\n",
        "                          cmap='magma_r')\n",
        "plt.title('Filtered affinity matrix')\n",
        "plt.tight_layout()"
      ],
      "execution_count": 0,
      "outputs": []
    },
    {
      "cell_type": "markdown",
      "metadata": {
        "id": "dQSwzWO4gjW1",
        "colab_type": "text"
      },
      "source": [
        "##Temporal clustering\n",
        "\n",
        "[Ref link](https://librosa.github.io/librosa/segment.html#temporal-clustering)"
      ]
    },
    {
      "cell_type": "markdown",
      "metadata": {
        "id": "onBHaWx_hDiO",
        "colab_type": "text"
      },
      "source": [
        "###agglomerative\n",
        "[Ref link](https://librosa.github.io/librosa/generated/librosa.segment.agglomerative.html#librosa-segment-agglomerative)\n",
        "\n",
        "Bottom-up temporal segmentation.\n",
        "\n",
        "Use a temporally-constrained agglomerative clustering routine to partition data into k contiguous segments."
      ]
    },
    {
      "cell_type": "code",
      "metadata": {
        "id": "SpC6MaL9g6jn",
        "colab_type": "code",
        "outputId": "3f4be974-c167-437a-c145-98378b3a45e0",
        "colab": {
          "base_uri": "https://localhost:8080/",
          "height": 104
        }
      },
      "source": [
        "# Cluster by chroma similarity, break into 20 segments\n",
        "chroma = librosa.feature.chroma_cqt(y=y, sr=sr)\n",
        "bounds = librosa.segment.agglomerative(chroma, 20)\n",
        "bound_times = librosa.frames_to_time(bounds, sr=sr)\n",
        "bound_times\n"
      ],
      "execution_count": 0,
      "outputs": [
        {
          "output_type": "execute_result",
          "data": {
            "text/plain": [
              "array([  0.        ,  17.9722449 ,  25.07755102,  33.08843537,\n",
              "        40.58848073,  63.9477551 ,  71.51746032,  79.96952381,\n",
              "       101.93560091, 107.78702948, 133.25931973, 138.64634921,\n",
              "       201.38666667, 208.2829932 , 215.41151927, 224.258322  ,\n",
              "       239.37451247, 246.66557823, 254.49070295, 273.11310658])"
            ]
          },
          "metadata": {
            "tags": []
          },
          "execution_count": 4
        }
      ]
    },
    {
      "cell_type": "code",
      "metadata": {
        "id": "RSBVbMNThkMw",
        "colab_type": "code",
        "outputId": "a02c1143-cb61-45fd-bc70-da3daa47622f",
        "colab": {
          "base_uri": "https://localhost:8080/",
          "height": 297
        }
      },
      "source": [
        "# Plot the segmentation over the chromagram\n",
        "plt.figure()\n",
        "librosa.display.specshow(chroma, y_axis='chroma', x_axis='time')\n",
        "plt.vlines(bound_times, 0, chroma.shape[0], color='linen', linestyle='--',\n",
        "            linewidth=2, alpha=0.9, label='Segment boundaries')\n",
        "plt.axis('tight')\n",
        "plt.legend(frameon=True, shadow=True)\n",
        "plt.title('Power spectrogram')\n",
        "plt.tight_layout()"
      ],
      "execution_count": 0,
      "outputs": [
        {
          "output_type": "display_data",
          "data": {
            "image/png": "[encoded data removed]",
            "text/plain": [
              "<Figure size 432x288 with 1 Axes>"
            ]
          },
          "metadata": {
            "tags": []
          }
        }
      ]
    },
    {
      "cell_type": "markdown",
      "metadata": {
        "id": "R6GUCyTth55j",
        "colab_type": "text"
      },
      "source": [
        "###subsegment\n",
        "[Ref link](https://librosa.github.io/librosa/generated/librosa.segment.subsegment.html#librosa-segment-subsegment)\n",
        "\n",
        "Sub-divide a segmentation by feature clustering.\n",
        "\n",
        "Given a set of frame boundaries (frames), and a data matrix (data), each successive interval defined by frames is partitioned into n_segments by constrained agglomerative clustering.\n",
        "\n",
        "If an interval spans fewer than n_segments frames, then each frame becomes a sub-segment."
      ]
    },
    {
      "cell_type": "code",
      "metadata": {
        "id": "hKb3lp0XiXg-",
        "colab_type": "code",
        "colab": {}
      },
      "source": [
        "# Load audio, detect beat frames, and subdivide in twos by CQT\n",
        "tempo, beats = librosa.beat.beat_track(y=y, sr=sr, hop_length=512)\n",
        "beat_times = librosa.frames_to_time(beats, sr=sr, hop_length=512)\n",
        "cqt = np.abs(librosa.cqt(y, sr=sr, hop_length=512))\n",
        "subseg = librosa.segment.subsegment(cqt, beats, n_segments=2)\n",
        "subseg_t = librosa.frames_to_time(subseg, sr=sr, hop_length=512)\n",
        "subseg"
      ],
      "execution_count": 0,
      "outputs": []
    },
    {
      "cell_type": "code",
      "metadata": {
        "id": "v9ik1ST1iiDW",
        "colab_type": "code",
        "colab": {}
      },
      "source": [
        "plt.figure()\n",
        "librosa.display.specshow(librosa.amplitude_to_db(cqt,ref=np.max),\n",
        "                          y_axis='cqt_hz', x_axis='time')\n",
        "lims = plt.gca().get_ylim()\n",
        "plt.vlines(beat_times, lims[0], lims[1], color='lime', alpha=0.9,\n",
        "            linewidth=2, label='Beats')\n",
        "plt.vlines(subseg_t, lims[0], lims[1], color='linen', linestyle='--',\n",
        "            linewidth=1.5, alpha=0.5, label='Sub-beats')\n",
        "plt.legend(frameon=True, shadow=True)\n",
        "plt.title('CQT + Beat and sub-beat markers')\n",
        "plt.tight_layout()"
      ],
      "execution_count": 0,
      "outputs": []
    },
    {
      "cell_type": "markdown",
      "metadata": {
        "id": "064NsntR-vWT",
        "colab_type": "text"
      },
      "source": [
        "##Sequential modeling\n",
        "[Ref link](https://librosa.github.io/librosa/sequence.html#sequential-modeling)"
      ]
    },
    {
      "cell_type": "markdown",
      "metadata": {
        "id": "RnUmWhME-5Qo",
        "colab_type": "text"
      },
      "source": [
        "##Dynamic time warping\n",
        "[Ref link](https://librosa.github.io/librosa/sequence.html#dynamic-time-warping)"
      ]
    },
    {
      "cell_type": "markdown",
      "metadata": {
        "id": "36-izd5x_E2u",
        "colab_type": "text"
      },
      "source": [
        "###dtw\n",
        "[Ref link](https://librosa.github.io/librosa/generated/librosa.sequence.dtw.html#librosa-sequence-dtw)\n",
        "\n",
        "Dynamic time warping (DTW).\n",
        "\n",
        "This function performs a DTW and path backtracking on two sequences. We follow the nomenclature and algorithmic approach as described in [1]."
      ]
    },
    {
      "cell_type": "code",
      "metadata": {
        "id": "qnkhkdED_aq9",
        "colab_type": "code",
        "colab": {}
      },
      "source": [
        "X = librosa.feature.chroma_cens(y=y, sr=sr)\n",
        "noise = np.random.rand(X.shape[0], 200)\n",
        "Y = np.concatenate((noise, noise, X, noise), axis=1)\n",
        "D, wp = librosa.sequence.dtw(X, Y, subseq=True)\n",
        "plt.subplot(2, 1, 1)\n",
        "librosa.display.specshow(D, x_axis='frames', y_axis='frames')\n",
        "plt.title('Database excerpt')\n",
        "plt.plot(wp[:, 1], wp[:, 0], label='Optimal path', color='y')\n",
        "plt.legend()\n",
        "plt.subplot(2, 1, 2)\n",
        "plt.plot(D[-1, :] / wp.shape[0])\n",
        "plt.xlim([0, Y.shape[1]])\n",
        "plt.ylim([0, 2])\n",
        "plt.title('Matching cost function')\n",
        "plt.tight_layout()"
      ],
      "execution_count": 0,
      "outputs": []
    },
    {
      "cell_type": "markdown",
      "metadata": {
        "id": "bz9dKysa_sGa",
        "colab_type": "text"
      },
      "source": [
        "##Viterbi decoding\n",
        "[Ref link](https://librosa.github.io/librosa/sequence.html#viterbi-decoding)"
      ]
    },
    {
      "cell_type": "markdown",
      "metadata": {
        "id": "1S44h1JjAcZF",
        "colab_type": "text"
      },
      "source": [
        "###viterbi\n",
        "[Ref link](https://librosa.github.io/librosa/generated/librosa.sequence.viterbi.html#librosa-sequence-viterbi)\n",
        "\n",
        "Viterbi decoding from observation likelihoods.\n",
        "\n",
        "Given a sequence of observation likelihoods prob[s, t], indicating the conditional likelihood of seeing the observation at time t from state s, and a transition matrix transition[i, j] which encodes the conditional probability of moving from state i to state j, the Viterbi algorithm [1] computes the most likely sequence of states from the observations."
      ]
    },
    {
      "cell_type": "code",
      "metadata": {
        "id": "Zz8yPmrZAwNn",
        "colab_type": "code",
        "colab": {}
      },
      "source": [
        "# Example from https://en.wikipedia.org/wiki/Viterbi_algorithm#Example\n",
        "\n",
        "# In this example, we have two states healthy and fever, with initial probabilities 60% and 40%.\n",
        "\n",
        "# We have three observation possibilities: normal, cold, and dizzy, whose probabilities given each state are:\n",
        "\n",
        "# healthy => {normal: 50%, cold: 40%, dizzy: 10%} and fever => {normal: 10%, cold: 30%, dizzy: 60%}\n",
        "\n",
        "# Finally, we have transition probabilities:\n",
        "\n",
        "# healthy => healthy (70%) and fever => fever (60%).\n",
        "\n",
        "# Over three days, we observe the sequence [normal, cold, dizzy], and wish to know the maximum likelihood assignment of states for the corresponding days, which we compute with the Viterbi algorithm below.\n",
        "p_init = np.array([0.6, 0.4])\n",
        "p_emit = np.array([[0.5, 0.4, 0.1],\n",
        "                    [0.1, 0.3, 0.6]])\n",
        "p_trans = np.array([[0.7, 0.3], [0.4, 0.6]])\n",
        "path, logp = librosa.sequence.viterbi(p_emit, p_trans, p_init,\n",
        "                                       return_logp=True)\n",
        "print(logp, path)"
      ],
      "execution_count": 0,
      "outputs": []
    },
    {
      "cell_type": "markdown",
      "metadata": {
        "id": "p-RxGGzmBDu9",
        "colab_type": "text"
      },
      "source": [
        "###viterbi_discriminative\n",
        "[Ref link](https://librosa.github.io/librosa/generated/librosa.sequence.viterbi_discriminative.html#librosa-sequence-viterbi-discriminative)\n",
        "\n",
        "Viterbi decoding from discriminative state predictions.\n",
        "\n",
        "Given a sequence of conditional state predictions prob[s, t], indicating the conditional likelihood of state s given the observation at time t, and a transition matrix transition[i, j] which encodes the conditional probability of moving from state i to state j, the Viterbi algorithm computes the most likely sequence of states from the observations.\n",
        "\n",
        "This implementation uses the standard Viterbi decoding algorithm for observation likelihood sequences, under the assumption that P[Obs(t) | State(t) = s] is proportional to P[State(t) = s | Obs(t)] / P[State(t) = s], where the denominator is the marginal probability of state s occurring as given by p_state."
      ]
    },
    {
      "cell_type": "code",
      "metadata": {
        "id": "AXc8QhiTBRoB",
        "colab_type": "code",
        "colab": {}
      },
      "source": [
        "# This example constructs a simple, template-based discriminative chord estimator, using CENS chroma as input features.\n",
        "\n",
        "# this chord model is not accurate enough to use in practice. It is only intended to demonstrate how to use discriminative Viterbi decoding.\n",
        "# Create templates for major, minor, and no-chord qualities\n",
        "maj_template = np.array([1,0,0, 0,1,0, 0,1,0, 0,0,0])\n",
        "min_template = np.array([1,0,0, 1,0,0, 0,1,0, 0,0,0])\n",
        "N_template   = np.array([1,1,1, 1,1,1, 1,1,1, 1,1,1.]) / 4.\n",
        "# Generate the weighting matrix that maps chroma to labels\n",
        "weights = np.zeros((25, 12), dtype=float)\n",
        "labels = ['C:maj', 'C#:maj', 'D:maj', 'D#:maj', 'E:maj', 'F:maj',\n",
        "           'F#:maj', 'G:maj', 'G#:maj', 'A:maj', 'A#:maj', 'B:maj',\n",
        "           'C:min', 'C#:min', 'D:min', 'D#:min', 'E:min', 'F:min',\n",
        "           'F#:min', 'G:min', 'G#:min', 'A:min', 'A#:min', 'B:min',\n",
        "           'N']\n",
        "for c in range(12):\n",
        "     weights[c, :] = np.roll(maj_template, c) # c:maj\n",
        "     weights[c + 12, :] = np.roll(min_template, c)  # c:min\n",
        "weights[-1] = N_template  # the last row is the no-chord class\n",
        "# Make a self-loop transition matrix over 25 states\n",
        "trans = librosa.sequence.transition_loop(25, 0.9)"
      ],
      "execution_count": 0,
      "outputs": []
    },
    {
      "cell_type": "code",
      "metadata": {
        "id": "-FFKA4e2Buh9",
        "colab_type": "code",
        "colab": {}
      },
      "source": [
        " # Load in audio and make features\n",
        "chroma = librosa.feature.chroma_cens(y=y, sr=sr, bins_per_octave=36)\n",
        "# Map chroma (observations) to class (state) likelihoods\n",
        "probs = np.exp(weights.dot(chroma))  # P[class | chroma] proportional to exp(template' chroma)\n",
        "probs /= probs.sum(axis=0, keepdims=True)  # probabilities must sum to 1 in each column\n",
        "# Compute independent frame-wise estimates\n",
        "chords_ind = np.argmax(probs, axis=0)\n",
        "# And viterbi estimates\n",
        "chords_vit = librosa.sequence.viterbi_discriminative(probs, trans)"
      ],
      "execution_count": 0,
      "outputs": []
    },
    {
      "cell_type": "code",
      "metadata": {
        "id": "dLG0uCxnB3Oc",
        "colab_type": "code",
        "colab": {}
      },
      "source": [
        "# Plot the features and prediction map\n",
        "plt.figure(figsize=(10, 6))\n",
        "plt.subplot(2,1,1)\n",
        "librosa.display.specshow(chroma, x_axis='time', y_axis='chroma')\n",
        "plt.colorbar()\n",
        "plt.subplot(2,1,2)\n",
        "librosa.display.specshow(weights, x_axis='chroma')\n",
        "plt.yticks(np.arange(25) + 0.5, labels)\n",
        "plt.ylabel('Chord')\n",
        "plt.colorbar()\n",
        "plt.tight_layout()"
      ],
      "execution_count": 0,
      "outputs": []
    },
    {
      "cell_type": "code",
      "metadata": {
        "id": "gDAaqu6_CASq",
        "colab_type": "code",
        "colab": {}
      },
      "source": [
        "# And plot the results\n",
        "plt.figure(figsize=(10, 4))\n",
        "librosa.display.specshow(probs, x_axis='time', cmap='gray')\n",
        "plt.colorbar()\n",
        "times = librosa.frames_to_time(np.arange(len(chords_vit)))\n",
        "plt.scatter(times, chords_ind + 0.75, color='lime', alpha=0.5, marker='+', s=15, label='Independent')\n",
        "plt.scatter(times, chords_vit + 0.25, color='deeppink', alpha=0.5, marker='o', s=15, label='Viterbi')\n",
        "plt.yticks(0.5 + np.unique(chords_vit), [labels[i] for i in np.unique(chords_vit)], va='center')\n",
        "plt.legend(loc='best')\n",
        "plt.tight_layout()"
      ],
      "execution_count": 0,
      "outputs": []
    },
    {
      "cell_type": "markdown",
      "metadata": {
        "id": "8pwyYGBECVXU",
        "colab_type": "text"
      },
      "source": [
        "###viterbi_binary\n",
        "[Ref link](https://librosa.github.io/librosa/generated/librosa.sequence.viterbi_binary.html#librosa-sequence-viterbi-binary)\n",
        "\n",
        "Viterbi decoding from binary (multi-label), discriminative state predictions.\n",
        "\n",
        "Given a sequence of conditional state predictions prob[s, t], indicating the conditional likelihood of state s being active conditional on observation at time t, and a 2*2 transition matrix transition which encodes the conditional probability of moving from state s to state s (not-s), the Viterbi algorithm computes the most likely sequence of states from the observations.\n",
        "\n",
        "This function differs from viterbi_discriminative in that it does not assume the states to be mutually exclusive. viterbi_binary is implemented by transforming the multi-label decoding problem to a collection of binary Viterbi problems (one for each state or label).\n",
        "\n",
        "The output is a binary matrix states[s, t] indicating whether each state s is active at time t."
      ]
    },
    {
      "cell_type": "code",
      "metadata": {
        "id": "1qYb6ZFtCjWd",
        "colab_type": "code",
        "colab": {}
      },
      "source": [
        "# Examples\n",
        "\n",
        "# In this example, we have a sequence of binary state likelihoods that we want to de-noise under the assumption that state changes are relatively uncommon. Positive predictions should only be retained if they persist for multiple steps, and any transient predictions should be considered as errors. This use case arises frequently in problems such as instrument recognition, where state activations tend to be stable over time, but subject to abrupt changes (e.g., when an instrument joins the mix).\n",
        "\n",
        "# We assume that the 0 state has a self-transition probability of 90%, and the 1 state has a self-transition probability of 70%. We assume the marginal and initial probability of either state is 50%.\n",
        "trans = np.array([[0.9, 0.1], [0.3, 0.7]])\n",
        "prob = np.array([0.1, 0.7, 0.4, 0.3, 0.8, 0.9, 0.8, 0.2, 0.6, 0.3])\n",
        "librosa.sequence.viterbi_binary(prob, trans, p_state=0.5, p_init=0.5)"
      ],
      "execution_count": 0,
      "outputs": []
    },
    {
      "cell_type": "markdown",
      "metadata": {
        "id": "1dSoCRLSC8df",
        "colab_type": "text"
      },
      "source": [
        "##Transition matrices\n",
        "[Ref link](https://librosa.github.io/librosa/sequence.html#transition-matrices)"
      ]
    },
    {
      "cell_type": "markdown",
      "metadata": {
        "id": "LJz9JlkMDI0g",
        "colab_type": "text"
      },
      "source": [
        "###transition_uniform\n",
        "[Ref link](https://librosa.github.io/librosa/generated/librosa.sequence.transition_uniform.html#librosa-sequence-transition-uniform)\n",
        "\n",
        "Construct a uniform transition matrix over n_states."
      ]
    },
    {
      "cell_type": "code",
      "metadata": {
        "id": "zAzvcKffDjhq",
        "colab_type": "code",
        "colab": {}
      },
      "source": [
        "librosa.sequence.transition_uniform(3)"
      ],
      "execution_count": 0,
      "outputs": []
    },
    {
      "cell_type": "markdown",
      "metadata": {
        "id": "Jvr-HkjcD1Tt",
        "colab_type": "text"
      },
      "source": [
        "###transition_loop\n",
        "[Ref link](https://librosa.github.io/librosa/generated/librosa.sequence.transition_loop.html#librosa-sequence-transition-loop)\n",
        "\n",
        "Construct a self-loop transition matrix over n_states.\n",
        "\n",
        "The transition matrix will have the following properties:\n",
        "\n",
        "        transition[i, i] = p for all i\n",
        "        transition[i, j] = (1 - p) / (n_states - 1) for all j != i\n",
        "\n",
        "This type of transition matrix is appropriate when states tend to be locally stable, and there is no additional structure between different states. This is primarily useful for de-noising frame-wise predictions."
      ]
    },
    {
      "cell_type": "code",
      "metadata": {
        "id": "zZPYWBw_EBM7",
        "colab_type": "code",
        "colab": {}
      },
      "source": [
        "librosa.sequence.transition_loop(3, 0.5)"
      ],
      "execution_count": 0,
      "outputs": []
    },
    {
      "cell_type": "code",
      "metadata": {
        "id": "kQRCWVEEECAS",
        "colab_type": "code",
        "colab": {}
      },
      "source": [
        "librosa.sequence.transition_loop(3, [0.8, 0.5, 0.25])"
      ],
      "execution_count": 0,
      "outputs": []
    },
    {
      "cell_type": "markdown",
      "metadata": {
        "id": "kno57mHzEXZZ",
        "colab_type": "text"
      },
      "source": [
        "###transition_cycle\n",
        "[Ref link](https://librosa.github.io/librosa/generated/librosa.sequence.transition_cycle.html#librosa-sequence-transition-cycle)\n",
        "\n",
        "Construct a cyclic transition matrix over n_states.\n",
        "\n",
        "The transition matrix will have the following properties:\n",
        "\n",
        "        transition[i, i] = p\n",
        "        transition[i, i + 1] = (1 - p)\n",
        "\n",
        "This type of transition matrix is appropriate for state spaces with cyclical structure, such as metrical position within a bar. For example, a song in 4/4 time has state transitions of the form\n",
        "\n",
        "    1->{1, 2}, 2->{2, 3}, 3->{3, 4}, 4->{4, 1}."
      ]
    },
    {
      "cell_type": "code",
      "metadata": {
        "id": "V9xsTTJXEi1J",
        "colab_type": "code",
        "colab": {}
      },
      "source": [
        "librosa.sequence.transition_cycle(4, 0.9)"
      ],
      "execution_count": 0,
      "outputs": []
    },
    {
      "cell_type": "markdown",
      "metadata": {
        "id": "qrl0F1qQEnR9",
        "colab_type": "text"
      },
      "source": [
        "###transition_local\n",
        "[Ref link](https://librosa.github.io/librosa/generated/librosa.sequence.transition_local.html#librosa-sequence-transition-local)\n",
        "\n",
        "Construct a localized transition matrix.\n",
        "\n",
        "The transition matrix will have the following properties:\n",
        "\n",
        "        transition[i, j] = 0 if |i - j| > width\n",
        "        transition[i, i] is maximal\n",
        "        transition[i, i - width//2 : i + width//2] has shape window\n",
        "\n",
        "This type of transition matrix is appropriate for state spaces that discretely approximate continuous variables, such as in fundamental frequency estimation."
      ]
    },
    {
      "cell_type": "code",
      "metadata": {
        "id": "bpVaE__xE3dL",
        "colab_type": "code",
        "colab": {}
      },
      "source": [
        "# Triangular distributions with and without wrapping\n",
        "librosa.sequence.transition_local(5, 3, window='triangle', wrap=False)"
      ],
      "execution_count": 0,
      "outputs": []
    },
    {
      "cell_type": "code",
      "metadata": {
        "id": "emghEUy9E_Iy",
        "colab_type": "code",
        "colab": {}
      },
      "source": [
        "librosa.sequence.transition_local(5, 3, window='triangle', wrap=True)"
      ],
      "execution_count": 0,
      "outputs": []
    },
    {
      "cell_type": "code",
      "metadata": {
        "id": "bMMxLUQXFELn",
        "colab_type": "code",
        "colab": {}
      },
      "source": [
        "# Uniform local distributions with variable widths and no wrapping\n",
        "librosa.sequence.transition_local(5, [1, 2, 3, 3, 1], window='ones', wrap=False)"
      ],
      "execution_count": 0,
      "outputs": []
    },
    {
      "cell_type": "markdown",
      "metadata": {
        "id": "VGszUm11FuI5",
        "colab_type": "text"
      },
      "source": [
        "##Filters\n",
        "[Ref link](https://librosa.github.io/librosa/filters.html#id1)"
      ]
    },
    {
      "cell_type": "markdown",
      "metadata": {
        "id": "9yTwIoNbF5WM",
        "colab_type": "text"
      },
      "source": [
        "##Filter bank construction\n",
        "[Ref link](https://librosa.github.io/librosa/filters.html#filter-bank-construction)"
      ]
    },
    {
      "cell_type": "markdown",
      "metadata": {
        "id": "UdeD8LzRGIU1",
        "colab_type": "text"
      },
      "source": [
        "###mel\n",
        "[Ref link](https://librosa.github.io/librosa/generated/librosa.filters.mel.html#librosa-filters-mel)\n",
        "\n",
        "Create a Filterbank matrix to combine FFT bins into Mel-frequency bins"
      ]
    },
    {
      "cell_type": "code",
      "metadata": {
        "id": "D2oO6wntGWYc",
        "colab_type": "code",
        "colab": {}
      },
      "source": [
        "melfb = librosa.filters.mel(22050, 2048)\n",
        "melfb"
      ],
      "execution_count": 0,
      "outputs": []
    },
    {
      "cell_type": "code",
      "metadata": {
        "id": "kABth3-BGjbt",
        "colab_type": "code",
        "colab": {}
      },
      "source": [
        "# Clip the maximum frequency to 8KHz\n",
        "librosa.filters.mel(22050, 2048, fmax=8000)"
      ],
      "execution_count": 0,
      "outputs": []
    },
    {
      "cell_type": "code",
      "metadata": {
        "id": "p0cLpLDVGrlM",
        "colab_type": "code",
        "colab": {}
      },
      "source": [
        "plt.figure()\n",
        "librosa.display.specshow(melfb, x_axis='linear')\n",
        "plt.ylabel('Mel filter')\n",
        "plt.title('Mel filter bank')\n",
        "plt.colorbar()\n",
        "plt.tight_layout()"
      ],
      "execution_count": 0,
      "outputs": []
    },
    {
      "cell_type": "markdown",
      "metadata": {
        "id": "ZTkUy6IuGz27",
        "colab_type": "text"
      },
      "source": [
        "###chroma\n",
        "[Ref link](https://librosa.github.io/librosa/generated/librosa.filters.chroma.html#librosa-filters-chroma)\n",
        "\n",
        "Create a Filterbank matrix to convert STFT to chroma"
      ]
    },
    {
      "cell_type": "code",
      "metadata": {
        "id": "vutl0kY0G_G9",
        "colab_type": "code",
        "colab": {}
      },
      "source": [
        "# Build a simple chroma filter bank\n",
        "chromafb = librosa.filters.chroma(22050, 4096)"
      ],
      "execution_count": 0,
      "outputs": []
    },
    {
      "cell_type": "code",
      "metadata": {
        "id": "F771-CMFHF4Y",
        "colab_type": "code",
        "colab": {}
      },
      "source": [
        "# Use quarter-tones instead of semitones\n",
        "librosa.filters.chroma(22050, 4096, n_chroma=24)"
      ],
      "execution_count": 0,
      "outputs": []
    },
    {
      "cell_type": "code",
      "metadata": {
        "id": "OQ0U3CcJHNhz",
        "colab_type": "code",
        "colab": {}
      },
      "source": [
        "# Equally weight all octaves\n",
        "librosa.filters.chroma(22050, 4096, octwidth=None)"
      ],
      "execution_count": 0,
      "outputs": []
    },
    {
      "cell_type": "code",
      "metadata": {
        "id": "1m2Oi68PHTtK",
        "colab_type": "code",
        "colab": {}
      },
      "source": [
        "plt.figure()\n",
        "librosa.display.specshow(chromafb, x_axis='linear')\n",
        "plt.ylabel('Chroma filter')\n",
        "plt.title('Chroma filter bank')\n",
        "plt.colorbar()\n",
        "plt.tight_layout()"
      ],
      "execution_count": 0,
      "outputs": []
    },
    {
      "cell_type": "markdown",
      "metadata": {
        "id": "hCrc9wDRHcRA",
        "colab_type": "text"
      },
      "source": [
        "###constant_q\n",
        "[Ref link](https://librosa.github.io/librosa/generated/librosa.filters.constant_q.html#librosa-filters-constant-q)\n",
        "\n",
        "Construct a constant-Q basis.\n",
        "\n",
        "This uses the filter bank described by [1]."
      ]
    },
    {
      "cell_type": "code",
      "metadata": {
        "id": "Nbh8RAc_Hno0",
        "colab_type": "code",
        "colab": {}
      },
      "source": [
        "# Use a shorter window for each filter\n",
        "basis, lengths = librosa.filters.constant_q(22050, filter_scale=0.5)"
      ],
      "execution_count": 0,
      "outputs": []
    },
    {
      "cell_type": "code",
      "metadata": {
        "id": "Vt_1QgxaHsv6",
        "colab_type": "code",
        "colab": {}
      },
      "source": [
        "# Plot one octave of filters in time and frequency\n",
        "basis, lengths = librosa.filters.constant_q(22050)\n",
        "plt.figure(figsize=(10, 6))\n",
        "plt.subplot(2, 1, 1)\n",
        "notes = librosa.midi_to_note(np.arange(24, 24 + len(basis)))\n",
        "for i, (f, n) in enumerate(zip(basis, notes[:12])):\n",
        "     f_scale = librosa.util.normalize(f) / 2\n",
        "     plt.plot(i + f_scale.real)\n",
        "     plt.plot(i + f_scale.imag, linestyle=':')\n",
        "plt.axis('tight')\n",
        "plt.yticks(np.arange(len(notes[:12])), notes[:12])\n",
        "plt.ylabel('CQ filters')\n",
        "plt.title('CQ filters (one octave, time domain)')\n",
        "plt.xlabel('Time (samples at 22050 Hz)')\n",
        "plt.legend(['Real', 'Imaginary'], frameon=True, framealpha=0.8)\n",
        "plt.subplot(2, 1, 2)\n",
        "F = np.abs(np.fft.fftn(basis, axes=[-1]))\n",
        "# Keep only the positive frequencies\n",
        "F = F[:, :(1 + F.shape[1] // 2)]\n",
        "librosa.display.specshow(F, x_axis='linear')\n",
        "plt.yticks(np.arange(len(notes))[::12], notes[::12])\n",
        "plt.ylabel('CQ filters')\n",
        "plt.title('CQ filter magnitudes (frequency domain)')\n",
        "plt.tight_layout()"
      ],
      "execution_count": 0,
      "outputs": []
    },
    {
      "cell_type": "markdown",
      "metadata": {
        "id": "7_yBbEjdIDhF",
        "colab_type": "text"
      },
      "source": [
        "###_multirate_fb\n",
        "[Ref link](https://librosa.github.io/librosa/generated/librosa.filters._multirate_fb.html#librosa-filters-multirate-fb)\n",
        "\n",
        "Helper function to construct a multirate filterbank.\n",
        "\n",
        "    A filter bank consists of multiple band-pass filters which divide the input signal into subbands. In the case of a multirate filter bank, the band-pass filters operate with resampled versions of the input signal, e.g. to keep the length of a filter constant while shifting its center frequency.\n",
        "\n",
        "    This implementation uses scipy.signal.iirdesign to design the filters."
      ]
    },
    {
      "cell_type": "code",
      "metadata": {
        "id": "3BSHAdCOIWpb",
        "colab_type": "code",
        "colab": {}
      },
      "source": [
        "#No example provided"
      ],
      "execution_count": 0,
      "outputs": []
    },
    {
      "cell_type": "markdown",
      "metadata": {
        "id": "oqWNCjW5Ifc7",
        "colab_type": "text"
      },
      "source": [
        "###semitone_filterbank\n",
        "[Ref link](https://librosa.github.io/librosa/generated/librosa.filters.semitone_filterbank.html#librosa-filters-semitone-filterbank)\n",
        "\n",
        "Constructs a multirate filterbank of infinite-impulse response (IIR) band-pass filters at user-defined center frequencies and sample rates.\n",
        "\n",
        "By default, these center frequencies are set equal to the 88 fundamental frequencies of the grand piano keyboard, according to a pitch tuning standard of A440, that is, note A above middle C set to 440 Hz. The center frequencies are tuned to the twelve-tone equal temperament, which means that they grow exponentially at a rate of 2**(1/12), that is, twelve notes per octave.\n",
        "\n",
        "The A440 tuning can be changed by the user while keeping twelve-tone equal temperament. While A440 is currently the international standard in the music industry (ISO 16), some orchestras tune to A441-A445, whereas baroque musicians tune to A415.\n",
        "\n",
        "See [1] for details."
      ]
    },
    {
      "cell_type": "code",
      "metadata": {
        "id": "lwVu8bqlIrYS",
        "colab_type": "code",
        "colab": {}
      },
      "source": [
        "import scipy.signal\n",
        "semitone_filterbank, sample_rates = librosa.filters.semitone_filterbank()\n",
        "plt.figure(figsize=(10, 6))\n",
        "for cur_sr, cur_filter in zip(sample_rates, semitone_filterbank):\n",
        "    w, h = scipy.signal.freqz(cur_filter[0], cur_filter[1], worN=2000)\n",
        "    plt.plot((cur_sr / (2 * np.pi)) * w, 20 * np.log10(abs(h)))\n",
        "plt.semilogx()\n",
        "plt.xlim([20, 10e3])\n",
        "plt.ylim([-60, 3])\n",
        "plt.title('Magnitude Responses of the Pitch Filterbank')\n",
        "plt.xlabel('Log-Frequency (Hz)')\n",
        "plt.ylabel('Magnitude (dB)')\n",
        "plt.tight_layout()"
      ],
      "execution_count": 0,
      "outputs": []
    },
    {
      "cell_type": "markdown",
      "metadata": {
        "id": "SxCAOWn1I37b",
        "colab_type": "text"
      },
      "source": [
        "##Window functions\n",
        "[Ref link](https://librosa.github.io/librosa/filters.html#window-functions)"
      ]
    },
    {
      "cell_type": "markdown",
      "metadata": {
        "id": "ztgEjDR6JJCA",
        "colab_type": "text"
      },
      "source": [
        "###window_bandwidth\n",
        "[Ref link](https://librosa.github.io/librosa/generated/librosa.filters.window_bandwidth.html#librosa-filters-window-bandwidth)\n",
        "\n",
        "Get the equivalent noise bandwidth of a window function."
      ]
    },
    {
      "cell_type": "code",
      "metadata": {
        "id": "eyCmhSg4JTEM",
        "colab_type": "code",
        "colab": {}
      },
      "source": [
        "# No example provided"
      ],
      "execution_count": 0,
      "outputs": []
    },
    {
      "cell_type": "markdown",
      "metadata": {
        "id": "h66dyPmEJZ57",
        "colab_type": "text"
      },
      "source": [
        "###get_window\n",
        "[Ref link](https://librosa.github.io/librosa/generated/librosa.filters.get_window.html#librosa-filters-get-window)\n",
        "\n",
        "Compute a window function.\n",
        "\n",
        "This is a wrapper for scipy.signal.get_window that additionally supports callable or pre-computed windows."
      ]
    },
    {
      "cell_type": "code",
      "metadata": {
        "id": "Bc9CKyouKMZc",
        "colab_type": "code",
        "colab": {}
      },
      "source": [
        "# No example provided"
      ],
      "execution_count": 0,
      "outputs": []
    },
    {
      "cell_type": "markdown",
      "metadata": {
        "id": "i7DFjpwgKSVB",
        "colab_type": "text"
      },
      "source": [
        "##Miscellaneous\n",
        "[Ref link](https://librosa.github.io/librosa/filters.html#miscellaneous)"
      ]
    },
    {
      "cell_type": "markdown",
      "metadata": {
        "id": "qnLA5zrXKdcP",
        "colab_type": "text"
      },
      "source": [
        "###constant_q_lengths\n",
        "[Ref link](https://librosa.github.io/librosa/generated/librosa.filters.constant_q_lengths.html#librosa-filters-constant-q-lengths)\n",
        "\n",
        "Return length of each filter in a constant-Q basis."
      ]
    },
    {
      "cell_type": "code",
      "metadata": {
        "id": "Q043lfP_KuXk",
        "colab_type": "code",
        "colab": {}
      },
      "source": [
        "# No example provided"
      ],
      "execution_count": 0,
      "outputs": []
    },
    {
      "cell_type": "markdown",
      "metadata": {
        "id": "yFwOPpCvK4oa",
        "colab_type": "text"
      },
      "source": [
        "###cq_to_chroma\n",
        "[Ref link](https://librosa.github.io/librosa/generated/librosa.filters.cq_to_chroma.html#librosa-filters-cq-to-chroma)\n",
        "\n",
        "Convert a Constant-Q basis to Chroma."
      ]
    },
    {
      "cell_type": "code",
      "metadata": {
        "id": "lqMfWrGDLLqP",
        "colab_type": "code",
        "colab": {}
      },
      "source": [
        "# Get a CQT, and wrap bins to chroma\n",
        "CQT = np.abs(librosa.cqt(y, sr=sr))\n",
        "chroma_map = librosa.filters.cq_to_chroma(CQT.shape[0])\n",
        "chromagram = chroma_map.dot(CQT)\n",
        "# Max-normalize each time step\n",
        "chromagram = librosa.util.normalize(chromagram, axis=0)"
      ],
      "execution_count": 0,
      "outputs": []
    },
    {
      "cell_type": "code",
      "metadata": {
        "id": "nTAH1JkCLj92",
        "colab_type": "code",
        "colab": {}
      },
      "source": [
        "plt.subplot(3, 1, 1)\n",
        "librosa.display.specshow(librosa.amplitude_to_db(CQT,\n",
        "                                                  ref=np.max),\n",
        "                          y_axis='cqt_note')\n",
        "plt.title('CQT Power')\n",
        "plt.colorbar()\n",
        "plt.subplot(3, 1, 2)\n",
        "librosa.display.specshow(chromagram, y_axis='chroma')\n",
        "plt.title('Chroma (wrapped CQT)')\n",
        "plt.colorbar()\n",
        "plt.subplot(3, 1, 3)\n",
        "chroma = librosa.feature.chroma_stft(y=y, sr=sr)\n",
        "librosa.display.specshow(chroma, y_axis='chroma', x_axis='time')\n",
        "plt.title('librosa.feature.chroma_stft')\n",
        "plt.colorbar()\n",
        "plt.tight_layout()"
      ],
      "execution_count": 0,
      "outputs": []
    },
    {
      "cell_type": "markdown",
      "metadata": {
        "id": "t7bcQRbwL6PV",
        "colab_type": "text"
      },
      "source": [
        "###mr_frequencies\n",
        "[Ref link](https://librosa.github.io/librosa/generated/librosa.filters.mr_frequencies.html#librosa-filters-mr-frequencies)\n",
        "\n",
        "Helper function for generating center frequency and sample rate pairs.\n",
        "\n",
        "This function will return center frequency and corresponding sample rates to obtain similar pitch filterbank settings as described in [1]. Instead of starting with MIDI pitch A0, we start with C0."
      ]
    },
    {
      "cell_type": "code",
      "metadata": {
        "id": "hrvgOuiwME2w",
        "colab_type": "code",
        "colab": {}
      },
      "source": [
        "# No example provided"
      ],
      "execution_count": 0,
      "outputs": []
    },
    {
      "cell_type": "markdown",
      "metadata": {
        "id": "25iptjUjMOwB",
        "colab_type": "text"
      },
      "source": [
        "###window_sumsquare\n",
        "[Ref link](https://librosa.github.io/librosa/generated/librosa.filters.window_sumsquare.html#librosa-filters-window-sumsquare)\n",
        "\n",
        "Compute the sum-square envelope of a window function at a given hop length.\n",
        "\n",
        "This is used to estimate modulation effects induced by windowing observations in short-time fourier transforms."
      ]
    },
    {
      "cell_type": "code",
      "metadata": {
        "id": "Vyw2B__GMtZr",
        "colab_type": "code",
        "colab": {}
      },
      "source": [
        "# For a fixed frame length (2048), compare modulation effects for a Hann window at different hop lengths:\n",
        "n_frames = 50\n",
        "wss_256 = librosa.filters.window_sumsquare('hann', n_frames, hop_length=256)\n",
        "wss_512 = librosa.filters.window_sumsquare('hann', n_frames, hop_length=512)\n",
        "wss_1024 = librosa.filters.window_sumsquare('hann', n_frames, hop_length=1024)"
      ],
      "execution_count": 0,
      "outputs": []
    },
    {
      "cell_type": "code",
      "metadata": {
        "id": "tB1qjyRwM8Ii",
        "colab_type": "code",
        "colab": {}
      },
      "source": [
        "plt.figure()\n",
        "plt.subplot(3,1,1)\n",
        "plt.plot(wss_256)\n",
        "plt.title('hop_length=256')\n",
        "plt.subplot(3,1,2)\n",
        "plt.plot(wss_512)\n",
        "plt.title('hop_length=512')\n",
        "plt.subplot(3,1,3)\n",
        "plt.plot(wss_1024)\n",
        "plt.title('hop_length=1024')\n",
        "plt.tight_layout()"
      ],
      "execution_count": 0,
      "outputs": []
    },
    {
      "cell_type": "markdown",
      "metadata": {
        "id": "y79Fux-Fm17m",
        "colab_type": "text"
      },
      "source": [
        "##Utilities\n",
        "[Ref link](https://librosa.github.io/librosa/util.html#utilities)"
      ]
    },
    {
      "cell_type": "markdown",
      "metadata": {
        "id": "aICFpTyHnB8s",
        "colab_type": "text"
      },
      "source": [
        "##Array operations\n",
        "[Ref link](https://librosa.github.io/librosa/util.html#array-operations)"
      ]
    },
    {
      "cell_type": "markdown",
      "metadata": {
        "id": "N7xpu8u3nVN-",
        "colab_type": "text"
      },
      "source": [
        "###frame\n",
        "[Ref link](https://librosa.github.io/librosa/generated/librosa.util.frame.html#librosa-util-frame)\n",
        "\n",
        "Slice a time series into overlapping frames.\n",
        "\n",
        "This implementation uses low-level stride manipulation to avoid redundant copies of the time series data."
      ]
    },
    {
      "cell_type": "code",
      "metadata": {
        "id": "vmIot_YKoWbc",
        "colab_type": "code",
        "colab": {}
      },
      "source": [
        "librosa.util.frame(y, frame_length=2048, hop_length=64)"
      ],
      "execution_count": 0,
      "outputs": []
    },
    {
      "cell_type": "markdown",
      "metadata": {
        "id": "hPVaN7biohY-",
        "colab_type": "text"
      },
      "source": [
        "###pad_center\n",
        "[Ref link](https://librosa.github.io/librosa/generated/librosa.util.pad_center.html#librosa-util-pad-center)\n",
        "\n",
        "Wrapper for np.pad to automatically center an array prior to padding. This is analogous to str.center()"
      ]
    },
    {
      "cell_type": "code",
      "metadata": {
        "id": "6bR5WmtiosGC",
        "colab_type": "code",
        "colab": {}
      },
      "source": [
        "# Generate a vector\n",
        "data = np.ones(5)\n",
        "librosa.util.pad_center(data, 10, mode='constant')"
      ],
      "execution_count": 0,
      "outputs": []
    },
    {
      "cell_type": "code",
      "metadata": {
        "id": "Etw6R-MBowUS",
        "colab_type": "code",
        "colab": {}
      },
      "source": [
        "# Pad a matrix along its first dimension\n",
        "data = np.ones((3, 5))\n",
        "librosa.util.pad_center(data, 7, axis=0)"
      ],
      "execution_count": 0,
      "outputs": []
    },
    {
      "cell_type": "code",
      "metadata": {
        "id": "pZOujOX_o0WF",
        "colab_type": "code",
        "colab": {}
      },
      "source": [
        "# Or its second dimension\n",
        "librosa.util.pad_center(data, 7, axis=1)"
      ],
      "execution_count": 0,
      "outputs": []
    },
    {
      "cell_type": "markdown",
      "metadata": {
        "id": "aCt9KArEpNdm",
        "colab_type": "text"
      },
      "source": [
        "###fix_length\n",
        "[Ref link](https://librosa.github.io/librosa/generated/librosa.util.fix_length.html#librosa-util-fix-length)\n",
        "\n",
        "Fix the length an array data to exactly size.\n",
        "\n",
        "If data.shape[axis] < n, pad according to the provided kwargs. By default, data is padded with trailing zeros."
      ]
    },
    {
      "cell_type": "code",
      "metadata": {
        "id": "ysoPGUUApXfy",
        "colab_type": "code",
        "colab": {}
      },
      "source": [
        "y = np.arange(7)\n",
        "# Default: pad with zeros\n",
        "librosa.util.fix_length(y, 10)\n",
        "\n",
        "# Trim to a desired length\n",
        "librosa.util.fix_length(y, 5)\n",
        "\n",
        "# Use edge-padding instead of zeros\n",
        "librosa.util.fix_length(y, 10, mode='edge')"
      ],
      "execution_count": 0,
      "outputs": []
    },
    {
      "cell_type": "markdown",
      "metadata": {
        "id": "Z8AIzblqpxVH",
        "colab_type": "text"
      },
      "source": [
        "###fix_frames\n",
        "[Ref link](https://librosa.github.io/librosa/generated/librosa.util.fix_frames.html#librosa-util-fix-frames)\n",
        "\n",
        "Fix a list of frames to lie within [x_min, x_max]"
      ]
    },
    {
      "cell_type": "code",
      "metadata": {
        "id": "eUVBlfNcp96l",
        "colab_type": "code",
        "colab": {}
      },
      "source": [
        "# Generate a list of frame indices\n",
        "frames = np.arange(0, 1000.0, 50)\n",
        "frames\n",
        "\n",
        "# Clip to span at most 250\n",
        "librosa.util.fix_frames(frames, x_max=250)\n",
        "\n",
        "# Or pad to span up to 2500\n",
        "librosa.util.fix_frames(frames, x_max=2500)\n",
        "\n",
        "librosa.util.fix_frames(frames, x_max=2500, pad=False)"
      ],
      "execution_count": 0,
      "outputs": []
    },
    {
      "cell_type": "code",
      "metadata": {
        "id": "Wc8kxentqJ5a",
        "colab_type": "code",
        "colab": {}
      },
      "source": [
        "# Or starting away from zero\n",
        "frames = np.arange(200, 500, 33)\n",
        "frames\n",
        "\n",
        "librosa.util.fix_frames(frames)\n",
        "\n",
        "librosa.util.fix_frames(frames, x_max=500)"
      ],
      "execution_count": 0,
      "outputs": []
    },
    {
      "cell_type": "markdown",
      "metadata": {
        "id": "qodMgPTkqVnR",
        "colab_type": "text"
      },
      "source": [
        "###index_to_slice\n",
        "[Ref link](https://librosa.github.io/librosa/generated/librosa.util.index_to_slice.html#librosa-util-index-to-slice)\n",
        "\n",
        "Generate a slice array from an index array."
      ]
    },
    {
      "cell_type": "code",
      "metadata": {
        "id": "T_7_LmEPqemJ",
        "colab_type": "code",
        "colab": {}
      },
      "source": [
        "# Generate slices from spaced indices\n",
        "librosa.util.index_to_slice(np.arange(20, 100, 15))\n",
        "\n",
        "# Pad to span the range (0, 100)\n",
        "librosa.util.index_to_slice(np.arange(20, 100, 15),\n",
        "                             idx_min=0, idx_max=100)\n",
        "\n",
        "# Use a step of 5 for each slice\n",
        "librosa.util.index_to_slice(np.arange(20, 100, 15),\n",
        "                             idx_min=0, idx_max=100, step=5)"
      ],
      "execution_count": 0,
      "outputs": []
    },
    {
      "cell_type": "markdown",
      "metadata": {
        "id": "owMZQsNCq2vb",
        "colab_type": "text"
      },
      "source": [
        "###softmask\n",
        "[Ref link](https://librosa.github.io/librosa/generated/librosa.util.softmask.html#librosa-util-softmask)\n",
        "\n",
        "Robustly compute a softmask operation.\n",
        "\n",
        "    M = X**power / (X**power + X_ref**power)"
      ]
    },
    {
      "cell_type": "code",
      "metadata": {
        "id": "QT46BznerCw0",
        "colab_type": "code",
        "colab": {}
      },
      "source": [
        "X = 2 * np.ones((3, 3))\n",
        "X_ref = np.vander(np.arange(3.0))\n",
        "X\n",
        "\n",
        "X_ref\n",
        "\n",
        "librosa.util.softmask(X, X_ref, power=1)\n",
        "\n",
        "librosa.util.softmask(X_ref, X, power=1)\n",
        "\n",
        "librosa.util.softmask(X, X_ref, power=2)\n",
        "\n",
        "librosa.util.softmask(X, X_ref, power=4)\n",
        "\n",
        "librosa.util.softmask(X, X_ref, power=100)\n",
        "\n",
        "librosa.util.softmask(X, X_ref, power=np.inf)"
      ],
      "execution_count": 0,
      "outputs": []
    },
    {
      "cell_type": "markdown",
      "metadata": {
        "id": "kbB64bhRrZsK",
        "colab_type": "text"
      },
      "source": [
        "###sync\n",
        "[Ref link](https://librosa.github.io/librosa/generated/librosa.util.sync.html#librosa-util-sync)\n",
        "\n",
        "Synchronous aggregation of a multi-dimensional array between boundaries\n",
        "\n",
        "\n",
        "\n",
        "Note\n",
        "\n",
        "In order to ensure total coverage, boundary points may be added to idx.\n",
        "\n",
        "If synchronizing a feature matrix against beat tracker output, ensure that frame index numbers are properly aligned and use the same hop length."
      ]
    },
    {
      "cell_type": "code",
      "metadata": {
        "id": "mwtBGxKarqZZ",
        "colab_type": "code",
        "colab": {}
      },
      "source": [
        "# Beat-synchronous CQT spectra\n",
        "y, sr = librosa.load(librosa.util.example_audio_file())\n",
        "tempo, beats = librosa.beat.beat_track(y=y, sr=sr, trim=False)\n",
        "C = np.abs(librosa.cqt(y=y, sr=sr))\n",
        "beats = librosa.util.fix_frames(beats, x_max=C.shape[1])"
      ],
      "execution_count": 0,
      "outputs": []
    },
    {
      "cell_type": "code",
      "metadata": {
        "id": "KME8sU9FsFhK",
        "colab_type": "code",
        "colab": {}
      },
      "source": [
        "# By default, use mean aggregation\n",
        "C_avg = librosa.util.sync(C, beats)"
      ],
      "execution_count": 0,
      "outputs": []
    },
    {
      "cell_type": "code",
      "metadata": {
        "id": "R2p20GBasQ2f",
        "colab_type": "code",
        "colab": {}
      },
      "source": [
        "# Use median-aggregation instead of mean\n",
        "C_med = librosa.util.sync(C, beats, aggregate=np.median)"
      ],
      "execution_count": 0,
      "outputs": []
    },
    {
      "cell_type": "code",
      "metadata": {
        "id": "SXSV7Z2vsXbO",
        "colab_type": "code",
        "colab": {}
      },
      "source": [
        "# Or sub-beat synchronization\n",
        "sub_beats = librosa.segment.subsegment(C, beats)\n",
        "sub_beats = librosa.util.fix_frames(sub_beats, x_max=C.shape[1])\n",
        "C_med_sub = librosa.util.sync(C, sub_beats, aggregate=np.median)"
      ],
      "execution_count": 0,
      "outputs": []
    },
    {
      "cell_type": "code",
      "metadata": {
        "id": "ZX4RK-hCseFQ",
        "colab_type": "code",
        "colab": {}
      },
      "source": [
        "# Plot the results\n",
        "beat_t = librosa.frames_to_time(beats, sr=sr)\n",
        "subbeat_t = librosa.frames_to_time(sub_beats, sr=sr)\n",
        "plt.figure()\n",
        "plt.subplot(3, 1, 1)\n",
        "librosa.display.specshow(librosa.amplitude_to_db(C,ref=np.max), x_axis='time')\n",
        "plt.title('CQT power, shape={}'.format(C.shape))\n",
        "plt.subplot(3, 1, 2)\n",
        "librosa.display.specshow(librosa.amplitude_to_db(C_med, ref=np.max), x_coords=beat_t, x_axis='time')\n",
        "plt.title('Beat synchronous CQT power, '\n",
        "          'shape={}'.format(C_med.shape))\n",
        "plt.subplot(3, 1, 3)\n",
        "librosa.display.specshow(librosa.amplitude_to_db(C_med_sub, ref=np.max), x_coords=subbeat_t, x_axis='time')\n",
        "# plt.title('Sub-beat synchronous CQT power, ' 'shape={}'.format(cqt_med_sub.shape)) #this line cause an exception\n",
        "plt.tight_layout()"
      ],
      "execution_count": 0,
      "outputs": []
    },
    {
      "cell_type": "markdown",
      "metadata": {
        "id": "44rNb9MRumZv",
        "colab_type": "text"
      },
      "source": [
        "###axis_sort\n",
        "[Ref link](https://librosa.github.io/librosa/generated/librosa.util.axis_sort.html#librosa-util-axis-sort)\n",
        "\n",
        "Sort an array along its rows or columns."
      ]
    },
    {
      "cell_type": "code",
      "metadata": {
        "id": "C0uflcj2uwEq",
        "colab_type": "code",
        "colab": {}
      },
      "source": [
        "# Visualize NMF output for a spectrogram S\n",
        "# Sort the columns of W by peak frequency bin\n",
        "S = np.abs(librosa.stft(y))\n",
        "W, H = librosa.decompose.decompose(S, n_components=32)\n",
        "W_sort = librosa.util.axis_sort(W)"
      ],
      "execution_count": 0,
      "outputs": []
    },
    {
      "cell_type": "code",
      "metadata": {
        "id": "17xJGi3Ku4y_",
        "colab_type": "code",
        "colab": {}
      },
      "source": [
        "# Or sort by the lowest frequency bin\n",
        "W_sort = librosa.util.axis_sort(W, value=np.argmin)"
      ],
      "execution_count": 0,
      "outputs": []
    },
    {
      "cell_type": "code",
      "metadata": {
        "id": "eIii9n19vGc4",
        "colab_type": "code",
        "colab": {}
      },
      "source": [
        "# Or sort the rows instead of the columns\n",
        "W_sort_rows = librosa.util.axis_sort(W, axis=0)"
      ],
      "execution_count": 0,
      "outputs": []
    },
    {
      "cell_type": "code",
      "metadata": {
        "id": "99H6HbnFvLFz",
        "colab_type": "code",
        "colab": {}
      },
      "source": [
        "# Get the sorting index also, and use it to permute the rows of H\n",
        "W_sort, idx = librosa.util.axis_sort(W, index=True)\n",
        "H_sort = H[idx, :]"
      ],
      "execution_count": 0,
      "outputs": []
    },
    {
      "cell_type": "code",
      "metadata": {
        "id": "1bY4BXqVvSa0",
        "colab_type": "code",
        "colab": {}
      },
      "source": [
        "plt.figure()\n",
        "plt.subplot(2, 2, 1)\n",
        "librosa.display.specshow(librosa.amplitude_to_db(W, ref=np.max), y_axis='log')\n",
        "plt.title('W')\n",
        "plt.subplot(2, 2, 2)\n",
        "librosa.display.specshow(H, x_axis='time')\n",
        "plt.title('H')\n",
        "plt.subplot(2, 2, 3)\n",
        "librosa.display.specshow(librosa.amplitude_to_db(W_sort, ref=np.max), y_axis='log')\n",
        "plt.title('W sorted')\n",
        "plt.subplot(2, 2, 4)\n",
        "librosa.display.specshow(H_sort, x_axis='time')\n",
        "plt.title('H sorted')\n",
        "plt.tight_layout()\n"
      ],
      "execution_count": 0,
      "outputs": []
    },
    {
      "cell_type": "markdown",
      "metadata": {
        "id": "08uohSpEvsP3",
        "colab_type": "text"
      },
      "source": [
        "###normalize\n",
        "[Ref link](https://librosa.github.io/librosa/generated/librosa.util.normalize.html#librosa-util-normalize)\n",
        "\n",
        "Normalize an array along a chosen axis.\n",
        "\n",
        "Given a norm (described below) and a target axis, the input array is scaled so that\n",
        "\n",
        "    norm(S, axis=axis) == 1\n",
        "\n",
        "For example, axis=0 normalizes each column of a 2-d array by aggregating over the rows (0-axis). Similarly, axis=1 normalizes each row of a 2-d array.\n",
        "\n",
        "This function also supports thresholding small-norm slices: any slice (i.e., row or column) with norm below a specified threshold can be left un-normalized, set to all-zeros, or filled with uniform non-zero values that normalize to 1.\n",
        "\n",
        "Note: the semantics of this function differ from scipy.linalg.norm in two ways: multi-dimensional arrays are supported, but matrix-norms are not."
      ]
    },
    {
      "cell_type": "code",
      "metadata": {
        "id": "o5b-xX06v5MB",
        "colab_type": "code",
        "colab": {}
      },
      "source": [
        "# Construct an example matrix\n",
        "S = np.vander(np.arange(-2.0, 2.0))\n",
        "S\n",
        "\n",
        "# Max (l-infinity)-normalize the columns\n",
        "librosa.util.normalize(S)\n",
        "\n",
        "# Max (l-infinity)-normalize the rows\n",
        "librosa.util.normalize(S, axis=1)\n",
        "\n",
        "# l1-normalize the columns\n",
        "librosa.util.normalize(S, norm=1)\n",
        "\n",
        "# l2-normalize the columns\n",
        "librosa.util.normalize(S, norm=2)"
      ],
      "execution_count": 0,
      "outputs": []
    },
    {
      "cell_type": "code",
      "metadata": {
        "id": "JB2JuOkpwFmi",
        "colab_type": "code",
        "colab": {}
      },
      "source": [
        "# Thresholding and filling\n",
        "S[:, -1] = 1e-308\n",
        "S"
      ],
      "execution_count": 0,
      "outputs": []
    },
    {
      "cell_type": "code",
      "metadata": {
        "id": "wNxg9-cqwOPx",
        "colab_type": "code",
        "colab": {}
      },
      "source": [
        "# By default, small-norm columns are left untouched\n",
        "librosa.util.normalize(S)\n",
        "\n",
        "# Small-norm columns can be zeroed out\n",
        "librosa.util.normalize(S, fill=False)\n",
        "\n",
        "# Or set to constant with unit-norm\n",
        "librosa.util.normalize(S, fill=True)\n",
        "\n",
        "# With an l1 norm instead of max-norm\n",
        "librosa.util.normalize(S, norm=1, fill=True)"
      ],
      "execution_count": 0,
      "outputs": []
    },
    {
      "cell_type": "markdown",
      "metadata": {
        "id": "feqsqB9twu-S",
        "colab_type": "text"
      },
      "source": [
        "###roll_sparse\n",
        "[Ref link](https://librosa.github.io/librosa/generated/librosa.util.roll_sparse.html#librosa-util-roll-sparse)\n",
        "\n",
        "Sparse matrix roll\n",
        "\n",
        "This operation is equivalent to numpy.roll, but operates on sparse matrices."
      ]
    },
    {
      "cell_type": "code",
      "metadata": {
        "id": "82e14Q1LzVE9",
        "colab_type": "code",
        "colab": {}
      },
      "source": [
        "# Generate a random sparse binary matrix\n",
        "X = scipy.sparse.lil_matrix(np.random.randint(0, 2, size=(5,5)))\n",
        "X_roll = librosa.util.roll_sparse(X, 2, axis=0)  # Roll by 2 on the first axis\n",
        "X_dense_r = librosa.util.roll_sparse(X.toarray(), 2, axis=0)  # Equivalent dense roll\n",
        "np.allclose(X_roll, X_dense_r.toarray()) #this line throws and exception"
      ],
      "execution_count": 0,
      "outputs": []
    },
    {
      "cell_type": "markdown",
      "metadata": {
        "id": "yVObG7guzrs6",
        "colab_type": "text"
      },
      "source": [
        "###sparsify_rows\n",
        "[Ref link](https://librosa.github.io/librosa/generated/librosa.util.sparsify_rows.html#librosa-util-sparsify-rows)\n",
        "\n",
        "Return a row-sparse matrix approximating the input x."
      ]
    },
    {
      "cell_type": "code",
      "metadata": {
        "id": "OcBa27Zpz2CW",
        "colab_type": "code",
        "colab": {}
      },
      "source": [
        "# Construct a Hann window to sparsify\n",
        "x = scipy.signal.hann(32)\n",
        "x\n",
        "\n",
        "# Discard the bottom percentile\n",
        "x_sparse = librosa.util.sparsify_rows(x, quantile=0.01)\n",
        "x_sparse\n",
        "\n",
        "x_sparse.todense()\n",
        "\n",
        "# Discard up to the bottom 10th percentile\n",
        "x_sparse = librosa.util.sparsify_rows(x, quantile=0.1)\n",
        "x_sparse\n",
        "\n",
        "x_sparse.todense()"
      ],
      "execution_count": 0,
      "outputs": []
    },
    {
      "cell_type": "markdown",
      "metadata": {
        "id": "PNkxdPhZ0Oug",
        "colab_type": "text"
      },
      "source": [
        "###buf_to_float\n",
        "[Ref link](https://librosa.github.io/librosa/generated/librosa.util.buf_to_float.html#librosa-util-buf-to-float)\n",
        "\n",
        "Convert an integer buffer to floating point values. This is primarily useful when loading integer-valued wav data into numpy arrays."
      ]
    },
    {
      "cell_type": "code",
      "metadata": {
        "id": "I_JTfPcL0ZU0",
        "colab_type": "code",
        "colab": {}
      },
      "source": [
        "# No example code provided"
      ],
      "execution_count": 0,
      "outputs": []
    },
    {
      "cell_type": "markdown",
      "metadata": {
        "id": "4LMAxnDD0fny",
        "colab_type": "text"
      },
      "source": [
        "###tiny\n",
        "[Ref link](https://librosa.github.io/librosa/generated/librosa.util.tiny.html#librosa-util-tiny)\n",
        "\n",
        "Compute the tiny-value corresponding to an input’s data type.\n",
        "\n",
        "This is the smallest “usable” number representable in x’s data type (e.g., float32).\n",
        "\n",
        "This is primarily useful for determining a threshold for numerical underflow in division or multiplication operations."
      ]
    },
    {
      "cell_type": "code",
      "metadata": {
        "id": "4XaTKLlU0sT2",
        "colab_type": "code",
        "colab": {}
      },
      "source": [
        "# For a standard double-precision floating point number:\n",
        "librosa.util.tiny(1.0)"
      ],
      "execution_count": 0,
      "outputs": []
    },
    {
      "cell_type": "code",
      "metadata": {
        "id": "A53UKBHT1Gmz",
        "colab_type": "code",
        "colab": {}
      },
      "source": [
        "# Or explicitly as double-precision\n",
        "librosa.util.tiny(np.asarray(1e-5, dtype=np.float64))"
      ],
      "execution_count": 0,
      "outputs": []
    },
    {
      "cell_type": "code",
      "metadata": {
        "id": "CD1I2UYO1O2X",
        "colab_type": "code",
        "colab": {}
      },
      "source": [
        "# Or complex numbers\n",
        "librosa.util.tiny(1j)"
      ],
      "execution_count": 0,
      "outputs": []
    },
    {
      "cell_type": "code",
      "metadata": {
        "id": "z8xCk0qr1UGs",
        "colab_type": "code",
        "colab": {}
      },
      "source": [
        "# Single-precision floating point:\n",
        "librosa.util.tiny(np.asarray(1e-5, dtype=np.float32))"
      ],
      "execution_count": 0,
      "outputs": []
    },
    {
      "cell_type": "code",
      "metadata": {
        "id": "xTIx1DVz1bBQ",
        "colab_type": "code",
        "colab": {}
      },
      "source": [
        "# Integer\n",
        "librosa.util.tiny(5)"
      ],
      "execution_count": 0,
      "outputs": []
    },
    {
      "cell_type": "markdown",
      "metadata": {
        "id": "ecNnp1Vx2Whf",
        "colab_type": "text"
      },
      "source": [
        "##Matching\n",
        "[Ref link](https://librosa.github.io/librosa/util.html#matching)"
      ]
    },
    {
      "cell_type": "markdown",
      "metadata": {
        "id": "dSvgmUQG2iTo",
        "colab_type": "text"
      },
      "source": [
        "###match_intervals\n",
        "[Ref link](https://librosa.github.io/librosa/generated/librosa.util.match_intervals.html#librosa-util-match-intervals)\n",
        "\n",
        "Match one set of time intervals to another.\n",
        "\n",
        "This can be useful for tasks such as mapping beat timings to segments.\n",
        "\n",
        "Each element [a, b] of intervals_from is matched to the element [c, d] of intervals_to which maximizes the Jaccard similarity between the intervals:\n",
        "\n",
        "    max(0, |min(b, d) - max(a, c)|) / |max(d, b) - min(a, c)|\n",
        "\n",
        "In strict=True mode, if there is no interval with positive intersection with [a,b], an exception is thrown.\n",
        "\n",
        "In strict=False mode, any interval [a, b] that has no intersection with any element of intervals_to is instead matched to the interval [c, d] which minimizes\n",
        "\n",
        "    min(|b - c|, |a - d|)\n",
        "\n",
        "that is, the disjoint interval [c, d] with a boundary closest to [a, b].\n",
        "\n",
        "\n",
        "Note\n",
        "\n",
        "An element of intervals_to may be matched to multiple entries of intervals_from."
      ]
    },
    {
      "cell_type": "code",
      "metadata": {
        "id": "F6CMnHdL20C3",
        "colab_type": "code",
        "colab": {}
      },
      "source": [
        "ints_from = np.array([[3, 5], [1, 4], [4, 5]])\n",
        "ints_to = np.array([[0, 2], [1, 3], [4, 5], [6, 7]])\n",
        "librosa.util.match_intervals(ints_from, ints_to)\n",
        "\n",
        "# [3, 5] => [4, 5]  (ints_to[2])\n",
        "# [1, 4] => [1, 3]  (ints_to[1])\n",
        "# [4, 5] => [4, 5]  (ints_to[2])"
      ],
      "execution_count": 0,
      "outputs": []
    },
    {
      "cell_type": "markdown",
      "metadata": {
        "id": "mn2DcYti29vn",
        "colab_type": "text"
      },
      "source": [
        "The reverse matching of the above is not possible in strict mode because [6, 7] is disjoint from all intervals in ints_from. With strict=False, we get the following: >>> librosa.util.match_intervals(ints_to, ints_from, strict=False) array([1, 1, 2, 2], dtype=uint32) >>> # [0, 2] => [1, 4] (ints_from[1]) >>> # [1, 3] => [1, 4] (ints_from[1]) >>> # [4, 5] => [4, 5] (ints_from[2]) >>> # [6, 7] => [4, 5] (ints_from[2])"
      ]
    },
    {
      "cell_type": "markdown",
      "metadata": {
        "id": "XLsWl-dz3Dp_",
        "colab_type": "text"
      },
      "source": [
        "###match_events\n",
        "[Ref link](https://librosa.github.io/librosa/generated/librosa.util.match_events.html#librosa-util-match-events)\n",
        "\n",
        "Match one set of events to another.\n",
        "\n",
        "This is useful for tasks such as matching beats to the nearest detected onsets, or frame-aligned events to the nearest zero-crossing.\n",
        "\n",
        "\n",
        "Note\n",
        "\n",
        "A target event may be matched to multiple source events."
      ]
    },
    {
      "cell_type": "code",
      "metadata": {
        "id": "BA8eSwYd3Rxa",
        "colab_type": "code",
        "colab": {
          "base_uri": "https://localhost:8080/",
          "height": 34
        },
        "outputId": "95b221a5-2065-469a-fafc-09d24663cb56"
      },
      "source": [
        "# Sources are multiples of 7\n",
        "s_from = np.arange(0, 100, 7)\n",
        "s_from\n",
        "\n",
        "# Targets are multiples of 10\n",
        "s_to = np.arange(0, 100, 10)\n",
        "s_to\n",
        "\n",
        "# Find the matching\n",
        "idx = librosa.util.match_events(s_from, s_to)\n",
        "idx\n",
        "\n",
        "# Print each source value to its matching target\n",
        "zip(s_from, s_to[idx])"
      ],
      "execution_count": 44,
      "outputs": [
        {
          "output_type": "execute_result",
          "data": {
            "text/plain": [
              "<zip at 0x7fedec5fff88>"
            ]
          },
          "metadata": {
            "tags": []
          },
          "execution_count": 44
        }
      ]
    },
    {
      "cell_type": "markdown",
      "metadata": {
        "id": "kvQrd9MD5X5i",
        "colab_type": "text"
      },
      "source": [
        "##Miscellaneous\n",
        "[Ref link](https://librosa.github.io/librosa/util.html#miscellaneous)"
      ]
    },
    {
      "cell_type": "markdown",
      "metadata": {
        "id": "ZRGgKJPL5kwO",
        "colab_type": "text"
      },
      "source": [
        "###localmax\n",
        "[Ref link](https://librosa.github.io/librosa/generated/librosa.util.localmax.html#librosa-util-localmax)\n",
        "\n",
        "Find local maxima in an array x.\n",
        "\n",
        "An element x[i] is considered a local maximum if the following conditions are met:\n",
        "\n",
        "    x[i] > x[i-1]\n",
        "    x[i] >= x[i+1]\n",
        "\n",
        "Note that the first condition is strict, and that the first element x[0] will never be considered as a local maximum."
      ]
    },
    {
      "cell_type": "code",
      "metadata": {
        "id": "ID3nDiDL5kJJ",
        "colab_type": "code",
        "colab": {}
      },
      "source": [
        "x = np.array([1, 0, 1, 2, -1, 0, -2, 1])\n",
        "librosa.util.localmax(x)"
      ],
      "execution_count": 0,
      "outputs": []
    },
    {
      "cell_type": "code",
      "metadata": {
        "id": "2_oyjWGX501p",
        "colab_type": "code",
        "colab": {}
      },
      "source": [
        "# Two-dimensional example\n",
        "x = np.array([[1,0,1], [2, -1, 0], [2, 1, 3]])\n",
        "librosa.util.localmax(x, axis=0)\n",
        "\n",
        "librosa.util.localmax(x, axis=1)"
      ],
      "execution_count": 0,
      "outputs": []
    },
    {
      "cell_type": "markdown",
      "metadata": {
        "id": "yflrc_WY5_uB",
        "colab_type": "text"
      },
      "source": [
        "###peak_pick\n",
        "[Ref link](https://librosa.github.io/librosa/generated/librosa.util.peak_pick.html#librosa-util-peak-pick)\n",
        "\n",
        "Uses a flexible heuristic to pick peaks in a signal.\n",
        "\n",
        "A sample n is selected as an peak if the corresponding x[n] fulfills the following three conditions:\n",
        "\n",
        "    x[n] == max(x[n - pre_max:n + post_max])\n",
        "    x[n] >= mean(x[n - pre_avg:n + post_avg]) + delta\n",
        "    n - previous_n > wait\n",
        "\n",
        "where previous_n is the last sample picked as a peak (greedily).\n",
        "\n",
        "This implementation is based on [1] and [2]."
      ]
    },
    {
      "cell_type": "code",
      "metadata": {
        "id": "p4b8mzp_6LmO",
        "colab_type": "code",
        "colab": {}
      },
      "source": [
        "onset_env = librosa.onset.onset_strength(y=y, sr=sr, hop_length=512, aggregate=np.median)\n",
        "peaks = librosa.util.peak_pick(onset_env, 3, 3, 3, 5, 0.5, 10)\n",
        "peaks"
      ],
      "execution_count": 0,
      "outputs": []
    },
    {
      "cell_type": "code",
      "metadata": {
        "id": "_OHulZLs6S6Z",
        "colab_type": "code",
        "colab": {}
      },
      "source": [
        "times = librosa.frames_to_time(np.arange(len(onset_env)),\n",
        "                                sr=sr, hop_length=512)\n",
        "plt.figure()\n",
        "ax = plt.subplot(2, 1, 2)\n",
        "D = librosa.stft(y)\n",
        "librosa.display.specshow(librosa.amplitude_to_db(D, ref=np.max),\n",
        "                          y_axis='log', x_axis='time')\n",
        "plt.subplot(2, 1, 1, sharex=ax)\n",
        "plt.plot(times, onset_env, alpha=0.8, label='Onset strength')\n",
        "plt.vlines(times[peaks], 0,\n",
        "            onset_env.max(), color='r', alpha=0.8,\n",
        "            label='Selected peaks')\n",
        "plt.legend(frameon=True, framealpha=0.8)\n",
        "plt.axis('tight')\n",
        "plt.tight_layout()"
      ],
      "execution_count": 0,
      "outputs": []
    },
    {
      "cell_type": "markdown",
      "metadata": {
        "id": "j2R2eNxr6o2B",
        "colab_type": "text"
      },
      "source": [
        "##Input validation\n",
        "[Ref link](https://librosa.github.io/librosa/util.html#input-validation)"
      ]
    },
    {
      "cell_type": "markdown",
      "metadata": {
        "id": "3Rcfl-Yf60yL",
        "colab_type": "text"
      },
      "source": [
        "###valid_audio\n",
        "[Ref link](https://librosa.github.io/librosa/generated/librosa.util.valid_audio.html#librosa-util-valid-audio)\n",
        "\n",
        "Validate whether a variable contains valid, mono audio data."
      ]
    },
    {
      "cell_type": "code",
      "metadata": {
        "id": "vgYBjGaw6_C6",
        "colab_type": "code",
        "colab": {}
      },
      "source": [
        "# Only allow monophonic signals\n",
        "librosa.util.valid_audio(y)"
      ],
      "execution_count": 0,
      "outputs": []
    },
    {
      "cell_type": "code",
      "metadata": {
        "id": "btZgDOX07F6a",
        "colab_type": "code",
        "colab": {}
      },
      "source": [
        "# If we want to allow stereo signals\n",
        "y, sr = librosa.load(librosa.util.example_audio_file(), mono=False)\n",
        "librosa.util.valid_audio(y, mono=False)"
      ],
      "execution_count": 0,
      "outputs": []
    },
    {
      "cell_type": "markdown",
      "metadata": {
        "id": "E9BP44Ij7Pxc",
        "colab_type": "text"
      },
      "source": [
        "###valid_int\n",
        "[Ref link](https://librosa.github.io/librosa/generated/librosa.util.valid_int.html#librosa-util-valid-int)\n",
        "\n",
        "Ensure that an input value is integer-typed. This is primarily useful for ensuring integrable-valued array indices."
      ]
    },
    {
      "cell_type": "code",
      "metadata": {
        "id": "oFXvkvF47bq5",
        "colab_type": "code",
        "colab": {}
      },
      "source": [
        "# No example code provided"
      ],
      "execution_count": 0,
      "outputs": []
    },
    {
      "cell_type": "markdown",
      "metadata": {
        "id": "4cs55t_-7hgT",
        "colab_type": "text"
      },
      "source": [
        "###valid_intervals\n",
        "[Ref link](https://librosa.github.io/librosa/generated/librosa.util.valid_intervals.html#librosa-util-valid-intervals)\n",
        "\n",
        "Ensure that an array is a valid representation of time intervals:\n",
        "\n",
        "        intervals.ndim == 2\n",
        "        intervals.shape[1] == 2\n",
        "        intervals[i, 0] <= intervals[i, 1] for all i"
      ]
    },
    {
      "cell_type": "code",
      "metadata": {
        "id": "rkj64sou7siT",
        "colab_type": "code",
        "colab": {}
      },
      "source": [
        "# No example code provided"
      ],
      "execution_count": 0,
      "outputs": []
    },
    {
      "cell_type": "markdown",
      "metadata": {
        "id": "uYp93fkz754d",
        "colab_type": "text"
      },
      "source": [
        "##File operations\n",
        "[Ref link](https://librosa.github.io/librosa/util.html#file-operations)"
      ]
    },
    {
      "cell_type": "markdown",
      "metadata": {
        "id": "aU0kdtbJ8BUr",
        "colab_type": "text"
      },
      "source": [
        "###example_audio_file\n",
        "[Ref link](https://librosa.github.io/librosa/generated/librosa.util.example_audio_file.html#librosa-util-example-audio-file)\n",
        "\n",
        "Get the path to an included audio example file."
      ]
    },
    {
      "cell_type": "code",
      "metadata": {
        "id": "f5v3t6cb8eAJ",
        "colab_type": "code",
        "colab": {}
      },
      "source": [
        "# Load the waveform from the example track\n",
        "y, sr = librosa.load(librosa.util.example_audio_file())"
      ],
      "execution_count": 0,
      "outputs": []
    },
    {
      "cell_type": "markdown",
      "metadata": {
        "id": "uOjxJl-R8jOq",
        "colab_type": "text"
      },
      "source": [
        "##find_files\n",
        "[Ref link](https://librosa.github.io/librosa/generated/librosa.util.find_files.html#librosa-util-find-files)\n",
        "\n",
        "Get a sorted list of (audio) files in a directory or directory sub-tree."
      ]
    },
    {
      "cell_type": "code",
      "metadata": {
        "id": "wuoulNSS8wMx",
        "colab_type": "code",
        "colab": {}
      },
      "source": [
        "# Get all audio files in a directory sub-tree\n",
        "files = librosa.util.find_files('~/Music')"
      ],
      "execution_count": 0,
      "outputs": []
    },
    {
      "cell_type": "code",
      "metadata": {
        "id": "nCZL7vpZ80Xd",
        "colab_type": "code",
        "colab": {}
      },
      "source": [
        " # Look only within a specific directory, not the sub-tree\n",
        "files = librosa.util.find_files('~/Music', recurse=False)"
      ],
      "execution_count": 0,
      "outputs": []
    },
    {
      "cell_type": "code",
      "metadata": {
        "id": "RhL9KQQe85IW",
        "colab_type": "code",
        "colab": {}
      },
      "source": [
        "# Only look for mp3 files\n",
        "files = librosa.util.find_files('~/Music', ext='mp3')"
      ],
      "execution_count": 0,
      "outputs": []
    },
    {
      "cell_type": "code",
      "metadata": {
        "id": "2Fz_kKv389La",
        "colab_type": "code",
        "colab": {}
      },
      "source": [
        "# Or just mp3 and ogg\n",
        "files = librosa.util.find_files('~/Music', ext=['mp3', 'ogg'])"
      ],
      "execution_count": 0,
      "outputs": []
    },
    {
      "cell_type": "code",
      "metadata": {
        "id": "AXBI5cFH9Apu",
        "colab_type": "code",
        "colab": {}
      },
      "source": [
        "# Only get the first 10 files\n",
        "files = librosa.util.find_files('~/Music', limit=10)"
      ],
      "execution_count": 0,
      "outputs": []
    },
    {
      "cell_type": "code",
      "metadata": {
        "id": "rWmQqn_l9D8X",
        "colab_type": "code",
        "colab": {}
      },
      "source": [
        "# Or last 10 files\n",
        "files = librosa.util.find_files('~/Music', offset=-10)"
      ],
      "execution_count": 0,
      "outputs": []
    },
    {
      "cell_type": "markdown",
      "metadata": {
        "id": "9AIJo-mk1iQD",
        "colab_type": "text"
      },
      "source": [
        "##Plot spectrum FFT\n",
        "\n",
        "[Ref link](https://librosa.github.io/librosa/generated/librosa.feature.chroma_stft.html#librosa-feature-chroma-stft)\n",
        "\n"
      ]
    },
    {
      "cell_type": "code",
      "metadata": {
        "id": "43mVh34-L2Vj",
        "colab_type": "code",
        "colab": {}
      },
      "source": [
        "#Spectrum Analysis - fourier transform and frequency domain\n",
        "# Ref:https://makersportal.com/blog/2018/9/13/audio-processing-in-python-part-i-sampling-and-the-fast-fourier-transform\n",
        "Y_k = np.fft.fft(y)"
      ],
      "execution_count": 0,
      "outputs": []
    },
    {
      "cell_type": "code",
      "metadata": {
        "id": "D-3uXqv0L6C-",
        "colab_type": "code",
        "colab": {}
      },
      "source": [
        "# sampling information\n",
        "Fs = sr # sample rate\n",
        "T = 1/Fs # sampling period\n",
        "t = librosa.get_duration(y=y, sr=sr) # seconds of sampling\n",
        "N = Fs*t-1 # total points in signal\n",
        "\n",
        "f = Fs*np.arange((N/2))/N; # frequency vector\n",
        "\n",
        "Y_k = Y_k[0:int(N/2)]/N # FFT function from numpy\n",
        "Y_k[1:] = 2*Y_k[1:] # need to take the single-sided spectrum only\n",
        "Pxx = np.abs(Y_k) # be sure to get rid of imaginary part\n",
        "\n",
        "\n",
        "# print(Pxx)"
      ],
      "execution_count": 0,
      "outputs": []
    },
    {
      "cell_type": "code",
      "metadata": {
        "id": "tSNw7kRE1g1g",
        "colab_type": "code",
        "colab": {}
      },
      "source": [
        "# Adjust plot size\n",
        "plt.rcParams['figure.figsize'] = [20, 10]\n",
        "# plotting\n",
        "fig,ax = plt.subplots()\n",
        "plt.plot(f,Pxx,linewidth=1)\n",
        "ax.set_xscale('log')\n",
        "ax.set_yscale('log')\n",
        "plt.ylabel('Amplitude')\n",
        "plt.xlabel('Frequency [Hz]')\n",
        "plt.grid(True, which='both')\n",
        "plt.xlim([.3,10000]) #limit range of X axis\n",
        "plt.show()"
      ],
      "execution_count": 0,
      "outputs": []
    }
  ]
}